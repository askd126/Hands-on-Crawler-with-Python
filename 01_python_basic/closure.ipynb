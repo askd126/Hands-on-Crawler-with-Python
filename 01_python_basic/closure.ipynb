{
 "cells": [
  {
   "cell_type": "code",
   "execution_count": 1,
   "id": "initial_id",
   "metadata": {
    "collapsed": true,
    "ExecuteTime": {
     "end_time": "2023-11-12T14:02:12.281691300Z",
     "start_time": "2023-11-12T14:02:12.219685Z"
    }
   },
   "outputs": [
    {
     "name": "stdout",
     "output_type": "stream",
     "text": [
      "1\n"
     ]
    }
   ],
   "source": [
    "# -*- coding: utf-8 -*-\n",
    "\n",
    "'''\n",
    "@Author   :   Corley Tang\n",
    "@contact  :   cutercorleytd@gmail.com\n",
    "@Github   :   https://github.com/corleytd\n",
    "@Time     :   2023-11-12 17:48\n",
    "@Project  :   Hands-on Crawler with Python-closure\n",
    "闭包\n",
    "'''\n",
    "\n",
    "\n",
    "# 简单闭包举例\n",
    "def f1():\n",
    "    a = 1\n",
    "\n",
    "    def f1_inner():\n",
    "        print(a)\n",
    "\n",
    "    return f1_inner\n",
    "\n",
    "\n",
    "func = f1()  # f1_inner函数\n",
    "func()  # f1_inner可以访问定义体之外的非全局变量a，所以构成闭包，a对函数f1_inner来说是一个自由变量"
   ]
  },
  {
   "cell_type": "code",
   "execution_count": 2,
   "outputs": [
    {
     "data": {
      "text/plain": "47.0"
     },
     "execution_count": 2,
     "metadata": {},
     "output_type": "execute_result"
    }
   ],
   "source": [
    "# 利用闭包实现累计计算均值\n",
    "def make_avg():\n",
    "    nums = []\n",
    "\n",
    "    def avg(num):\n",
    "        nums.append(num)\n",
    "        return sum(nums) / len(nums)\n",
    "\n",
    "    return avg\n",
    "\n",
    "\n",
    "avg = make_avg()\n",
    "avg(47)"
   ],
   "metadata": {
    "collapsed": false,
    "ExecuteTime": {
     "end_time": "2023-11-12T14:02:12.281691300Z",
     "start_time": "2023-11-12T14:02:12.251690600Z"
    }
   },
   "id": "ebd67481b421c6a4"
  },
  {
   "cell_type": "code",
   "execution_count": 3,
   "outputs": [
    {
     "data": {
      "text/plain": "37.5"
     },
     "execution_count": 3,
     "metadata": {},
     "output_type": "execute_result"
    }
   ],
   "source": [
    "avg(28)"
   ],
   "metadata": {
    "collapsed": false,
    "ExecuteTime": {
     "end_time": "2023-11-12T14:02:12.296703Z",
     "start_time": "2023-11-12T14:02:12.281691300Z"
    }
   },
   "id": "bf6fa38441518cdf"
  },
  {
   "cell_type": "code",
   "execution_count": 4,
   "outputs": [
    {
     "data": {
      "text/plain": "42.0"
     },
     "execution_count": 4,
     "metadata": {},
     "output_type": "execute_result"
    }
   ],
   "source": [
    "avg(51)"
   ],
   "metadata": {
    "collapsed": false,
    "ExecuteTime": {
     "end_time": "2023-11-12T14:02:12.402684200Z",
     "start_time": "2023-11-12T14:02:12.297688600Z"
    }
   },
   "id": "99631fa000c47045"
  },
  {
   "cell_type": "code",
   "execution_count": 5,
   "outputs": [
    {
     "data": {
      "text/plain": "34.25"
     },
     "execution_count": 5,
     "metadata": {},
     "output_type": "execute_result"
    }
   ],
   "source": [
    "avg(11)  # 实现累计计算一系列数的均值"
   ],
   "metadata": {
    "collapsed": false,
    "ExecuteTime": {
     "end_time": "2023-11-12T14:02:12.404688800Z",
     "start_time": "2023-11-12T14:02:12.313687200Z"
    }
   },
   "id": "4a43017350bc454c"
  },
  {
   "cell_type": "code",
   "execution_count": 6,
   "outputs": [
    {
     "data": {
      "text/plain": "<code object avg at 0x0000027D5F4472F0, file \"C:\\Users\\LENOVO\\AppData\\Local\\Temp\\ipykernel_22228\\845820950.py\", line 5>"
     },
     "execution_count": 6,
     "metadata": {},
     "output_type": "execute_result"
    }
   ],
   "source": [
    "# 使用魔法函数查看闭包属性\n",
    "avg.__code__  # 编译后的函数定义体，即函数的引用到代码对象，包含了与该函数相关的Python字节码及其他相关信息，代码对象在Python中是用来存储可执行代码的基本单元，它们包含了字节码、常量、变量名等相关的数据"
   ],
   "metadata": {
    "collapsed": false,
    "ExecuteTime": {
     "end_time": "2023-11-12T14:02:12.407688500Z",
     "start_time": "2023-11-12T14:02:12.330685100Z"
    }
   },
   "id": "6f4140b4eade200d"
  },
  {
   "cell_type": "code",
   "execution_count": 7,
   "outputs": [
    {
     "data": {
      "text/plain": "('num',)"
     },
     "execution_count": 7,
     "metadata": {},
     "output_type": "execute_result"
    }
   ],
   "source": [
    "avg.__code__.co_varnames  # 局部变量"
   ],
   "metadata": {
    "collapsed": false,
    "ExecuteTime": {
     "end_time": "2023-11-12T14:02:12.417688600Z",
     "start_time": "2023-11-12T14:02:12.341687200Z"
    }
   },
   "id": "178b00e2bedcfa56"
  },
  {
   "cell_type": "code",
   "execution_count": 8,
   "outputs": [
    {
     "data": {
      "text/plain": "('nums',)"
     },
     "execution_count": 8,
     "metadata": {},
     "output_type": "execute_result"
    }
   ],
   "source": [
    "avg.__code__.co_freevars  # 自由变量"
   ],
   "metadata": {
    "collapsed": false,
    "ExecuteTime": {
     "end_time": "2023-11-12T14:02:12.418686400Z",
     "start_time": "2023-11-12T14:02:12.358688600Z"
    }
   },
   "id": "2271be4eab790a27"
  },
  {
   "cell_type": "code",
   "execution_count": 9,
   "outputs": [
    {
     "data": {
      "text/plain": "(<cell at 0x0000027D5F3FC790: list object at 0x0000027D5F44F540>,)"
     },
     "execution_count": 9,
     "metadata": {},
     "output_type": "execute_result"
    }
   ],
   "source": [
    "avg.__closure__  # 函数的闭包属性，每一项都是闭包函数引用的外部变量（自由变量），与co_freevars一一对应"
   ],
   "metadata": {
    "collapsed": false,
    "ExecuteTime": {
     "end_time": "2023-11-12T14:02:12.419688100Z",
     "start_time": "2023-11-12T14:02:12.372687800Z"
    }
   },
   "id": "7a7110eb53506211"
  },
  {
   "cell_type": "code",
   "execution_count": 10,
   "outputs": [
    {
     "data": {
      "text/plain": "[47, 28, 51, 11]"
     },
     "execution_count": 10,
     "metadata": {},
     "output_type": "execute_result"
    }
   ],
   "source": [
    "avg.__closure__[0].cell_contents  # cell_contents属性存放自由变量具体的值"
   ],
   "metadata": {
    "collapsed": false,
    "ExecuteTime": {
     "end_time": "2023-11-12T14:02:12.420687400Z",
     "start_time": "2023-11-12T14:02:12.388686Z"
    }
   },
   "id": "e1183fca9476f177"
  },
  {
   "cell_type": "code",
   "execution_count": 11,
   "outputs": [
    {
     "ename": "UnboundLocalError",
     "evalue": "local variable 'count' referenced before assignment",
     "output_type": "error",
     "traceback": [
      "\u001B[1;31m---------------------------------------------------------------------------\u001B[0m",
      "\u001B[1;31mUnboundLocalError\u001B[0m                         Traceback (most recent call last)",
      "Cell \u001B[1;32mIn[11], line 15\u001B[0m\n\u001B[0;32m     11\u001B[0m     \u001B[38;5;28;01mreturn\u001B[39;00m avg\n\u001B[0;32m     14\u001B[0m avg \u001B[38;5;241m=\u001B[39m make_avg()\n\u001B[1;32m---> 15\u001B[0m \u001B[43mavg\u001B[49m\u001B[43m(\u001B[49m\u001B[38;5;241;43m47\u001B[39;49m\u001B[43m)\u001B[49m\n",
      "Cell \u001B[1;32mIn[11], line 7\u001B[0m, in \u001B[0;36mmake_avg.<locals>.avg\u001B[1;34m(num)\u001B[0m\n\u001B[0;32m      6\u001B[0m \u001B[38;5;28;01mdef\u001B[39;00m \u001B[38;5;21mavg\u001B[39m(num):\n\u001B[1;32m----> 7\u001B[0m     count \u001B[38;5;241m+\u001B[39m\u001B[38;5;241m=\u001B[39m \u001B[38;5;241m1\u001B[39m  \u001B[38;5;66;03m# 出现赋值，Python自动将变量隐式创建为avg函数定义体的局部变量，因此报错UnboundLocalError: local variable 'count' referenced before assignment，total也相同\u001B[39;00m\n\u001B[0;32m      8\u001B[0m     total \u001B[38;5;241m+\u001B[39m\u001B[38;5;241m=\u001B[39m num\n\u001B[0;32m      9\u001B[0m     \u001B[38;5;28;01mreturn\u001B[39;00m total \u001B[38;5;241m/\u001B[39m count\n",
      "\u001B[1;31mUnboundLocalError\u001B[0m: local variable 'count' referenced before assignment"
     ]
    }
   ],
   "source": [
    "# 在定义闭包时很容易出现隐式定义局部变量的情况\n",
    "def make_avg():\n",
    "    count = 0  # 计数\n",
    "    total = 0  # 记录所有数的和\n",
    "\n",
    "    def avg(num):\n",
    "        count += 1  # 出现赋值，Python自动将变量隐式创建为avg函数定义体的局部变量，因此报错UnboundLocalError: local variable 'count' referenced before assignment，total也相同\n",
    "        total += num\n",
    "        return total / count\n",
    "\n",
    "    return avg\n",
    "\n",
    "\n",
    "avg = make_avg()\n",
    "avg(47)"
   ],
   "metadata": {
    "collapsed": false,
    "ExecuteTime": {
     "end_time": "2023-11-12T14:02:13.233728Z",
     "start_time": "2023-11-12T14:02:12.406690100Z"
    }
   },
   "id": "d706aa0e1faa6fa1"
  },
  {
   "cell_type": "code",
   "execution_count": 12,
   "outputs": [
    {
     "data": {
      "text/plain": "47.0"
     },
     "execution_count": 12,
     "metadata": {},
     "output_type": "execute_result"
    }
   ],
   "source": [
    "# 使用nonlocal关键字避免隐式定义局部变量的问题\n",
    "def make_avg():\n",
    "    count = 0  # 计数\n",
    "    total = 0  # 记录所有数的和\n",
    "\n",
    "    def avg(num):\n",
    "        nonlocal count, total  # 把变量标记为自由变量，而不管函数中是否为变量赋了新值\n",
    "        count += 1\n",
    "        total += num\n",
    "        return total / count\n",
    "\n",
    "    return avg\n",
    "\n",
    "\n",
    "avg = make_avg()\n",
    "avg(47)"
   ],
   "metadata": {
    "collapsed": false,
    "ExecuteTime": {
     "end_time": "2023-11-12T14:02:44.971270300Z",
     "start_time": "2023-11-12T14:02:44.910269700Z"
    }
   },
   "id": "c0a36221cc860654"
  },
  {
   "cell_type": "code",
   "execution_count": 13,
   "outputs": [
    {
     "data": {
      "text/plain": "37.5"
     },
     "execution_count": 13,
     "metadata": {},
     "output_type": "execute_result"
    }
   ],
   "source": [
    "avg(28)"
   ],
   "metadata": {
    "collapsed": false,
    "ExecuteTime": {
     "end_time": "2023-11-12T14:02:50.235756700Z",
     "start_time": "2023-11-12T14:02:50.173759100Z"
    }
   },
   "id": "59a01b6add296901"
  }
 ],
 "metadata": {
  "kernelspec": {
   "display_name": "Python 3",
   "language": "python",
   "name": "python3"
  },
  "language_info": {
   "codemirror_mode": {
    "name": "ipython",
    "version": 2
   },
   "file_extension": ".py",
   "mimetype": "text/x-python",
   "name": "python",
   "nbconvert_exporter": "python",
   "pygments_lexer": "ipython2",
   "version": "2.7.6"
  }
 },
 "nbformat": 4,
 "nbformat_minor": 5
}
