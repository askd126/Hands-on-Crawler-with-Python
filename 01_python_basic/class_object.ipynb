{
 "cells": [
  {
   "cell_type": "code",
   "execution_count": null,
   "outputs": [],
   "source": [
    "# -*- coding: utf-8 -*-\n",
    "\n",
    "'''\n",
    "@Author   :   Corley Tang\n",
    "@contact  :   cutercorleytd@gmail.com\n",
    "@Github   :   https://github.com/corleytd\n",
    "@Time     :   2023-11-15 7:18\n",
    "@Project  :   Hands-on Crawler with Python-class_object\n",
    "类与对象\n",
    "'''"
   ],
   "metadata": {
    "collapsed": false,
    "is_executing": true
   },
   "id": "f9b0810c2ba2d852"
  },
  {
   "cell_type": "markdown",
   "source": [
    "面向对象编程（Object-oriented Programming, OOP）是一种编程范式，它将现实世界中的事物抽象成对象，通过对象之间的交互来完成程序的功能。面向对象编程的核心思想是将数据和操作数据的方法封装在一起，形成一个类（Class），然后通过实例化类来创建具体的对象（Instance）。OOP强调**封装、继承、多态**等特性，使得代码更加模块化，更容易维护和复用。\n",
    "\n",
    "在OOP中，类是对具有相同特性和行为的对象的一种抽象或模板，定义了一组**属性**和**方法**。属性是对象的特征，用于描述对象的状态；方法是对象的行为，用于描述对象可以执行的操作。实例则是类的具体化，是根据类创建出来的具体对象。类和实例之间的关系就像模具和模型一样，模具（类）决定了模型（实例）的样子，而模型又可以根据具体的需要，填充不同的属性值。一个类可以生成多个实例，每个实例都具有类所定义的属性和方法，但各自的数据可能不同。\n",
    "\n",
    "在Python中，我们可以使用class关键字来创建一个类，然后使用类名()来创建这个类的一个实例。"
   ],
   "metadata": {
    "collapsed": false
   },
   "id": "30ae222d37902c9c"
  },
  {
   "cell_type": "code",
   "execution_count": 1,
   "id": "initial_id",
   "metadata": {
    "collapsed": true,
    "ExecuteTime": {
     "end_time": "2023-11-14T23:20:51.797920100Z",
     "start_time": "2023-11-14T23:20:18.147950500Z"
    }
   },
   "outputs": [
    {
     "data": {
      "text/plain": "('Corley', 'male')"
     },
     "execution_count": 1,
     "metadata": {},
     "output_type": "execute_result"
    }
   ],
   "source": [
    "# 1.类与实例、属性与方法\n",
    "class People:\n",
    "    def __init__(self, name, gender):\n",
    "        self.name = name\n",
    "        self.gender = gender\n",
    "    \n",
    "    def say(self, content):\n",
    "        print(f'{self.name} says: {content}')\n",
    "\n",
    "corley = People('Corley', 'male')\n",
    "corley.name, corley.gender # 查看属性"
   ]
  },
  {
   "cell_type": "code",
   "execution_count": 2,
   "outputs": [
    {
     "name": "stdout",
     "output_type": "stream",
     "text": [
      "Corley says: Life is real, life is earnest!\n"
     ]
    }
   ],
   "source": [
    "corley.say('Life is real, life is earnest!') # 调用方法"
   ],
   "metadata": {
    "collapsed": false,
    "ExecuteTime": {
     "end_time": "2023-11-14T23:20:51.798918400Z",
     "start_time": "2023-11-14T23:20:18.165952700Z"
    }
   },
   "id": "47f6f9ca27965296"
  },
  {
   "cell_type": "code",
   "execution_count": 3,
   "outputs": [
    {
     "name": "stdout",
     "output_type": "stream",
     "text": [
      "Bobby is eating...\n",
      "Bobby is eating...\n"
     ]
    },
    {
     "data": {
      "text/plain": "('Bobby', 52)"
     },
     "execution_count": 3,
     "metadata": {},
     "output_type": "execute_result"
    }
   ],
   "source": [
    "# 2.在类中修改属性\n",
    "class Dog:\n",
    "    def __init__(self, name,weight):\n",
    "        self.name = name\n",
    "        self.weight = weight\n",
    "        \n",
    "    def run(self):\n",
    "        print(f'{self.name} is running...')\n",
    "        self.weight -= 1\n",
    "    \n",
    "    def eat(self):\n",
    "        print(f'{self.name} is eating...')\n",
    "        self.weight += 1\n",
    "\n",
    "# 实例化对象\n",
    "d1 = Dog('Bobby', 50)\n",
    "d1.eat()\n",
    "d1.eat()\n",
    "d1.name, d1.weight"
   ],
   "metadata": {
    "collapsed": false,
    "ExecuteTime": {
     "end_time": "2023-11-14T23:20:51.798918400Z",
     "start_time": "2023-11-14T23:20:18.184950300Z"
    }
   },
   "id": "f1eb4255ad4744ff"
  },
  {
   "cell_type": "code",
   "execution_count": 4,
   "outputs": [
    {
     "name": "stdout",
     "output_type": "stream",
     "text": [
      "Rex is running...\n",
      "Rex is running...\n"
     ]
    },
    {
     "data": {
      "text/plain": "('Rex', 28)"
     },
     "execution_count": 4,
     "metadata": {},
     "output_type": "execute_result"
    }
   ],
   "source": [
    "d2 = Dog('Rex', 30)\n",
    "d2.run()\n",
    "d2.run()\n",
    "d2.name, d2.weight"
   ],
   "metadata": {
    "collapsed": false,
    "ExecuteTime": {
     "end_time": "2023-11-14T23:20:51.798918400Z",
     "start_time": "2023-11-14T23:20:18.215980Z"
    }
   },
   "id": "e68a3fb756c49448"
  }
 ],
 "metadata": {
  "kernelspec": {
   "display_name": "Python 3",
   "language": "python",
   "name": "python3"
  },
  "language_info": {
   "codemirror_mode": {
    "name": "ipython",
    "version": 2
   },
   "file_extension": ".py",
   "mimetype": "text/x-python",
   "name": "python",
   "nbconvert_exporter": "python",
   "pygments_lexer": "ipython2",
   "version": "2.7.6"
  }
 },
 "nbformat": 4,
 "nbformat_minor": 5
}
