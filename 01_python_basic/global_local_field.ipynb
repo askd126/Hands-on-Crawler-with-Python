{
 "cells": [
  {
   "cell_type": "code",
   "execution_count": 1,
   "id": "initial_id",
   "metadata": {
    "collapsed": true,
    "ExecuteTime": {
     "end_time": "2023-11-12T09:26:51.273113500Z",
     "start_time": "2023-11-12T09:26:51.265115100Z"
    }
   },
   "outputs": [],
   "source": [
    "# -*- coding: utf-8 -*-\n",
    "\n",
    "'''\n",
    "@Author   :   Corley Tang\n",
    "@contact  :   cutercorleytd@gmail.com\n",
    "@Github   :   https://github.com/corleytd\n",
    "@Time     :   2023-11-12 12:32\n",
    "@Project  :   Hands-on Crawler with Python-global_local_field\n",
    "作用域\n",
    "'''\n",
    "\n",
    "# 导入所需的库\n",
    "from dis import dis"
   ]
  },
  {
   "cell_type": "code",
   "execution_count": 2,
   "outputs": [
    {
     "name": "stdout",
     "output_type": "stream",
     "text": [
      "3\n"
     ]
    },
    {
     "ename": "NameError",
     "evalue": "name 'b' is not defined",
     "output_type": "error",
     "traceback": [
      "\u001B[1;31m---------------------------------------------------------------------------\u001B[0m",
      "\u001B[1;31mNameError\u001B[0m                                 Traceback (most recent call last)",
      "Cell \u001B[1;32mIn[2], line 6\u001B[0m\n\u001B[0;32m      2\u001B[0m     \u001B[38;5;28mprint\u001B[39m(a)\n\u001B[0;32m      3\u001B[0m     \u001B[38;5;28mprint\u001B[39m(b)\n\u001B[1;32m----> 6\u001B[0m \u001B[43mf1\u001B[49m\u001B[43m(\u001B[49m\u001B[38;5;241;43m3\u001B[39;49m\u001B[43m)\u001B[49m  \u001B[38;5;66;03m# 全局变量 b未定义，无法访问，报错NameError: name 'b' is not defined\u001B[39;00m\n",
      "Cell \u001B[1;32mIn[2], line 3\u001B[0m, in \u001B[0;36mf1\u001B[1;34m(a)\u001B[0m\n\u001B[0;32m      1\u001B[0m \u001B[38;5;28;01mdef\u001B[39;00m \u001B[38;5;21mf1\u001B[39m(a):\n\u001B[0;32m      2\u001B[0m     \u001B[38;5;28mprint\u001B[39m(a)\n\u001B[1;32m----> 3\u001B[0m     \u001B[38;5;28mprint\u001B[39m(\u001B[43mb\u001B[49m)\n",
      "\u001B[1;31mNameError\u001B[0m: name 'b' is not defined"
     ]
    }
   ],
   "source": [
    "def f1(a):\n",
    "    print(a)\n",
    "    print(b)\n",
    "\n",
    "\n",
    "f1(3)  # 全局变量 b未定义，无法访问，报错NameError: name 'b' is not defined"
   ],
   "metadata": {
    "collapsed": false,
    "ExecuteTime": {
     "end_time": "2023-11-12T09:26:51.826131500Z",
     "start_time": "2023-11-12T09:26:51.277117500Z"
    }
   },
   "id": "6f848dca4d61b100"
  },
  {
   "cell_type": "code",
   "execution_count": 3,
   "outputs": [
    {
     "name": "stdout",
     "output_type": "stream",
     "text": [
      "3\n",
      "5\n"
     ]
    }
   ],
   "source": [
    "b = 5  # 在全局作用域下定义全局变量\n",
    "f1(3)  # 此时可以访问定义好的全局变量b"
   ],
   "metadata": {
    "collapsed": false,
    "ExecuteTime": {
     "end_time": "2023-11-12T09:27:03.287790600Z",
     "start_time": "2023-11-12T09:27:03.250793200Z"
    }
   },
   "id": "5ace067bbaff21c8"
  },
  {
   "cell_type": "code",
   "execution_count": 4,
   "outputs": [
    {
     "name": "stdout",
     "output_type": "stream",
     "text": [
      "3\n"
     ]
    },
    {
     "ename": "UnboundLocalError",
     "evalue": "local variable 'b' referenced before assignment",
     "output_type": "error",
     "traceback": [
      "\u001B[1;31m---------------------------------------------------------------------------\u001B[0m",
      "\u001B[1;31mUnboundLocalError\u001B[0m                         Traceback (most recent call last)",
      "Cell \u001B[1;32mIn[4], line 7\u001B[0m\n\u001B[0;32m      3\u001B[0m     \u001B[38;5;28mprint\u001B[39m(b)\n\u001B[0;32m      4\u001B[0m     b \u001B[38;5;241m=\u001B[39m \u001B[38;5;241m10\u001B[39m\n\u001B[1;32m----> 7\u001B[0m \u001B[43mf2\u001B[49m\u001B[43m(\u001B[49m\u001B[38;5;241;43m3\u001B[39;49m\u001B[43m)\u001B[49m  \u001B[38;5;66;03m# Python隐式创建局部变量，因为Python假定在函数定义体中赋值的变量是局部变量，报错UnboundLocalError: local variable 'b' referenced before assignment\u001B[39;00m\n",
      "Cell \u001B[1;32mIn[4], line 3\u001B[0m, in \u001B[0;36mf2\u001B[1;34m(a)\u001B[0m\n\u001B[0;32m      1\u001B[0m \u001B[38;5;28;01mdef\u001B[39;00m \u001B[38;5;21mf2\u001B[39m(a):\n\u001B[0;32m      2\u001B[0m     \u001B[38;5;28mprint\u001B[39m(a)\n\u001B[1;32m----> 3\u001B[0m     \u001B[38;5;28mprint\u001B[39m(\u001B[43mb\u001B[49m)\n\u001B[0;32m      4\u001B[0m     b \u001B[38;5;241m=\u001B[39m \u001B[38;5;241m10\u001B[39m\n",
      "\u001B[1;31mUnboundLocalError\u001B[0m: local variable 'b' referenced before assignment"
     ]
    }
   ],
   "source": [
    "def f2(a):\n",
    "    print(a)\n",
    "    print(b)\n",
    "    b = 10\n",
    "\n",
    "\n",
    "f2(3)  # Python隐式创建局部变量，因为Python假定在函数定义体中赋值的变量是局部变量，报错UnboundLocalError: local variable 'b' referenced before assignment"
   ],
   "metadata": {
    "collapsed": false,
    "ExecuteTime": {
     "end_time": "2023-11-12T09:27:04.548243400Z",
     "start_time": "2023-11-12T09:27:04.460239900Z"
    }
   },
   "id": "d6ef1460cc85f870"
  },
  {
   "cell_type": "code",
   "execution_count": 5,
   "outputs": [
    {
     "name": "stdout",
     "output_type": "stream",
     "text": [
      "  2           0 LOAD_GLOBAL              0 (print)\n",
      "              2 LOAD_FAST                0 (a)\n",
      "              4 CALL_FUNCTION            1\n",
      "              6 POP_TOP\n",
      "\n",
      "  3           8 LOAD_GLOBAL              0 (print)\n",
      "             10 LOAD_GLOBAL              1 (b)\n",
      "             12 CALL_FUNCTION            1\n",
      "             14 POP_TOP\n",
      "             16 LOAD_CONST               0 (None)\n",
      "             18 RETURN_VALUE\n"
     ]
    }
   ],
   "source": [
    "# 借助dis模块对Python字节码进行反汇编处理\n",
    "dis(f1)  # a作为局部变量进行编译、b作为全局变量进行编译"
   ],
   "metadata": {
    "collapsed": false,
    "ExecuteTime": {
     "end_time": "2023-11-12T09:27:05.624945600Z",
     "start_time": "2023-11-12T09:27:05.610955400Z"
    }
   },
   "id": "465f401927d19bae"
  },
  {
   "cell_type": "code",
   "execution_count": 6,
   "outputs": [
    {
     "name": "stdout",
     "output_type": "stream",
     "text": [
      "  2           0 LOAD_GLOBAL              0 (print)\n",
      "              2 LOAD_FAST                0 (a)\n",
      "              4 CALL_FUNCTION            1\n",
      "              6 POP_TOP\n",
      "\n",
      "  3           8 LOAD_GLOBAL              0 (print)\n",
      "             10 LOAD_FAST                1 (b)\n",
      "             12 CALL_FUNCTION            1\n",
      "             14 POP_TOP\n",
      "\n",
      "  4          16 LOAD_CONST               1 (10)\n",
      "             18 STORE_FAST               1 (b)\n",
      "             20 LOAD_CONST               0 (None)\n",
      "             22 RETURN_VALUE\n"
     ]
    }
   ],
   "source": [
    "dis(f2)  # a和b都作为局部变量处理"
   ],
   "metadata": {
    "collapsed": false,
    "ExecuteTime": {
     "end_time": "2023-11-12T09:27:06.604951800Z",
     "start_time": "2023-11-12T09:27:06.588946500Z"
    }
   },
   "id": "2c1e1d9d84117bed"
  },
  {
   "cell_type": "code",
   "execution_count": 7,
   "outputs": [
    {
     "name": "stdout",
     "output_type": "stream",
     "text": [
      "3\n",
      "[]\n"
     ]
    }
   ],
   "source": [
    "b = []\n",
    "\n",
    "\n",
    "def f3(a):\n",
    "    print(a)\n",
    "    print(b)\n",
    "    b.append(7)\n",
    "\n",
    "\n",
    "f3(3)  # Python只会将局部作用域中的赋值操作认为是创建了局部变量，这里是对可变对象（列表）进行改变而非进行赋值，因此是允许的。而对于不可变对象来说，要改变它，除了重新赋值，别无他法"
   ],
   "metadata": {
    "collapsed": false,
    "ExecuteTime": {
     "end_time": "2023-11-12T09:27:07.732066400Z",
     "start_time": "2023-11-12T09:27:07.696069300Z"
    }
   },
   "id": "6b97a75f3da80454"
  },
  {
   "cell_type": "code",
   "execution_count": 8,
   "outputs": [
    {
     "data": {
      "text/plain": "[7]"
     },
     "execution_count": 8,
     "metadata": {},
     "output_type": "execute_result"
    }
   ],
   "source": [
    "b  # 函数f3中对对象b的操作是永久的，列表b被改变"
   ],
   "metadata": {
    "collapsed": false,
    "ExecuteTime": {
     "end_time": "2023-11-12T09:27:08.811641100Z",
     "start_time": "2023-11-12T09:27:08.749608200Z"
    }
   },
   "id": "73c35a1884fbabde"
  },
  {
   "cell_type": "code",
   "execution_count": 9,
   "outputs": [
    {
     "name": "stdout",
     "output_type": "stream",
     "text": [
      "3\n",
      "5\n"
     ]
    }
   ],
   "source": [
    "b = 5\n",
    "\n",
    "\n",
    "def f4(a):\n",
    "    global b\n",
    "    print(a)\n",
    "    print(b)\n",
    "    b = 10\n",
    "\n",
    "\n",
    "f4(3)  # 使用global关键字在函数内部声明一个全局变量，使得可以在函数内部修改全局变量（主要是不可变对象）的值"
   ],
   "metadata": {
    "collapsed": false,
    "ExecuteTime": {
     "end_time": "2023-11-12T09:27:09.720606800Z",
     "start_time": "2023-11-12T09:27:09.708612600Z"
    }
   },
   "id": "de8329dcd3f66e27"
  },
  {
   "cell_type": "code",
   "execution_count": 10,
   "outputs": [
    {
     "data": {
      "text/plain": "10"
     },
     "execution_count": 10,
     "metadata": {},
     "output_type": "execute_result"
    }
   ],
   "source": [
    "b  # b也会同步发生改变"
   ],
   "metadata": {
    "collapsed": false,
    "ExecuteTime": {
     "end_time": "2023-11-12T09:27:15.554906500Z",
     "start_time": "2023-11-12T09:27:15.498907200Z"
    }
   },
   "id": "bd68d1ad59b4f90f"
  }
 ],
 "metadata": {
  "kernelspec": {
   "display_name": "Python 3",
   "language": "python",
   "name": "python3"
  },
  "language_info": {
   "codemirror_mode": {
    "name": "ipython",
    "version": 2
   },
   "file_extension": ".py",
   "mimetype": "text/x-python",
   "name": "python",
   "nbconvert_exporter": "python",
   "pygments_lexer": "ipython2",
   "version": "2.7.6"
  }
 },
 "nbformat": 4,
 "nbformat_minor": 5
}
