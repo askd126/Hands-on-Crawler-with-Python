{
 "cells": [
  {
   "cell_type": "code",
   "execution_count": 1,
   "id": "initial_id",
   "metadata": {
    "collapsed": true,
    "ExecuteTime": {
     "end_time": "2023-11-14T23:17:23.741104900Z",
     "start_time": "2023-11-14T23:17:23.697103200Z"
    }
   },
   "outputs": [],
   "source": [
    "# -*- coding: utf-8 -*-\n",
    "\n",
    "'''\n",
    "@Author   :   Corley Tang\n",
    "@contact  :   cutercorleytd@gmail.com\n",
    "@Github   :   https://github.com/corleytd\n",
    "@Time     :   2023-11-12 22:07\n",
    "@Project  :   Hands-on Crawler with Python-decorator\n",
    "装饰器\n",
    "'''\n",
    "\n",
    "\n",
    "# 导入所需的库\n",
    "import time\n",
    "from functools import wraps"
   ]
  },
  {
   "cell_type": "code",
   "execution_count": 2,
   "outputs": [
    {
     "name": "stdout",
     "output_type": "stream",
     "text": [
      "running inner()\n",
      "running target()\n"
     ]
    }
   ],
   "source": [
    "# 1.简单装饰器\n",
    "def deco(func):\n",
    "    def inner():\n",
    "        print('running inner()')\n",
    "        func()\n",
    "    return inner\n",
    "\n",
    "@deco\n",
    "def target():\n",
    "    print('running target()')\n",
    "    \n",
    "target() # 语法糖"
   ],
   "metadata": {
    "collapsed": false,
    "ExecuteTime": {
     "end_time": "2023-11-14T23:17:23.741104900Z",
     "start_time": "2023-11-14T23:17:23.720103300Z"
    }
   },
   "id": "1cabe0977365c41"
  },
  {
   "cell_type": "code",
   "execution_count": 3,
   "outputs": [
    {
     "name": "stdout",
     "output_type": "stream",
     "text": [
      "running inner()\n",
      "running target2()\n"
     ]
    }
   ],
   "source": [
    "def target2():\n",
    "    print('running target2()')\n",
    "\n",
    "deco(target2)() # 达到相同效果，装饰器可以简化代码"
   ],
   "metadata": {
    "collapsed": false,
    "ExecuteTime": {
     "end_time": "2023-11-14T23:17:23.762105800Z",
     "start_time": "2023-11-14T23:17:23.735105200Z"
    }
   },
   "id": "5cff1c27a65473fa"
  },
  {
   "cell_type": "code",
   "execution_count": 4,
   "outputs": [
    {
     "name": "stdout",
     "output_type": "stream",
     "text": [
      "add func func1\n",
      "add func func2\n",
      "running main()\n",
      "funcs: [<function func1 at 0x0000027822C77F70>, <function func2 at 0x0000027822CA80D0>]\n",
      "running func1()\n",
      "running func2()\n",
      "running func3()\n"
     ]
    }
   ],
   "source": [
    "# 2.装饰器在加载模块时就立即执行\n",
    "funcs  = []\n",
    "\n",
    "def add_func(func):\n",
    "    print(f'add func {func.__name__}')\n",
    "    funcs.append(func)\n",
    "    return func\n",
    "\n",
    "@add_func\n",
    "def func1():\n",
    "    print('running func1()')\n",
    "    \n",
    "@add_func\n",
    "def func2():\n",
    "    print('running func2()')\n",
    "\n",
    "def func3():\n",
    "    print('running func3()')\n",
    "\n",
    "print('running main()') # 装饰器在加载模块时就立即执行，因此在其他函数执行之前运行了2次\n",
    "print(f'funcs: {funcs}') # func3未被装饰器add_func装饰，因此未添加到列表funcs中\n",
    "func1() # func1和func2方法只有被明确调用时才执行\n",
    "func2()\n",
    "func3()"
   ],
   "metadata": {
    "collapsed": false,
    "ExecuteTime": {
     "end_time": "2023-11-14T23:17:23.839144700Z",
     "start_time": "2023-11-14T23:17:23.752103600Z"
    }
   },
   "id": "845bd58b0b60475b"
  },
  {
   "cell_type": "code",
   "execution_count": 5,
   "outputs": [
    {
     "name": "stdout",
     "output_type": "stream",
     "text": [
      "function snooze runtime: 3.003628 seconds\n"
     ]
    }
   ],
   "source": [
    "# 3.装饰器实现对程序计时：不改变原函数的前提下为其增加功能\n",
    "def runtime(func):\n",
    "    '''计算函数运行时间'''\n",
    "\n",
    "    def wrapper(*args, **kwargs):  # warpper函数是闭包，使用了自由变量func\n",
    "        start = time.perf_counter()  # 计时，返回性能计数器的值，包括在睡眠期间和系统范围内流逝的时间，比time.time()精度更高\n",
    "        res = func(*args, **kwargs)\n",
    "        time_cost = time.perf_counter() - start\n",
    "        print(f'function {func.__name__} runtime: {time_cost:.6f} seconds')\n",
    "        return res\n",
    "\n",
    "    return wrapper\n",
    "\n",
    "\n",
    "@runtime\n",
    "def snooze(seconds=3):\n",
    "    time.sleep(seconds)\n",
    "\n",
    "\n",
    "snooze()"
   ],
   "metadata": {
    "collapsed": false,
    "ExecuteTime": {
     "end_time": "2023-11-14T23:17:26.814555500Z",
     "start_time": "2023-11-14T23:17:23.772107300Z"
    }
   },
   "id": "f11c2a69c240979d"
  },
  {
   "cell_type": "code",
   "execution_count": 6,
   "outputs": [
    {
     "name": "stdout",
     "output_type": "stream",
     "text": [
      "function snooze runtime: 7.002430 seconds\n"
     ]
    }
   ],
   "source": [
    "snooze(7)"
   ],
   "metadata": {
    "collapsed": false,
    "ExecuteTime": {
     "end_time": "2023-11-14T23:17:33.830196600Z",
     "start_time": "2023-11-14T23:17:26.803565900Z"
    }
   },
   "id": "86f1bef8d1c90726"
  },
  {
   "cell_type": "code",
   "execution_count": 7,
   "outputs": [
    {
     "name": "stdout",
     "output_type": "stream",
     "text": [
      "function snooze runtime: 3.005772 seconds\n"
     ]
    }
   ],
   "source": [
    "def snooze(seconds=3):\n",
    "    time.sleep(seconds)\n",
    "\n",
    "\n",
    "snooze = runtime(snooze)  # 装饰器原理：将wrapper赋值给snooze函数，调用snooze函数其实就是调用wrapper函数\n",
    "snooze()  # 与前面效果相同"
   ],
   "metadata": {
    "collapsed": false,
    "ExecuteTime": {
     "end_time": "2023-11-14T23:17:36.874758600Z",
     "start_time": "2023-11-14T23:17:33.831200600Z"
    }
   },
   "id": "624454bf917ad9b6"
  },
  {
   "cell_type": "code",
   "execution_count": 8,
   "outputs": [
    {
     "data": {
      "text/plain": "'wrapper'"
     },
     "execution_count": 8,
     "metadata": {},
     "output_type": "execute_result"
    }
   ],
   "source": [
    "@runtime\n",
    "def snooze(seconds=3):\n",
    "    time.sleep(seconds)\n",
    "\n",
    "\n",
    "snooze.__name__  # 被装饰的函数名称为wrapper，而非原函数的名称。装饰器其实就是把被装饰的函数替换成新的函数并返回被装饰函数本该返回的值，二者接收相同的参数，但新函数通常会做一些额外的操作，例如对函数运行计时等"
   ],
   "metadata": {
    "collapsed": false,
    "ExecuteTime": {
     "end_time": "2023-11-14T23:17:36.910724Z",
     "start_time": "2023-11-14T23:17:36.868734900Z"
    }
   },
   "id": "942e3aeaf4d067bd"
  },
  {
   "cell_type": "code",
   "execution_count": 9,
   "outputs": [
    {
     "data": {
      "text/plain": "'snooze'"
     },
     "execution_count": 9,
     "metadata": {},
     "output_type": "execute_result"
    }
   ],
   "source": [
    "# 4.使用functools.wraps装饰器，让装饰器保留原函数的名称\n",
    "def runtime(func):\n",
    "    '''计算函数运行时间'''\n",
    "\n",
    "    @wraps(func)  # wraps装饰器会把被装饰函数的相关属性（__name__、__doc__等）复制到wrapper函数中，因此被装饰函数的名称、文档字符串等会被保留\n",
    "    def wrapper(*args, **kwargs):\n",
    "        start = time.perf_counter()\n",
    "        res = func(*args, **kwargs)\n",
    "        time_cost = time.perf_counter() - start\n",
    "        print(f'function {func.__name__} runtime: {time_cost:.6f} seconds')\n",
    "        return res\n",
    "\n",
    "    return wrapper\n",
    "\n",
    "\n",
    "@runtime\n",
    "def snooze(seconds=3):\n",
    "    time.sleep(seconds)\n",
    "\n",
    "\n",
    "snooze.__name__"
   ],
   "metadata": {
    "collapsed": false,
    "ExecuteTime": {
     "end_time": "2023-11-14T23:17:36.911737900Z",
     "start_time": "2023-11-14T23:17:36.893725300Z"
    }
   },
   "id": "db20141ead93dda9"
  },
  {
   "cell_type": "code",
   "execution_count": 10,
   "outputs": [
    {
     "name": "stdout",
     "output_type": "stream",
     "text": [
      "[DEBUG]: function snooze runtime: 3.010012 seconds\n"
     ]
    }
   ],
   "source": [
    "# 5.参数化装饰器：装饰器将悲壮是函数作为第1个参数传入装饰器函数，如果想要接收其他参数则需要构建装饰器工厂函数，将参数传给工厂函数，返回装饰器，再讲装饰器应用到被装饰函数\n",
    "def runtime(level='info'):  # 工厂函数，返回真正的装饰器\n",
    "    '''计算函数运行时间'''\n",
    "\n",
    "    def decorate(func):\n",
    "        def wrapper(*args, **kwargs):\n",
    "            start = time.perf_counter()\n",
    "            res = func(*args, **kwargs)\n",
    "            time_cost = time.perf_counter() - start\n",
    "            print(f'[{level.upper()}]: function {func.__name__} runtime: {time_cost:.6f} seconds')\n",
    "            return res\n",
    "\n",
    "        return wrapper\n",
    "\n",
    "    return decorate\n",
    "\n",
    "\n",
    "@runtime(level='debug')  # 必须作为函数调用，才能获得装饰器decorate，等价于runtime(level='debug')(snooze)\n",
    "def snooze(seconds=3):\n",
    "    time.sleep(seconds)\n",
    "\n",
    "\n",
    "snooze()"
   ],
   "metadata": {
    "collapsed": false,
    "ExecuteTime": {
     "end_time": "2023-11-14T23:17:39.938876500Z",
     "start_time": "2023-11-14T23:17:36.909720800Z"
    }
   },
   "id": "19a66929924b5668"
  },
  {
   "cell_type": "code",
   "execution_count": 11,
   "outputs": [
    {
     "name": "stdout",
     "output_type": "stream",
     "text": [
      "[DEBUG]: function snooze runtime: 3.000777 seconds\n"
     ]
    }
   ],
   "source": [
    "def snooze(seconds=3):\n",
    "    time.sleep(seconds)\n",
    "\n",
    "\n",
    "runtime(level='debug')(snooze)()  # 实现相同效果"
   ],
   "metadata": {
    "collapsed": false,
    "ExecuteTime": {
     "end_time": "2023-11-14T23:17:42.971840700Z",
     "start_time": "2023-11-14T23:17:39.939875900Z"
    }
   },
   "id": "7583b253f1bb0f1d"
  },
  {
   "cell_type": "code",
   "execution_count": 12,
   "outputs": [
    {
     "name": "stdout",
     "output_type": "stream",
     "text": [
      "fact( 1) cost time 0.00000060 seconds.\n",
      "fact( 2) cost time 0.00063480 seconds.\n",
      "fact( 3) cost time 0.00065140 seconds.\n",
      "fact( 4) cost time 0.00066010 seconds.\n",
      "fact( 5) cost time 0.00066820 seconds.\n",
      "fact( 6) cost time 0.00067600 seconds.\n",
      "fact( 7) cost time 0.00068350 seconds.\n",
      "fact( 8) cost time 0.00069090 seconds.\n",
      "fact( 9) cost time 0.00069820 seconds.\n",
      "fact(10) cost time 0.00070740 seconds.\n"
     ]
    },
    {
     "data": {
      "text/plain": "3628800"
     },
     "execution_count": 12,
     "metadata": {},
     "output_type": "execute_result"
    }
   ],
   "source": [
    "# 6.通过递归实现阶乘并通过装饰器打印出每一次递归调用所需的运行时长\n",
    "def time_fact(func):\n",
    "    def wrapper(*args, **kwargs):\n",
    "        n = args[0]\n",
    "        start = time.perf_counter()\n",
    "        res = func(*args, **kwargs)\n",
    "        end = time.perf_counter()\n",
    "        print(f'fact({n:2d}) cost time {end - start:.8f} seconds.')\n",
    "        return res\n",
    "\n",
    "    return wrapper\n",
    "\n",
    "\n",
    "@time_fact\n",
    "def fact(n):\n",
    "    if n == 1:\n",
    "        return 1\n",
    "    else:\n",
    "        return n * fact(n - 1)\n",
    "\n",
    "\n",
    "fact(10)"
   ],
   "metadata": {
    "collapsed": false,
    "ExecuteTime": {
     "end_time": "2023-11-14T23:17:43.018157900Z",
     "start_time": "2023-11-14T23:17:42.968840100Z"
    }
   },
   "id": "43520e6a92dd20d1"
  }
 ],
 "metadata": {
  "kernelspec": {
   "display_name": "Python 3",
   "language": "python",
   "name": "python3"
  },
  "language_info": {
   "codemirror_mode": {
    "name": "ipython",
    "version": 2
   },
   "file_extension": ".py",
   "mimetype": "text/x-python",
   "name": "python",
   "nbconvert_exporter": "python",
   "pygments_lexer": "ipython2",
   "version": "2.7.6"
  }
 },
 "nbformat": 4,
 "nbformat_minor": 5
}
