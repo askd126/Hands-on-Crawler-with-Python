{
 "cells": [
  {
   "cell_type": "code",
   "execution_count": null,
   "id": "initial_id",
   "metadata": {
    "collapsed": true
   },
   "outputs": [],
   "source": [
    "# -*- coding: utf-8 -*-\n",
    "\n",
    "'''\n",
    "@Author   :   Corley Tang\n",
    "@contact  :   cutercorleytd@gmail.com\n",
    "@Github   :   https://github.com/corleytd\n",
    "@Time     :   2023-11-16 22:02\n",
    "@Project  :   Hands-on Crawler with Python-inheritance_polymorphism\n",
    "继承与多态\n",
    "'''"
   ]
  },
  {
   "cell_type": "markdown",
   "source": [
    "继承是一种使得某个类型的对象（类）获取另一个类型的对象（类）的属性和方法的方式。在Python中，我们称被继承的类为父类或基类，而继承的类称为子类或派生类。继承的主要作用是代码重用，子类不仅可以使用父类的属性和方法，还可以对其进行扩展和修改。\n",
    "\n",
    "Python支持类的多态，意味着不同类的对象可以使用相同的接口。这意味着即使两个方法的参数类型和名称相同，它们也不一定有相同的实现。这样的设计增加了代码的灵活性和可扩展性。\n",
    "\n",
    "在Python中，类的继承语法如下：`class 子类名 (父类名): pass`。例如，如果我们想要创建一个名为`Student`的子类，该子类具有与名为`Person`的父类相同的属性和方法，我们可以这样写：`class Student(Person): pass`。每个类中都有一个名为`mro`的方法，该方法可以打印出类的继承关系（顺序）。\n",
    "\n",
    "此外，Python还支持单继承和多继承。单继承是指一个子类只继承一个父类，而多继承则是指一个子类可以有多个父类。当存在多个父类时，如果多个父类中有同名的方法，那么子类将会根据方法调用的顺序来选择对应的父类方法。\n",
    "\n",
    "为了解决多个父类中有同名方法的问题，Python引入了一个名为`super()`的特殊函数。通过这个函数，子类可以调用其父类的同名方法。\n",
    "\n",
    "需要注意的是，私有方法和属性不能直接从父类继承。如果需要在子类中使用这些方法和属性，可以在子类中重新定义它们或者通过super()函数调用父类的同名方法和属性。"
   ],
   "metadata": {
    "collapsed": false
   },
   "id": "eef04fd62b07b2e5"
  },
  {
   "cell_type": "code",
   "execution_count": 1,
   "outputs": [
    {
     "name": "stdout",
     "output_type": "stream",
     "text": [
      "Animal is running...\n"
     ]
    }
   ],
   "source": [
    "# 1.简单继承\n",
    "class Animal(object):\n",
    "    def run(self):\n",
    "        print('Animal is running...')\n",
    "\n",
    "\n",
    "class Dog(Animal):\n",
    "    pass\n",
    "\n",
    "\n",
    "class Cat(Animal):\n",
    "    pass\n",
    "\n",
    "\n",
    "# 实例化\n",
    "dog = Dog()\n",
    "dog.run()  # 获得父类的属性和方法"
   ],
   "metadata": {
    "collapsed": false,
    "ExecuteTime": {
     "end_time": "2023-11-16T15:45:55.716836800Z",
     "start_time": "2023-11-16T15:45:55.662318300Z"
    }
   },
   "id": "410cfc8f6f71d0fd"
  },
  {
   "cell_type": "code",
   "execution_count": 2,
   "outputs": [
    {
     "name": "stdout",
     "output_type": "stream",
     "text": [
      "Animal is running...\n"
     ]
    }
   ],
   "source": [
    "cat = Cat()\n",
    "cat.run()"
   ],
   "metadata": {
    "collapsed": false,
    "ExecuteTime": {
     "end_time": "2023-11-16T15:45:55.717835600Z",
     "start_time": "2023-11-16T15:45:55.676320100Z"
    }
   },
   "id": "20fe50617430a72d"
  },
  {
   "cell_type": "code",
   "execution_count": 3,
   "outputs": [
    {
     "name": "stdout",
     "output_type": "stream",
     "text": [
      "Dog is running...\n"
     ]
    }
   ],
   "source": [
    "# 2.重写\n",
    "class Animal:\n",
    "    def run(self):\n",
    "        print('Animal is running...')\n",
    "\n",
    "\n",
    "class Dog(Animal):\n",
    "    def run(self):\n",
    "        print('Dog is running...')\n",
    "\n",
    "\n",
    "class Cat(Animal):\n",
    "    def run(self):\n",
    "        print('Cat is running...')\n",
    "\n",
    "\n",
    "# 实例化\n",
    "dog = Dog()\n",
    "dog.run()  # 获得父类的属性和方法"
   ],
   "metadata": {
    "collapsed": false,
    "ExecuteTime": {
     "end_time": "2023-11-16T15:45:55.725837Z",
     "start_time": "2023-11-16T15:45:55.706839700Z"
    }
   },
   "id": "69a09884e1703b65"
  },
  {
   "cell_type": "code",
   "execution_count": 4,
   "outputs": [
    {
     "name": "stdout",
     "output_type": "stream",
     "text": [
      "Cat is running...\n"
     ]
    }
   ],
   "source": [
    "cat = Cat()\n",
    "cat.run()  # 继承与重写，实现多态：同一类型的对象调用同名方法，表现出不同的行为"
   ],
   "metadata": {
    "collapsed": false,
    "ExecuteTime": {
     "end_time": "2023-11-16T15:45:55.750849Z",
     "start_time": "2023-11-16T15:45:55.724836600Z"
    }
   },
   "id": "29c238d36baeca21"
  },
  {
   "cell_type": "code",
   "execution_count": 5,
   "outputs": [
    {
     "name": "stdout",
     "output_type": "stream",
     "text": [
      "Animal is running...\n",
      "Dog is running...\n"
     ]
    }
   ],
   "source": [
    "# 3.子类调用父类方法：super()\n",
    "class Animal:\n",
    "    def run(self):\n",
    "        print('Animal is running...')\n",
    "\n",
    "\n",
    "class Dog(Animal):\n",
    "    def run(self):\n",
    "        super().run()  # 调用父类的方法\n",
    "        print('Dog is running...')\n",
    "\n",
    "\n",
    "dog = Dog()\n",
    "dog.run()  # 执行自己的run方法的同时，调用父类的run方法"
   ],
   "metadata": {
    "collapsed": false,
    "ExecuteTime": {
     "end_time": "2023-11-16T15:45:55.841832500Z",
     "start_time": "2023-11-16T15:45:55.740841300Z"
    }
   },
   "id": "ea90eeb104c446cd"
  },
  {
   "cell_type": "code",
   "execution_count": 6,
   "outputs": [
    {
     "name": "stdout",
     "output_type": "stream",
     "text": [
      "B is running...\n",
      "D is running...\n"
     ]
    }
   ],
   "source": [
    "# 4.多重继承的问题：菱形问题\n",
    "class A:\n",
    "    def run(self):\n",
    "        print('A is running...')\n",
    "\n",
    "\n",
    "class B(A):\n",
    "    def run(self):\n",
    "        print('B is running...')\n",
    "\n",
    "\n",
    "class C(A):\n",
    "    def run(self):\n",
    "        print('C is running...')\n",
    "\n",
    "\n",
    "class D(B, C):\n",
    "    def run(self):\n",
    "        super().run()\n",
    "        print('D is running...')\n",
    "\n",
    "\n",
    "d = D()\n",
    "d.run()"
   ],
   "metadata": {
    "collapsed": false,
    "ExecuteTime": {
     "end_time": "2023-11-16T15:45:55.865835600Z",
     "start_time": "2023-11-16T15:45:55.759839900Z"
    }
   },
   "id": "a50f8a17093819c8"
  },
  {
   "cell_type": "code",
   "execution_count": 7,
   "outputs": [
    {
     "data": {
      "text/plain": "(__main__.D, __main__.B, __main__.C, __main__.A, object)"
     },
     "execution_count": 7,
     "metadata": {},
     "output_type": "execute_result"
    }
   ],
   "source": [
    "# C3算法解决菱形问题：方法解析顺序（Method Resolution Order，MRO）\n",
    "D.__mro__"
   ],
   "metadata": {
    "collapsed": false,
    "ExecuteTime": {
     "end_time": "2023-11-16T15:45:55.867836700Z",
     "start_time": "2023-11-16T15:45:55.770837600Z"
    }
   },
   "id": "9d6ef3d036b08bec"
  }
 ],
 "metadata": {
  "kernelspec": {
   "display_name": "Python 3",
   "language": "python",
   "name": "python3"
  },
  "language_info": {
   "codemirror_mode": {
    "name": "ipython",
    "version": 2
   },
   "file_extension": ".py",
   "mimetype": "text/x-python",
   "name": "python",
   "nbconvert_exporter": "python",
   "pygments_lexer": "ipython2",
   "version": "2.7.6"
  }
 },
 "nbformat": 4,
 "nbformat_minor": 5
}
