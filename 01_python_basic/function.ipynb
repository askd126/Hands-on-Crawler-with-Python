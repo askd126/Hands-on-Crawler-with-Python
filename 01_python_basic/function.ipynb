{
 "cells": [
  {
   "cell_type": "code",
   "execution_count": 1,
   "id": "initial_id",
   "metadata": {
    "collapsed": true,
    "ExecuteTime": {
     "end_time": "2023-11-09T16:09:32.462089400Z",
     "start_time": "2023-11-09T16:09:32.443092500Z"
    }
   },
   "outputs": [],
   "source": [
    "# -*- coding: utf-8 -*-\n",
    "\n",
    "'''\n",
    "@Author   :   Corley Tang\n",
    "@contact  :   cutercorleytd@gmail.com\n",
    "@Github   :   https://github.com/corleytd\n",
    "@Time     :   2023-11-09 7:51\n",
    "@Project  :   Hands-on Crawler with Python-function\n",
    "Python函数\n",
    "'''\n",
    "\n",
    "# 导入所需的库\n",
    "from functools import reduce, partial"
   ]
  },
  {
   "cell_type": "code",
   "execution_count": 2,
   "outputs": [
    {
     "name": "stdout",
     "output_type": "stream",
     "text": [
      "11月8日下午，2023世界互联网大会领先科技奖颁奖典礼在乌镇互联网国际会展中心举行。此次活动共征集到来自中国、美国、俄罗斯、芬兰、意大利、阿联酋等国家和地区的成果，涵盖人工智能、5G/6G、车联网、大数据、网络安全、高性能芯片、数字医疗等前沿领域项目超200件，吸引了高通、百度、中国电信、中国联通、清华大学、上海交通大学等互联网企业、高等院校、科研机构和个人竞逐。作为世界互联网大会乌镇峰会的重要活动，世界互联网领先科技成果发布活动至今已经连续举办7年，旨在展现全球互联网领域最新科技成果、彰显互联网从业者的创造性贡献、搭建全方位的创新交流平台。今年，获奖项目首次区分基础研究、关键技术、工程研发三种类型，来自世界各地的40位评审委员分类进行层层评审，最终评选出15项获奖项目。在现场发布环节，入选项目还获得了由世界互联网大会颁发的纪念奖杯和证书。此外，教育部、工业和信息化部、中国科学院、中国移动通信集团有限公司、中国电信集团有限公司、中国联合网络通信集团有限公司、清华大学获评2023年世界互联网大会领先科技奖奖项申报组织工作成效突出单位。\n",
      "10月7日，2023年世界互联网大会“互联网之光”博览会开幕，360集团创始人、董事长周鸿祎的AI数字人亮相展台。展台工作人员向九派财经记者介绍称，这是周鸿祎AI数字人首次面向公众展出，搭载了360智脑大模型，“像人一样思考，所以回答同样的问题时，可能答案会不一样。”此前，360智脑大模型已于今年9月首批获得备案开放，并接入360搜索、360浏览器等应用。据360智脑介绍，该大模型集成了360GPT大模型、360多模态大模型技术能力，具备生成创作、多轮对话、逻辑推理等十大核心能力、数百项细分功能，覆盖大模型全部应用场景。同日上午，周鸿祎发布微博，调侃过去出席世界互联网大会乌镇峰会时，总被P成睡觉等梗图，“我觉得我在乌镇充当气氛组，也算是牺牲小我，为活跃乌镇气氛做贡献了。”\n",
      "为响应儿童青少年近视防控工作，打造放心可信赖的护眼学习机。11月8日，京东携手中国电子视像行业协会，及科大讯飞、小度、希沃、作业帮、步步高、京东方小课屏、优学派、学而思等品牌，以一场别出心裁的直播形式，在“智慧学习，启迪来来”行业护眼标准电教品类总裁直播间，共同发布《学习机护眼技术规范》团体标准，用更详尽标准为指导，规范行业发展，激发品牌持续创新。基于此，京东将进一步加强护眼学习机全链路品控能力，打造标准更高、力度更大的商品质量管控体系，为消费者筑牢高品质保障防线，同时结合京东C2M反向定制模式、全渠道资源和营销助力等，进一步提升市场渗透率，满足消费者对更健康、更舒适、更实用的学习机需求，推动产业实现更高质量发展。\n"
     ]
    }
   ],
   "source": [
    "# 1.普通函数：读取文件\n",
    "def read_file(path):\n",
    "    '''读取文件'''\n",
    "    with open(path, encoding='utf-8') as f:\n",
    "        res = f.read()\n",
    "    return res\n",
    "\n",
    "\n",
    "res = read_file('../data/news.txt')\n",
    "print(res)"
   ],
   "metadata": {
    "collapsed": false,
    "ExecuteTime": {
     "end_time": "2023-11-09T16:09:32.477092500Z",
     "start_time": "2023-11-09T16:09:32.456093200Z"
    }
   },
   "id": "4880759bab8a8574"
  },
  {
   "cell_type": "code",
   "execution_count": 3,
   "outputs": [
    {
     "name": "stdout",
     "output_type": "stream",
     "text": [
      "args type: <class 'tuple'>, args value: (1, 2, 3)\n",
      "kwargs type: <class 'dict'>, kwargs value: {'a': 4, 'b': 5, 'c': 6}\n"
     ]
    }
   ],
   "source": [
    "# 2.使用不定长参数\n",
    "def get_args(*args, **kwargs):\n",
    "    '''不定长参数'''\n",
    "    print(f'args type: {type(args)}, args value: {args}')  # 元组\n",
    "    print(f'kwargs type: {type(kwargs)}, kwargs value: {kwargs}')  # 字典\n",
    "    \n",
    "\n",
    "get_args(1, 2, 3, a=4, b=5, c=6)"
   ],
   "metadata": {
    "collapsed": false,
    "ExecuteTime": {
     "end_time": "2023-11-09T16:09:32.490091600Z",
     "start_time": "2023-11-09T16:09:32.472118100Z"
    }
   },
   "id": "103e13d97fb892ce"
  },
  {
   "cell_type": "code",
   "execution_count": 4,
   "outputs": [
    {
     "data": {
      "text/plain": "25"
     },
     "execution_count": 4,
     "metadata": {},
     "output_type": "execute_result"
    }
   ],
   "source": [
    "# 3.高阶函数\n",
    "# 自定义高阶函数\n",
    "def square(x):\n",
    "    '''求一个数的平方'''\n",
    "    return x ** 2\n",
    "\n",
    "\n",
    "def square_sum(x, y, func):\n",
    "    '''高阶函数：求2数平方和'''\n",
    "    return func(x) + func(y)\n",
    "\n",
    "\n",
    "square_sum(3, 4, square)"
   ],
   "metadata": {
    "collapsed": false,
    "ExecuteTime": {
     "end_time": "2023-11-09T16:09:32.529089600Z",
     "start_time": "2023-11-09T16:09:32.489092Z"
    }
   },
   "id": "fdd53a6671211863"
  },
  {
   "cell_type": "code",
   "execution_count": 5,
   "outputs": [
    {
     "data": {
      "text/plain": "[0, 1, 4, 9, 16, 25, 36, 49, 64, 81]"
     },
     "execution_count": 5,
     "metadata": {},
     "output_type": "execute_result"
    }
   ],
   "source": [
    "# 内置高阶函数\n",
    "# map函数：将函数一次作用于序列中的每个元素，并将结果作为新的可迭代对象返回\n",
    "nums = [i for i in range(10)]\n",
    "list(map(square, nums))"
   ],
   "metadata": {
    "collapsed": false,
    "ExecuteTime": {
     "end_time": "2023-11-09T16:09:32.530089600Z",
     "start_time": "2023-11-09T16:09:32.508091100Z"
    }
   },
   "id": "fef3318761e39548"
  },
  {
   "cell_type": "code",
   "execution_count": 6,
   "outputs": [
    {
     "data": {
      "text/plain": "13627"
     },
     "execution_count": 6,
     "metadata": {},
     "output_type": "execute_result"
    }
   ],
   "source": [
    "# reduce函数：将对象中前两个元素取出来执行参数函数，然后用二者返回的对象再加上后一个取出来元素再次执行函数，依次迭代\n",
    "def f(a, b):\n",
    "    '''以a作为十位、b作为个位组成新数'''\n",
    "    return a * 10 + b\n",
    "\n",
    "\n",
    "reduce(f, [1, 3, 6, 2, 7])"
   ],
   "metadata": {
    "collapsed": false,
    "ExecuteTime": {
     "end_time": "2023-11-09T16:09:32.531090800Z",
     "start_time": "2023-11-09T16:09:32.521090500Z"
    }
   },
   "id": "7089c27f9f907bb6"
  },
  {
   "cell_type": "code",
   "execution_count": 7,
   "outputs": [
    {
     "data": {
      "text/plain": "(int, 85127885)"
     },
     "execution_count": 7,
     "metadata": {},
     "output_type": "execute_result"
    }
   ],
   "source": [
    "# 利用map函数和reduce函数实现字符串数字转整型\n",
    "def str2int(s):\n",
    "    '''字符串转整数'''\n",
    "    res = reduce(f, map(int, s))\n",
    "    return res\n",
    "\n",
    "\n",
    "s = '85127885'\n",
    "res = str2int(s)\n",
    "type(res), res"
   ],
   "metadata": {
    "collapsed": false,
    "ExecuteTime": {
     "end_time": "2023-11-09T16:09:32.550094200Z",
     "start_time": "2023-11-09T16:09:32.535090500Z"
    }
   },
   "id": "c798b41e2416544d"
  },
  {
   "cell_type": "code",
   "execution_count": 8,
   "outputs": [
    {
     "data": {
      "text/plain": "37"
     },
     "execution_count": 8,
     "metadata": {},
     "output_type": "execute_result"
    }
   ],
   "source": [
    "# 4.匿名函数：lambda关键字\n",
    "func = lambda a, b: a * 10 + b\n",
    "func(3, 7)"
   ],
   "metadata": {
    "collapsed": false,
    "ExecuteTime": {
     "end_time": "2023-11-09T16:09:32.649103800Z",
     "start_time": "2023-11-09T16:09:32.552091800Z"
    }
   },
   "id": "6d1522795c468383"
  },
  {
   "cell_type": "code",
   "execution_count": 9,
   "outputs": [
    {
     "data": {
      "text/plain": "(4272711, 11764382)"
     },
     "execution_count": 9,
     "metadata": {},
     "output_type": "execute_result"
    }
   ],
   "source": [
    "# 5.偏函数\n",
    "int8 = partial(int, base=8)\n",
    "int8('20231107'), int8('54701236')"
   ],
   "metadata": {
    "collapsed": false,
    "ExecuteTime": {
     "end_time": "2023-11-09T16:09:32.651088700Z",
     "start_time": "2023-11-09T16:09:32.567091600Z"
    }
   },
   "id": "ad135f1819bfe4c4"
  },
  {
   "cell_type": "code",
   "execution_count": 10,
   "outputs": [
    {
     "data": {
      "text/plain": "39916800"
     },
     "execution_count": 10,
     "metadata": {},
     "output_type": "execute_result"
    }
   ],
   "source": [
    "# 6.递归函数\n",
    "def fact(n):\n",
    "    '''计算阶乘'''\n",
    "    if n == 1:\n",
    "        return 1\n",
    "    return n * fact(n - 1)\n",
    "\n",
    "\n",
    "fact(11)"
   ],
   "metadata": {
    "collapsed": false,
    "ExecuteTime": {
     "end_time": "2023-11-09T16:09:32.652089300Z",
     "start_time": "2023-11-09T16:09:32.581089400Z"
    }
   },
   "id": "f23cb7f7dee1ea84"
  },
  {
   "cell_type": "code",
   "execution_count": 11,
   "outputs": [
    {
     "data": {
      "text/plain": "39916800"
     },
     "execution_count": 11,
     "metadata": {},
     "output_type": "execute_result"
    }
   ],
   "source": [
    "# 尾递归：在函数返回的时候调用函数自身，并且return语句不能包含表达式\n",
    "def fact(n):\n",
    "    '''计算阶乘'''\n",
    "    return fact_iter(n, 1)\n",
    "\n",
    "\n",
    "def fact_iter(num, product):\n",
    "    '''尾递归计算阶乘'''\n",
    "    if num == 1:\n",
    "        return product\n",
    "    return fact_iter(num - 1, num * product)\n",
    "\n",
    "\n",
    "fact(11)"
   ],
   "metadata": {
    "collapsed": false,
    "ExecuteTime": {
     "end_time": "2023-11-09T16:09:32.652089300Z",
     "start_time": "2023-11-09T16:09:32.600089700Z"
    }
   },
   "id": "8d8fa43de817e26c"
  }
 ],
 "metadata": {
  "kernelspec": {
   "display_name": "Python 3",
   "language": "python",
   "name": "python3"
  },
  "language_info": {
   "codemirror_mode": {
    "name": "ipython",
    "version": 2
   },
   "file_extension": ".py",
   "mimetype": "text/x-python",
   "name": "python",
   "nbconvert_exporter": "python",
   "pygments_lexer": "ipython2",
   "version": "2.7.6"
  }
 },
 "nbformat": 4,
 "nbformat_minor": 5
}
