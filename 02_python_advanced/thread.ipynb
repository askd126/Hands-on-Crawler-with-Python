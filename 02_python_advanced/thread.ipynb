{
 "cells": [
  {
   "cell_type": "code",
   "execution_count": 1,
   "id": "initial_id",
   "metadata": {
    "collapsed": true,
    "ExecuteTime": {
     "end_time": "2023-11-22T13:04:17.658008900Z",
     "start_time": "2023-11-22T13:04:17.574013500Z"
    }
   },
   "outputs": [],
   "source": [
    "# -*- coding: utf-8 -*-\n",
    "\n",
    "'''\n",
    "@Author   :   Corley Tang\n",
    "@contact  :   cutercorleytd@gmail.com\n",
    "@Github   :   https://github.com/corleytd\n",
    "@Time     :   2023-11-22 19:00\n",
    "@Project  :   Hands-on Crawler with Python-thread\n",
    "线程\n",
    "'''\n",
    "\n",
    "# 导入所需的库\n",
    "import random\n",
    "import threading\n",
    "import time\n",
    "from concurrent.futures import ThreadPoolExecutor, as_completed, wait, ALL_COMPLETED"
   ]
  },
  {
   "cell_type": "markdown",
   "source": [
    "# 1.同步与异步"
   ],
   "metadata": {
    "collapsed": false
   },
   "id": "ac1fbaf59ddf783d"
  },
  {
   "cell_type": "code",
   "execution_count": 2,
   "outputs": [
    {
     "name": "stdout",
     "output_type": "stream",
     "text": [
      "start\n",
      "end\n",
      "start\n",
      "end\n",
      "start\n",
      "end\n",
      "start\n",
      "end\n",
      "start\n",
      "end\n"
     ]
    }
   ],
   "source": [
    "def sleep_for_seconds(seconds):  # 模拟执行耗时任务\n",
    "    time.sleep(seconds)\n",
    "\n",
    "\n",
    "# 同步\n",
    "for i in range(5):\n",
    "    print('start')\n",
    "    sleep_for_seconds(2)\n",
    "    print('end')"
   ],
   "metadata": {
    "collapsed": false,
    "ExecuteTime": {
     "end_time": "2023-11-22T13:04:27.649415500Z",
     "start_time": "2023-11-22T13:04:17.591009Z"
    }
   },
   "id": "978e548d9f0f9da8"
  },
  {
   "cell_type": "code",
   "execution_count": 3,
   "outputs": [
    {
     "name": "stdout",
     "output_type": "stream",
     "text": [
      "start\n",
      "end\n",
      "start\n",
      "end\n",
      "start\n",
      "end\n",
      "start\n",
      "end\n",
      "start\n",
      "end\n"
     ]
    }
   ],
   "source": [
    "# 异步\n",
    "executor = ThreadPoolExecutor(max_workers=2)\n",
    "for i in range(5):\n",
    "    print('start')\n",
    "    executor.submit(sleep_for_seconds, 2)\n",
    "    print('end')"
   ],
   "metadata": {
    "collapsed": false,
    "ExecuteTime": {
     "end_time": "2023-11-22T13:04:27.703408200Z",
     "start_time": "2023-11-22T13:04:27.650416600Z"
    }
   },
   "id": "9d8e2b7618d3ff09"
  },
  {
   "cell_type": "markdown",
   "source": [
    "# 2.threading库"
   ],
   "metadata": {
    "collapsed": false
   },
   "id": "a5f90aa29ae7e56"
  },
  {
   "cell_type": "code",
   "execution_count": 4,
   "outputs": [
    {
     "name": "stdout",
     "output_type": "stream",
     "text": [
      "Done\n"
     ]
    }
   ],
   "source": [
    "# 创建线程\n",
    "# 方式1：创建threading.Thread实例，将需要被线程执行的函数传入该实例\n",
    "t = threading.Thread(target=sleep_for_seconds, args=(2,))\n",
    "t.start()  # 启动线程，此时线程就开始执行了，如果在同1个线程对象中多次调用会引发RuntimeError: threads can only be started once异常\n",
    "t.join()  # 将主线程挂起，直到子线程运行结束，若timeout不为None，，则表示主线程最长挂起的时间，主线程结束挂起后就会继续执行\n",
    "print('Done')"
   ],
   "metadata": {
    "collapsed": false,
    "ExecuteTime": {
     "end_time": "2023-11-22T13:04:29.698211300Z",
     "start_time": "2023-11-22T13:04:27.665416800Z"
    }
   },
   "id": "27d7decc8bab2171"
  },
  {
   "cell_type": "code",
   "execution_count": 5,
   "outputs": [
    {
     "name": "stdout",
     "output_type": "stream",
     "text": [
      "Done\n"
     ]
    }
   ],
   "source": [
    "# 方式2：创建一个类，该类继承于threading.Thread，重写其run()方法（更推荐）\n",
    "class CustomThread(threading.Thread):\n",
    "    def __init__(self, func, args):\n",
    "        super().__init__()\n",
    "        self.func = func\n",
    "        self.args = args\n",
    "\n",
    "    def run(self):  # 可以自定义线程具体的执行逻辑，更加灵活直观\n",
    "        self.func(*self.args)\n",
    "\n",
    "\n",
    "# 实例化线程\n",
    "t = CustomThread(sleep_for_seconds, (2,))\n",
    "t.start()\n",
    "t.join()\n",
    "print('Done')"
   ],
   "metadata": {
    "collapsed": false,
    "ExecuteTime": {
     "end_time": "2023-11-22T13:04:31.735890400Z",
     "start_time": "2023-11-22T13:04:29.704207Z"
    }
   },
   "id": "ee321b3c87881d1d"
  },
  {
   "cell_type": "markdown",
   "source": [
    "# 3.线程锁"
   ],
   "metadata": {
    "collapsed": false
   },
   "id": "3a7d476294303549"
  },
  {
   "cell_type": "code",
   "execution_count": 6,
   "outputs": [
    {
     "name": "stdout",
     "output_type": "stream",
     "text": [
      "Thread Done\n",
      "Thread Done\n",
      "Done\n"
     ]
    }
   ],
   "source": [
    "# 不使用锁：多个线程使用同一资源时，会发生冲突\n",
    "class CustomThread(threading.Thread):\n",
    "    def __init__(self, in_file, out_file):\n",
    "        super().__init__()\n",
    "        self.in_file = in_file  # 输入文件\n",
    "        self.out_file = out_file  # 输出文件\n",
    "\n",
    "    def run(self):\n",
    "        for line in self.in_file.readlines():\n",
    "            time.sleep(0.1)  # 模拟耗时操作\n",
    "            self.out_file.write(line)\n",
    "        print('Thread Done')\n",
    "\n",
    "\n",
    "f1 = open('../01_python_basic/copy_deepcopy.py', encoding='utf-8')\n",
    "f2 = open('../01_python_basic/random_str.py', encoding='utf-8')\n",
    "f3 = open('../output/thread_output.txt', 'w', encoding='utf-8')\n",
    "t1 = CustomThread(f1, f3)\n",
    "t2 = CustomThread(f2, f3)\n",
    "t1.start()\n",
    "t2.start()\n",
    "t1.join()\n",
    "t2.join()\n",
    "f1.close()\n",
    "f2.close()\n",
    "f3.close()\n",
    "print('Done')  # 输出文件中顺序混乱"
   ],
   "metadata": {
    "collapsed": false,
    "ExecuteTime": {
     "end_time": "2023-11-22T13:04:37.662820400Z",
     "start_time": "2023-11-22T13:04:31.743898100Z"
    }
   },
   "id": "530993c4a5a5ac59"
  },
  {
   "cell_type": "code",
   "execution_count": 7,
   "outputs": [
    {
     "name": "stdout",
     "output_type": "stream",
     "text": [
      "Thread Done\n",
      "Thread Done\n",
      "Done\n"
     ]
    }
   ],
   "source": [
    "# 优化：利用锁机制——线程获取锁后有locked（被锁）与unlocked（未被锁）两种状态，没有获取锁的线程无法执行，通过这种方式达到同一时刻下有且只有一个线程在运行的目的\n",
    "class CustomThread(threading.Thread):\n",
    "    def __init__(self, in_file, out_file, lock):\n",
    "        super().__init__()\n",
    "        self.in_file = in_file  # 输入文件\n",
    "        self.out_file = out_file  # 输出文件\n",
    "        self.lock = lock  # 锁对象，用于保护共享资源的访问\n",
    "\n",
    "    def run(self):\n",
    "        self.lock.acquire()  # 获得锁对象，lock状态变为locked，并且阻塞其他线程获取锁对象\n",
    "        for line in self.in_file.readlines():\n",
    "            time.sleep(0.1)  # 模拟耗时操作\n",
    "            self.out_file.write(line)\n",
    "        self.lock.release()  # 释放锁对象，lock状态变为unlocked，其他线程可以获取锁对象\n",
    "        print('Thread Done')\n",
    "\n",
    "\n",
    "f1 = open('../01_python_basic/copy_deepcopy.py', encoding='utf-8')\n",
    "f2 = open('../01_python_basic/random_str.py', encoding='utf-8')\n",
    "f3 = open('../output/thread_output.txt', 'w', encoding='utf-8')\n",
    "lock = threading.Lock()  # 创建锁对象\n",
    "t1 = CustomThread(f1, f3, lock)\n",
    "t2 = CustomThread(f2, f3, lock)\n",
    "t1.start()\n",
    "t2.start()\n",
    "t1.join()\n",
    "t2.join()\n",
    "f1.close()\n",
    "f2.close()\n",
    "f3.close()\n",
    "print('Done')  # 输出文件中顺序正常"
   ],
   "metadata": {
    "collapsed": false,
    "ExecuteTime": {
     "end_time": "2023-11-22T13:04:46.536647600Z",
     "start_time": "2023-11-22T13:04:37.669821500Z"
    }
   },
   "id": "1eda58d2bf1fc264"
  },
  {
   "cell_type": "code",
   "execution_count": 8,
   "outputs": [
    {
     "name": "stdout",
     "output_type": "stream",
     "text": [
      "Thread Done\n",
      "Thread Done\n",
      "Done\n"
     ]
    }
   ],
   "source": [
    "# 使用with关键字简化锁的获取和释放过程\n",
    "# 优化：利用锁机制\n",
    "class CustomThread(threading.Thread):\n",
    "    def __init__(self, in_file, out_file, lock):\n",
    "        super().__init__()\n",
    "        self.in_file = in_file  # 输入文件\n",
    "        self.out_file = out_file  # 输出文件\n",
    "        self.lock = lock  # 锁对象，用于保护共享资源的访问\n",
    "\n",
    "    def run(self):\n",
    "        with self.lock:\n",
    "            for line in self.in_file.readlines():\n",
    "                time.sleep(0.1)  # 模拟耗时操作\n",
    "                self.out_file.write(line)\n",
    "        print('Thread Done')\n",
    "\n",
    "\n",
    "f1 = open('../01_python_basic/copy_deepcopy.py', encoding='utf-8')\n",
    "f2 = open('../01_python_basic/random_str.py', encoding='utf-8')\n",
    "f3 = open('../output/thread_output.txt', 'w', encoding='utf-8')\n",
    "lock = threading.Lock()  # 创建锁对象\n",
    "t1 = CustomThread(f1, f3, lock)\n",
    "t2 = CustomThread(f2, f3, lock)\n",
    "t1.start()\n",
    "t2.start()\n",
    "t1.join()\n",
    "t2.join()\n",
    "f1.close()\n",
    "f2.close()\n",
    "f3.close()\n",
    "print('Done')  # 与前面结果相同"
   ],
   "metadata": {
    "collapsed": false,
    "ExecuteTime": {
     "end_time": "2023-11-22T13:04:55.397661600Z",
     "start_time": "2023-11-22T13:04:46.542649200Z"
    }
   },
   "id": "6efe058ab5dd5355"
  },
  {
   "cell_type": "code",
   "execution_count": 9,
   "outputs": [
    {
     "name": "stdout",
     "output_type": "stream",
     "text": [
      "Thread Done\n",
      "Thread Done\n",
      "Done\n"
     ]
    }
   ],
   "source": [
    "# 可重入锁\n",
    "class CustomThread(threading.Thread):\n",
    "    def __init__(self, in_file, out_file, lock):\n",
    "        super().__init__()\n",
    "        self.in_file = in_file  # 输入文件\n",
    "        self.out_file = out_file  # 输出文件\n",
    "        self.lock = lock  # 锁对象，用于保护共享资源的访问\n",
    "\n",
    "    def run(self):\n",
    "        self.lock.acquire()  # 获得锁对象\n",
    "        self.lock.acquire()  # 再次获得锁对象，可重入锁可以多次使用acquire()，而普通锁多次调用acquire()方法会产生死锁\n",
    "        for line in self.in_file.readlines():\n",
    "            time.sleep(0.1)  # 模拟耗时操作\n",
    "            self.out_file.write(line)\n",
    "        self.lock.release()  # 释放锁对象\n",
    "        self.lock.release()  # 再次释放锁对象\n",
    "        print('Thread Done')\n",
    "\n",
    "\n",
    "f1 = open('../01_python_basic/copy_deepcopy.py', encoding='utf-8')\n",
    "f2 = open('../01_python_basic/random_str.py', encoding='utf-8')\n",
    "f3 = open('../output/thread_output.txt', 'w', encoding='utf-8')\n",
    "lock = threading.RLock()  # 创建可重入锁对象：同一个线程每一次调用acquire()方法获取锁，对应的计数器会加1，而调用release()方法释放锁时，计数器会减1\n",
    "t1 = CustomThread(f1, f3, lock)\n",
    "t2 = CustomThread(f2, f3, lock)\n",
    "t1.start()\n",
    "t2.start()\n",
    "t1.join()\n",
    "t2.join()\n",
    "f1.close()\n",
    "f2.close()\n",
    "f3.close()\n",
    "print('Done')  # 输出文件中顺序正常"
   ],
   "metadata": {
    "collapsed": false,
    "ExecuteTime": {
     "end_time": "2023-11-22T13:05:04.253976700Z",
     "start_time": "2023-11-22T13:04:55.403662400Z"
    }
   },
   "id": "ff37faddb380a414"
  },
  {
   "cell_type": "code",
   "execution_count": 10,
   "outputs": [
    {
     "name": "stdout",
     "output_type": "stream",
     "text": [
      "Hello, Alice\n",
      "Hello, Corley\n"
     ]
    }
   ],
   "source": [
    "# ThreadLocal：线程拥有独立私有数据，对其他线程不可见\n",
    "local_v = threading.local()  # 全局ThreadLocal对象：每个线程都可以操作local_v变量的属性且互不影响，其中的数据只对当前线程可见\n",
    "\n",
    "\n",
    "def get_name():\n",
    "    name = local_v.name  # 从ThreadLocal中取出当前线程相应的私有数据\n",
    "    print(f'Hello, {name}')\n",
    "\n",
    "\n",
    "def set_name(name):\n",
    "    local_v.name = name  # 存入私有数据到ThreadLocal中\n",
    "    get_name()\n",
    "\n",
    "\n",
    "t1 = threading.Thread(target=set_name, args=('Alice',), name='A')\n",
    "t2 = threading.Thread(target=set_name, args=('Corley',), name='C')\n",
    "t1.start()\n",
    "t2.start()"
   ],
   "metadata": {
    "collapsed": false,
    "ExecuteTime": {
     "end_time": "2023-11-22T13:05:04.298990500Z",
     "start_time": "2023-11-22T13:05:04.257033600Z"
    }
   },
   "id": "b0a7ea9bb6b3aeb4"
  },
  {
   "cell_type": "markdown",
   "source": [
    "# 4.全局解释器锁GIL\n",
    "在Python中，线程无法利用所有CPU资源的原因可能包括以下几点：\n",
    "- **全局解释器锁（GIL）**：Python的全局解释器锁（Global Interpreter Lock）限制了同一时间只有一个线程可以执行Python字节码。这意味着即使在多核处理器上，Python线程也不能并行执行。在处理密集型任务时，这可能会限制多线程的效率。\n",
    "- **线程调度**：操作系统对线程的调度也是影响Python线程使用CPU的因素之一。在某些情况下，操作系统可能会将线程置于睡眠状态，以让其他线程使用CPU。这取决于操作系统的调度策略以及线程的运行环境。\n",
    "- **数据依赖和同步**：如果多线程之间的数据依赖性强，或者需要同步执行，那么可能无法充分利用所有CPU资源。因为线程同步可能会导致某些线程等待其他线程完成操作，从而降低了CPU的使用率。\n",
    "- **I/O操作**：如果线程经常进行I/O操作（如读写文件、网络请求等），那么它可能无法在短时间内处理大量的计算任务，从而降低了CPU的使用率。\n",
    "\n",
    "从Python3.2开始，对GIL进行重要的改进，改进后的GIL相比于Python2.x中旧版，GIL会让线程对GIL的竞争更加平稳、效率会更高。"
   ],
   "metadata": {
    "collapsed": false
   },
   "id": "93cfbd57322034ce"
  },
  {
   "cell_type": "code",
   "execution_count": 11,
   "outputs": [
    {
     "name": "stdout",
     "output_type": "stream",
     "text": [
      "顺序执行耗时：45.1431\n",
      "并发执行耗时：45.9311\n"
     ]
    }
   ],
   "source": [
    "# 比较Python2.7上旧的GIL与Python3.9上新的GIL运行效率的差别\n",
    "def count(n):\n",
    "    while n > 0:\n",
    "        n -= 1\n",
    "\n",
    "\n",
    "# 顺序执行\n",
    "start = time.time()\n",
    "for i in range(5):\n",
    "    count(100000000)\n",
    "print(f'顺序执行耗时：{time.time() - start:.4f}')\n",
    "\n",
    "# 并发执行\n",
    "start = time.time()\n",
    "for i in range(5):\n",
    "    t = threading.Thread(target=count, args=(100000000,))\n",
    "    t.start()\n",
    "    t.join()\n",
    "print(f'并发执行耗时：{time.time() - start:.4f}')"
   ],
   "metadata": {
    "collapsed": false,
    "ExecuteTime": {
     "end_time": "2023-11-22T13:06:35.369563700Z",
     "start_time": "2023-11-22T13:05:04.273972900Z"
    }
   },
   "id": "6b17c13a5189fedc"
  },
  {
   "cell_type": "markdown",
   "source": [
    "Python 2.7运行结果：\n",
    "顺序执行耗时：21.6790\n",
    "并发执行耗时：26.5600\n",
    "\n",
    "Python 3.9运行结果：\n",
    "顺序执行耗时：37.6176\n",
    "并发执行耗时：37.0380\n",
    "\n",
    "Python2.7下多线程执行耗时几乎是顺序执行的1.23倍，而Python3.8下，两者差异微小。\n",
    "# 5.线程池ThreadPoolExecutor\n",
    "Python线程最适合用于**IO密集型**任务，如网络I/O请求或磁盘I/O操作等。这些任务可以有效利用线程的优势，因为线程可以在等待IO完成时切换到其他任务。然而，如果你的项目需要CPU密集型任务，建议使用多进程或多进程+线程的方法。"
   ],
   "metadata": {
    "collapsed": false
   },
   "id": "e97825d089f6be0c"
  },
  {
   "cell_type": "code",
   "execution_count": 12,
   "outputs": [
    {
     "name": "stdout",
     "output_type": "stream",
     "text": [
      "crawl task http://www.sohu.com done\n",
      "result: 19\n",
      "crawl task http://www.baidu.com done\n",
      "result: 20\n",
      "crawl task http://www.qq.com done\n",
      "result: 17\n",
      "crawl task http://www.taobao.com done\n",
      "result: 21\n",
      "crawl task http://www.163.com done\n",
      "result: 18\n",
      "Main Done\n"
     ]
    }
   ],
   "source": [
    "def crawl(url):\n",
    "    '''模拟爬虫'''\n",
    "    time.sleep(random.random() * 10)\n",
    "    print(f'crawl task {url} done')\n",
    "    return len(url)\n",
    "\n",
    "\n",
    "urls = ['http://www.baidu.com', 'http://www.taobao.com', 'http://www.sohu.com', 'http://www.qq.com',\n",
    "        'http://www.163.com']\n",
    "\n",
    "with ThreadPoolExecutor(max_workers=3) as executor:  # 创建最大容量为3的线程池\n",
    "    tasks = []\n",
    "    for url in urls:\n",
    "        task = executor.submit(crawl, url)  # 向线程池中提交任务执行\n",
    "        tasks.append(task)  # 添加任务到任务列表中\n",
    "\n",
    "    for task in as_completed(\n",
    "            tasks):  # as_completed是一个生成器：在没有任务完成时会一直阻塞，除非设置了timeout；当有某个任务完成时，会yield这个任务，并执行for 循环，然后继续阻塞，循环直到所有的任务结束。同时，先完成的任务会先返回给主线程。\n",
    "        res = task.result()\n",
    "        print(f'result: {res}')\n",
    "    print('Main Done')"
   ],
   "metadata": {
    "collapsed": false,
    "ExecuteTime": {
     "end_time": "2023-11-22T13:06:50.434875Z",
     "start_time": "2023-11-22T13:06:35.377571200Z"
    }
   },
   "id": "417b81fcb05bb9d3"
  },
  {
   "cell_type": "code",
   "execution_count": 13,
   "outputs": [
    {
     "name": "stdout",
     "output_type": "stream",
     "text": [
      "crawl task http://www.sohu.com done\n",
      "crawl task http://www.taobao.com done\n",
      "crawl task http://www.baidu.com done\n",
      "crawl task http://www.qq.com done\n",
      "crawl task http://www.163.com done\n",
      "result: 20\n",
      "result: 17\n",
      "result: 21\n",
      "result: 19\n",
      "result: 18\n",
      "Main Done\n"
     ]
    }
   ],
   "source": [
    "# 使用wait函数实现等待线程池中所有任务完成再回到主线程\n",
    "with ThreadPoolExecutor(max_workers=3) as executor:\n",
    "    tasks = []\n",
    "    for url in urls:\n",
    "        task = executor.submit(crawl, url)\n",
    "        tasks.append(task)\n",
    "\n",
    "    wait(tasks, return_when=ALL_COMPLETED)  # 等待所有任务完成后再回到主线程\n",
    "\n",
    "    for task in as_completed(tasks):\n",
    "        res = task.result()\n",
    "        print(f'result: {res}')\n",
    "    print('Main Done')"
   ],
   "metadata": {
    "collapsed": false,
    "ExecuteTime": {
     "end_time": "2023-11-22T13:07:07.760181300Z",
     "start_time": "2023-11-22T13:06:50.436911800Z"
    }
   },
   "id": "227eb9c318d624f8"
  },
  {
   "cell_type": "code",
   "execution_count": 14,
   "outputs": [],
   "source": [
    "# ThreadPoolExecutor线程池默认不会抛出程序异常\n",
    "def crawl(url):\n",
    "    '''模拟爬虫'''\n",
    "    time.sleep(url)  # 报错：TypeError: an integer is required (got type str)\n",
    "    print(f'crawl task {url} done')\n",
    "\n",
    "\n",
    "with ThreadPoolExecutor(max_workers=3) as executor:\n",
    "    for url in urls:\n",
    "        executor.submit(crawl, url)  # 执行任务时并没有报错"
   ],
   "metadata": {
    "collapsed": false,
    "ExecuteTime": {
     "end_time": "2023-11-22T13:07:07.783188800Z",
     "start_time": "2023-11-22T13:07:07.766183400Z"
    }
   },
   "id": "ab715ea8a3e27f92"
  },
  {
   "cell_type": "code",
   "execution_count": 15,
   "outputs": [
    {
     "name": "stdout",
     "output_type": "stream",
     "text": [
      "thread error: an integer is required (got type str)\n",
      "thread error: an integer is required (got type str)\n",
      "thread error: an integer is required (got type str)\n",
      "thread error: an integer is required (got type str)\n",
      "thread error: an integer is required (got type str)\n",
      "Main Done\n"
     ]
    }
   ],
   "source": [
    "# 方式1：通过返回值捕获异常并处理\n",
    "with ThreadPoolExecutor(max_workers=3) as executor:\n",
    "    tasks = []\n",
    "    for url in urls:\n",
    "        task = executor.submit(crawl, url)\n",
    "        tasks.append(task)\n",
    "\n",
    "    for task in as_completed(tasks):\n",
    "        try:\n",
    "            res = task.result()\n",
    "            print(f'result: {res}')\n",
    "        except Exception as e:\n",
    "            print(f'thread error: {e}')\n",
    "    print('Main Done')"
   ],
   "metadata": {
    "collapsed": false,
    "ExecuteTime": {
     "end_time": "2023-11-22T13:07:07.793186Z",
     "start_time": "2023-11-22T13:07:07.782186200Z"
    }
   },
   "id": "24ad1121a1e1dc50"
  },
  {
   "cell_type": "code",
   "execution_count": 16,
   "outputs": [
    {
     "name": "stdout",
     "output_type": "stream",
     "text": [
      "thread error：an integer is required (got type str)\n",
      "thread error：an integer is required (got type str)\n",
      "thread error：an integer is required (got type str)\n",
      "Main Done\n",
      "thread error：an integer is required (got type str)\n",
      "thread error：an integer is required (got type str)\n"
     ]
    }
   ],
   "source": [
    "# 方式2：通过add_done_callback函数给线程任务增加回调函数\n",
    "def exception_callback(worker):\n",
    "    exception = worker.exception()  # 获取工作线程的异常\n",
    "    if exception:\n",
    "        print(f'thread error：{exception}')\n",
    "\n",
    "\n",
    "with ThreadPoolExecutor(max_workers=3) as executor:\n",
    "    tasks = []\n",
    "    for url in urls:\n",
    "        executor.submit(crawl, url).add_done_callback(exception_callback)  # 添加回调方法\n",
    "    print('Main Done')"
   ],
   "metadata": {
    "collapsed": false,
    "ExecuteTime": {
     "end_time": "2023-11-22T13:07:07.809183700Z",
     "start_time": "2023-11-22T13:07:07.796181100Z"
    }
   },
   "id": "a462e6304e0e965b"
  },
  {
   "cell_type": "markdown",
   "source": [
    "在Python中，可以在单个子线程中再通过ThreadPoolExecutor创建线程池，具体是在Python中创建线程需要使用threading模块，而创建线程池则需要使用concurrent.futures模块中的ThreadPoolExecutor类，在一个单独的线程中创建线程池并不会影响全局的线程管理，因此是可以做到的。\n",
    "\n",
    "但是这样做并不常见，也可能会引入一些问题。例如，如果主线程和子线程都尝试访问共享资源，可能会出现竞态条件（race condition）或者死锁等问题。此外，如果主线程和子线程都打印输出，可能会造成输出的内容混乱。同时，还需要注意线程间的同步问题，否则可能导致线程冲突。在线程池中创建线程可能会导致线程资源浪费，并且增加了系统的复杂性，应该尽量避免。通常情况下，建议在主线程中创建线程池，而不是在线程池内部再创建线程，然后将任务提交给线程池执行。这样可以更好地控制线程的管理和资源的访问，避免出现上述问题。\n",
    "\n",
    "以下是一个在一个单独的线程中创建线程池并提交任务的示例代码：\n",
    "```python\n",
    "def worker(num):\n",
    "    print(f\"Worker {num} is running\")\n",
    "    return num * num\n",
    "\n",
    "def main():\n",
    "    # 创建一个线程池，大小为4\n",
    "    with ThreadPoolExecutor(max_workers=4) as executor:\n",
    "        # 提交任务给线程池\n",
    "        for i in range(10):\n",
    "            executor.submit(worker, i)\n",
    "\n",
    "# 创建一个新线程并运行主函数\n",
    "new_thread = threading.Thread(target=main)\n",
    "new_thread.start()\n",
    "```\n",
    "\n",
    "在这个示例中，我们创建了一个新的线程并运行了main函数。在main函数中，我们使用ThreadPoolExecutor创建了一个大小为4的线程池，然后提交了10个任务给线程池执行。每个任务都是调用worker函数，打印一些信息并返回结果的平方。最后，我们打印出了每个任务的执行结果。\n",
    "\n",
    "同理，也可以在ThreadPoolExecutor线程池中创建单个子线程。具体来说，可以先使用threading.Thread创建子线程实现需要执行的任务逻辑，再使用ThreadPoolExecutor的submit()函数来提交这些任务（函数名和参数）到线程池中，并返回一个代表此任务的句柄。然而，要注意的是这样做可能会导致线程数量过多，从而影响程序的性能和稳定性。所以一般建议在需要使用线程池的地方直接使用ThreadPoolExecutor创建线程池，而不是在已经存在的线程中再次创建新的线程。\n",
    "举例如下：\n",
    "```python\n",
    "def worker(num):\n",
    "    print(f\"Worker {num} is running\")\n",
    "    return num * num\n",
    "\n",
    "def single_task(i): # 单个子线程\n",
    "    t = threading.Thread(target=worker, args=(i,))\n",
    "    t.start()\n",
    "    t.join()\n",
    "\n",
    "def main():\n",
    "    # 创建一个线程池，大小为4\n",
    "    with ThreadPoolExecutor(max_workers=4) as executor:\n",
    "        # 提交任务给线程池\n",
    "        for i in range(10):\n",
    "            executor.submit(single_task, i)\n",
    "\n",
    "if __name__ == '__main__':\n",
    "    # 创建一个新线程并运行主函数\n",
    "    new_thread = threading.Thread(target=main)\n",
    "    new_thread.start()\n",
    "```"
   ],
   "metadata": {
    "collapsed": false
   },
   "id": "951920f2277fbefc"
  }
 ],
 "metadata": {
  "kernelspec": {
   "display_name": "Python 3",
   "language": "python",
   "name": "python3"
  },
  "language_info": {
   "codemirror_mode": {
    "name": "ipython",
    "version": 2
   },
   "file_extension": ".py",
   "mimetype": "text/x-python",
   "name": "python",
   "nbconvert_exporter": "python",
   "pygments_lexer": "ipython2",
   "version": "2.7.6"
  }
 },
 "nbformat": 4,
 "nbformat_minor": 5
}
