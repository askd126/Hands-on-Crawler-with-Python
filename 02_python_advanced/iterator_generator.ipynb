{
 "cells": [
  {
   "cell_type": "code",
   "execution_count": 1,
   "id": "initial_id",
   "metadata": {
    "collapsed": true,
    "ExecuteTime": {
     "end_time": "2023-11-21T08:26:54.974626100Z",
     "start_time": "2023-11-21T08:26:54.763053200Z"
    }
   },
   "outputs": [],
   "source": [
    "# -*- coding: utf-8 -*-\n",
    "\n",
    "'''\n",
    "@Author   :   Corley Tang\n",
    "@contact  :   cutercorleytd@gmail.com\n",
    "@Github   :   https://github.com/corleytd\n",
    "@Time     :   2023-11-21 21:48\n",
    "@Project  :   Hands-on Crawler with Python-iterator_generator\n",
    "迭代器与生成器\n",
    "'''\n",
    "\n",
    "# 导入所需的库\n",
    "import time"
   ]
  },
  {
   "cell_type": "markdown",
   "source": [
    "# 1.可迭代对象与迭代器\n",
    "迭代器是一个可以记住遍历的位置的对象，它能用来访问集合元素，当我们需要按照顺序访问一个可迭代对象（如列表、元组、字典等）的所有元素时，可以使用迭代器。迭代器实现了迭代器协议，即定义了`__iter__()`和`__next__()`方法。"
   ],
   "metadata": {
    "collapsed": false
   },
   "id": "656387fbb060d18a"
  },
  {
   "cell_type": "code",
   "execution_count": 2,
   "outputs": [
    {
     "data": {
      "text/plain": "<__main__.Sentence at 0x1c4d8a839d0>"
     },
     "execution_count": 2,
     "metadata": {},
     "output_type": "execute_result"
    }
   ],
   "source": [
    "# 定义可迭代对象\n",
    "class Sentence:\n",
    "    def __init__(self, text):\n",
    "        self.words = text.split(' ')\n",
    "\n",
    "    def __getitem__(self, index):\n",
    "        return self.words[index]\n",
    "\n",
    "    def __len__(self):\n",
    "        return len(self.words)\n",
    "\n",
    "\n",
    "# 实例化，得到可迭代对象\n",
    "sent_iteratable = Sentence('Hope for the best, but prepare for the worst.')\n",
    "sent_iteratable"
   ],
   "metadata": {
    "collapsed": false,
    "ExecuteTime": {
     "end_time": "2023-11-21T08:26:54.976625300Z",
     "start_time": "2023-11-21T08:26:54.776023800Z"
    }
   },
   "id": "7e8af6bdd74aeafc"
  },
  {
   "cell_type": "code",
   "execution_count": 3,
   "outputs": [
    {
     "data": {
      "text/plain": "<iterator at 0x1c4d8a83910>"
     },
     "execution_count": 3,
     "metadata": {},
     "output_type": "execute_result"
    }
   ],
   "source": [
    "# 迭代器\n",
    "sent_iterator = iter(sent_iteratable)\n",
    "sent_iterator"
   ],
   "metadata": {
    "collapsed": false,
    "ExecuteTime": {
     "end_time": "2023-11-21T08:26:54.987593200Z",
     "start_time": "2023-11-21T08:26:54.884298300Z"
    }
   },
   "id": "e272e38496d9bbda"
  },
  {
   "cell_type": "code",
   "execution_count": 4,
   "outputs": [
    {
     "data": {
      "text/plain": "'Hope'"
     },
     "execution_count": 4,
     "metadata": {},
     "output_type": "execute_result"
    }
   ],
   "source": [
    "# 调用next()函数，得到下一个元素\n",
    "next(sent_iterator)"
   ],
   "metadata": {
    "collapsed": false,
    "ExecuteTime": {
     "end_time": "2023-11-21T08:26:55.095809900Z",
     "start_time": "2023-11-21T08:26:54.963656300Z"
    }
   },
   "id": "e0d584736673cc76"
  },
  {
   "cell_type": "code",
   "execution_count": 5,
   "outputs": [
    {
     "data": {
      "text/plain": "'for'"
     },
     "execution_count": 5,
     "metadata": {},
     "output_type": "execute_result"
    }
   ],
   "source": [
    "next(sent_iterator)"
   ],
   "metadata": {
    "collapsed": false,
    "ExecuteTime": {
     "end_time": "2023-11-21T08:26:55.161855300Z",
     "start_time": "2023-11-21T08:26:55.066887800Z"
    }
   },
   "id": "b5cffc26a6ad0174"
  },
  {
   "cell_type": "code",
   "execution_count": 6,
   "outputs": [
    {
     "data": {
      "text/plain": "'worst.'"
     },
     "execution_count": 6,
     "metadata": {},
     "output_type": "execute_result"
    }
   ],
   "source": [
    "next(sent_iterator)\n",
    "next(sent_iterator)\n",
    "next(sent_iterator)\n",
    "next(sent_iterator)\n",
    "next(sent_iterator)\n",
    "next(sent_iterator)\n",
    "next(sent_iterator)"
   ],
   "metadata": {
    "collapsed": false,
    "ExecuteTime": {
     "end_time": "2023-11-21T08:26:55.180772Z",
     "start_time": "2023-11-21T08:26:55.120744900Z"
    }
   },
   "id": "72c2714f85ec388d"
  },
  {
   "cell_type": "code",
   "execution_count": 7,
   "outputs": [
    {
     "ename": "StopIteration",
     "evalue": "",
     "output_type": "error",
     "traceback": [
      "\u001B[1;31m---------------------------------------------------------------------------\u001B[0m",
      "\u001B[1;31mStopIteration\u001B[0m                             Traceback (most recent call last)",
      "Cell \u001B[1;32mIn[7], line 1\u001B[0m\n\u001B[1;32m----> 1\u001B[0m \u001B[38;5;28;43mnext\u001B[39;49m\u001B[43m(\u001B[49m\u001B[43msent_iterator\u001B[49m\u001B[43m)\u001B[49m\n",
      "\u001B[1;31mStopIteration\u001B[0m: "
     ]
    }
   ],
   "source": [
    "next(sent_iterator)  # 迭代器结束后再继续调用，会抛出StopIteration异常"
   ],
   "metadata": {
    "collapsed": false,
    "ExecuteTime": {
     "end_time": "2023-11-21T08:26:56.257929600Z",
     "start_time": "2023-11-21T08:26:55.181768700Z"
    }
   },
   "id": "90e938ed95d67af5"
  },
  {
   "cell_type": "code",
   "execution_count": 8,
   "outputs": [
    {
     "data": {
      "text/plain": "[]"
     },
     "execution_count": 8,
     "metadata": {},
     "output_type": "execute_result"
    }
   ],
   "source": [
    "list(sent_iterator)  # 迭代器只能使用1次，如果需要再次迭代，需要重新构建迭代器"
   ],
   "metadata": {
    "collapsed": false,
    "ExecuteTime": {
     "end_time": "2023-11-21T08:27:09.381382800Z",
     "start_time": "2023-11-21T08:27:09.192133700Z"
    }
   },
   "id": "33b1a7c3fc6dd90e"
  },
  {
   "cell_type": "code",
   "execution_count": 9,
   "outputs": [
    {
     "name": "stdout",
     "output_type": "stream",
     "text": [
      "Hope\n",
      "for\n",
      "the\n",
      "best,\n",
      "but\n",
      "prepare\n",
      "for\n",
      "the\n",
      "worst.\n"
     ]
    }
   ],
   "source": [
    "# 可迭代对象类：实现__iter__或__getitem__方法\n",
    "class Sentence:\n",
    "    def __init__(self, text):\n",
    "        self.words = text.split(' ')\n",
    "\n",
    "    def __iter__(self):  # 使得类可迭代：实例化并返回一个迭代器\n",
    "        return SentenceIterator(self.words)\n",
    "\n",
    "\n",
    "# 迭代器类：实现__iter__和__next__方法\n",
    "class SentenceIterator:\n",
    "    def __init__(self, words):\n",
    "        self.words = words\n",
    "        self.index = 0\n",
    "\n",
    "    def __next__(self):  # 按顺序返回下一个元素\n",
    "        try:\n",
    "            word = self.words[self.index]\n",
    "        except IndexError:\n",
    "            raise StopIteration()\n",
    "        self.index += 1\n",
    "        return word\n",
    "\n",
    "    def __iter__(self):  # 返回迭代器自身\n",
    "        return self\n",
    "\n",
    "\n",
    "# 实例化\n",
    "sent_iteratable = Sentence('Hope for the best, but prepare for the worst.')\n",
    "for word in sent_iteratable:\n",
    "    print(word)"
   ],
   "metadata": {
    "collapsed": false,
    "ExecuteTime": {
     "end_time": "2023-11-21T08:27:09.570912700Z",
     "start_time": "2023-11-21T08:27:09.213821800Z"
    }
   },
   "id": "5f2c0381ab7b1b30"
  },
  {
   "cell_type": "markdown",
   "source": [
    "# 2.生成器与生成器对象\n",
    "生成器是一种特殊的迭代器，它的特点是可以使用yield关键字来返回值，每次调用生成器的`__next__()`方法时，生成器会从上次yield的位置继续执行，直到遇到下一个yield关键字或者执行完毕。相比于普通的函数和迭代器，生成器更加节省内存，因为它是惰性计算的：它们并不会立即执行或占用大量内存，而是在需要时生成数据。\n",
    "\n",
    "迭代器和生成器都是实现顺序访问集合元素的工具，但迭代器是一次性返回所有结果，而生成器则是每次返回一个结果，并在下次请求时从上次暂停的地方继续。因此，生成器特别适合处理大量数据或者需要延迟计算的场景。\n",
    "\n",
    "yield和return都可以在函数中使用，以返回一个值。区别在于：当函数包含yield关键字时，该函数变为生成器函数，生成器函数不是返回一次性的数据结果，而是返回一个生成器对象。每次调用生成器的`__next__()`方法时，生成器会从上次yield的位置继续执行，直到遇到下一个yield关键字或者执行完毕。而return则是返回一个具体的结果值，并且结束当前函数的执行。"
   ],
   "metadata": {
    "collapsed": false
   },
   "id": "1edc6c878d2b01ab"
  },
  {
   "cell_type": "code",
   "execution_count": 10,
   "outputs": [
    {
     "name": "stdout",
     "output_type": "stream",
     "text": [
      "Hope\n",
      "for\n",
      "the\n",
      "best,\n",
      "but\n",
      "prepare\n",
      "for\n",
      "the\n",
      "worst.\n"
     ]
    }
   ],
   "source": [
    "# 使用生成器简化可迭代对象类\n",
    "class Sentence:\n",
    "    def __init__(self, text):\n",
    "        self.words = text.split(' ')\n",
    "\n",
    "    def __iter__(self):  # 生成器函数，调用时会自动创建生成器对象\n",
    "        for word in self.words:\n",
    "            yield word\n",
    "\n",
    "\n",
    "# 实例化\n",
    "sent_generator = Sentence('Hope for the best, but prepare for the worst.')\n",
    "for word in sent_generator:\n",
    "    print(word)"
   ],
   "metadata": {
    "collapsed": false,
    "ExecuteTime": {
     "end_time": "2023-11-21T08:27:09.572904700Z",
     "start_time": "2023-11-21T08:27:09.319528700Z"
    }
   },
   "id": "377cc5b39ed8bf66"
  },
  {
   "cell_type": "code",
   "execution_count": 11,
   "outputs": [
    {
     "data": {
      "text/plain": "<function __main__.generator_func()>"
     },
     "execution_count": 11,
     "metadata": {},
     "output_type": "execute_result"
    }
   ],
   "source": [
    "# 生成器函数：即生成器工厂，用于产生生成器对象\n",
    "def generator_func():\n",
    "    yield 1\n",
    "    yield 2\n",
    "    yield 3\n",
    "\n",
    "\n",
    "generator_func  # 函数对象"
   ],
   "metadata": {
    "collapsed": false,
    "ExecuteTime": {
     "end_time": "2023-11-21T08:27:09.573902100Z",
     "start_time": "2023-11-21T08:27:09.444218900Z"
    }
   },
   "id": "fecb75a1557b92cf"
  },
  {
   "cell_type": "code",
   "execution_count": 12,
   "outputs": [
    {
     "data": {
      "text/plain": "<generator object generator_func at 0x000001C4DA68AE40>"
     },
     "execution_count": 12,
     "metadata": {},
     "output_type": "execute_result"
    }
   ],
   "source": [
    "generator_func()  # 生成器对象"
   ],
   "metadata": {
    "collapsed": false,
    "ExecuteTime": {
     "end_time": "2023-11-21T08:27:09.669657200Z",
     "start_time": "2023-11-21T08:27:09.525033800Z"
    }
   },
   "id": "ce31c0c77d5de2dc"
  },
  {
   "cell_type": "code",
   "execution_count": 13,
   "outputs": [
    {
     "name": "stdout",
     "output_type": "stream",
     "text": [
      "1\n",
      "2\n",
      "3\n"
     ]
    }
   ],
   "source": [
    "# 生成器是迭代器\n",
    "for i in generator_func():\n",
    "    print(i)"
   ],
   "metadata": {
    "collapsed": false,
    "ExecuteTime": {
     "end_time": "2023-11-21T08:27:09.671682100Z",
     "start_time": "2023-11-21T08:27:09.605817300Z"
    }
   },
   "id": "de0d43db8d96fcba"
  },
  {
   "cell_type": "code",
   "execution_count": 14,
   "outputs": [
    {
     "data": {
      "text/plain": "<generator object generator_func at 0x000001C4DA68ACF0>"
     },
     "execution_count": 14,
     "metadata": {},
     "output_type": "execute_result"
    }
   ],
   "source": [
    "# 生成器对象赋值给g\n",
    "g = generator_func()\n",
    "g"
   ],
   "metadata": {
    "collapsed": false,
    "ExecuteTime": {
     "end_time": "2023-11-21T08:27:09.763908200Z",
     "start_time": "2023-11-21T08:27:09.667650700Z"
    }
   },
   "id": "168a37da3adb46e5"
  },
  {
   "cell_type": "code",
   "execution_count": 15,
   "outputs": [
    {
     "data": {
      "text/plain": "1"
     },
     "execution_count": 15,
     "metadata": {},
     "output_type": "execute_result"
    }
   ],
   "source": [
    "# g是迭代器，所以可以用next函数获取yield生成的下一个元素\n",
    "next(g)"
   ],
   "metadata": {
    "collapsed": false,
    "ExecuteTime": {
     "end_time": "2023-11-21T08:27:09.914044300Z",
     "start_time": "2023-11-21T08:27:09.762917200Z"
    }
   },
   "id": "f2b3d9f3705f7bb6"
  },
  {
   "cell_type": "code",
   "execution_count": 16,
   "outputs": [
    {
     "ename": "StopIteration",
     "evalue": "",
     "output_type": "error",
     "traceback": [
      "\u001B[1;31m---------------------------------------------------------------------------\u001B[0m",
      "\u001B[1;31mStopIteration\u001B[0m                             Traceback (most recent call last)",
      "Cell \u001B[1;32mIn[16], line 3\u001B[0m\n\u001B[0;32m      1\u001B[0m \u001B[38;5;28mnext\u001B[39m(g)\n\u001B[0;32m      2\u001B[0m \u001B[38;5;28mnext\u001B[39m(g)\n\u001B[1;32m----> 3\u001B[0m \u001B[38;5;28;43mnext\u001B[39;49m\u001B[43m(\u001B[49m\u001B[43mg\u001B[49m\u001B[43m)\u001B[49m\n",
      "\u001B[1;31mStopIteration\u001B[0m: "
     ]
    }
   ],
   "source": [
    "next(g)\n",
    "next(g)\n",
    "next(g)  # 生成器函数定义体执行完毕后，生成器对象也会抛出StopIteration异常"
   ],
   "metadata": {
    "collapsed": false,
    "ExecuteTime": {
     "end_time": "2023-11-21T08:27:10.030733100Z",
     "start_time": "2023-11-21T08:27:09.916040200Z"
    }
   },
   "id": "82c3733c0f86fbbd"
  },
  {
   "cell_type": "code",
   "execution_count": 17,
   "outputs": [
    {
     "name": "stdout",
     "output_type": "stream",
     "text": [
      "start\n",
      "get 1\n",
      "yield 1\n",
      "get 2\n",
      "yield 2\n",
      "get 3\n",
      "end\n"
     ]
    }
   ],
   "source": [
    "# 生成器函数定义体的执行过程\n",
    "def generator_func():\n",
    "    print('start')\n",
    "    yield 1\n",
    "    print('yield 1')\n",
    "    yield 2\n",
    "    print('yield 2')\n",
    "    yield 3\n",
    "    print('end')\n",
    "\n",
    "\n",
    "for i in generator_func():  # 调用生成器函数得到生成器对象\n",
    "    print(f'get {i}')\n",
    "    time.sleep(5)"
   ],
   "metadata": {
    "collapsed": false,
    "ExecuteTime": {
     "end_time": "2023-11-21T08:27:33.243141Z",
     "start_time": "2023-11-21T08:27:18.193023100Z"
    }
   },
   "id": "f295562aca39fe0f"
  },
  {
   "cell_type": "markdown",
   "source": [
    "# 3.生成器表达式"
   ],
   "metadata": {
    "collapsed": false
   },
   "id": "12e5503c215bddbf"
  },
  {
   "cell_type": "code",
   "execution_count": 18,
   "outputs": [
    {
     "data": {
      "text/plain": "['Hope', 'for', 'the', 'best,', 'but', 'prepare', 'for', 'the', 'worst.']"
     },
     "execution_count": 18,
     "metadata": {},
     "output_type": "execute_result"
    }
   ],
   "source": [
    "# 列表推导式\n",
    "[word for word in Sentence('Hope for the best, but prepare for the worst.')]"
   ],
   "metadata": {
    "collapsed": false,
    "ExecuteTime": {
     "end_time": "2023-11-21T08:27:33.287217400Z",
     "start_time": "2023-11-21T08:27:33.246134500Z"
    }
   },
   "id": "78d02ec56310b2e4"
  },
  {
   "cell_type": "code",
   "execution_count": 19,
   "outputs": [
    {
     "data": {
      "text/plain": "<generator object <genexpr> at 0x000001C4DA6B4890>"
     },
     "execution_count": 19,
     "metadata": {},
     "output_type": "execute_result"
    }
   ],
   "source": [
    "# 生成器表达式\n",
    "generator = (word for word in Sentence('Hope for the best, but prepare for the worst.'))\n",
    "generator  # 生成器对象，使用for循环或next函数时，才会返回元素"
   ],
   "metadata": {
    "collapsed": false,
    "ExecuteTime": {
     "end_time": "2023-11-21T08:27:33.356412100Z",
     "start_time": "2023-11-21T08:27:33.262119300Z"
    }
   },
   "id": "88b8f433d0cdf91f"
  },
  {
   "cell_type": "code",
   "execution_count": 20,
   "outputs": [
    {
     "data": {
      "text/plain": "'Hope'"
     },
     "execution_count": 20,
     "metadata": {},
     "output_type": "execute_result"
    }
   ],
   "source": [
    "next(generator)"
   ],
   "metadata": {
    "collapsed": false,
    "ExecuteTime": {
     "end_time": "2023-11-21T08:27:33.419726900Z",
     "start_time": "2023-11-21T08:27:33.354420600Z"
    }
   },
   "id": "350dd82c616140d"
  },
  {
   "cell_type": "markdown",
   "source": [
    "# 4.yield from"
   ],
   "metadata": {
    "collapsed": false
   },
   "id": "c5507616ecaef174"
  },
  {
   "cell_type": "code",
   "execution_count": 21,
   "outputs": [
    {
     "data": {
      "text/plain": "<generator object gen_nums at 0x000001C4DA6B4900>"
     },
     "execution_count": 21,
     "metadata": {},
     "output_type": "execute_result"
    }
   ],
   "source": [
    "# 生成器函数\n",
    "def gen_nums(n):\n",
    "    for i in range(n):\n",
    "        yield i\n",
    "\n",
    "\n",
    "# 生成器函数，参数是生成器对象\n",
    "def chain(*gens):\n",
    "    for gen in gens:\n",
    "        for i in gen:\n",
    "            yield i\n",
    "\n",
    "\n",
    "# 实例化生成器对象\n",
    "g1 = gen_nums(5)\n",
    "g1"
   ],
   "metadata": {
    "collapsed": false,
    "ExecuteTime": {
     "end_time": "2023-11-21T08:27:33.496844300Z",
     "start_time": "2023-11-21T08:27:33.417704Z"
    }
   },
   "id": "dde01deb150ec143"
  },
  {
   "cell_type": "code",
   "execution_count": 22,
   "outputs": [
    {
     "data": {
      "text/plain": "<generator object gen_nums at 0x000001C4DA6B4A50>"
     },
     "execution_count": 22,
     "metadata": {},
     "output_type": "execute_result"
    }
   ],
   "source": [
    "# 实例化生成器对象\n",
    "g2 = gen_nums(10)\n",
    "g2"
   ],
   "metadata": {
    "collapsed": false,
    "ExecuteTime": {
     "end_time": "2023-11-21T08:27:33.571952400Z",
     "start_time": "2023-11-21T08:27:33.495812900Z"
    }
   },
   "id": "44d52439cf76c3e4"
  },
  {
   "cell_type": "code",
   "execution_count": 23,
   "outputs": [
    {
     "data": {
      "text/plain": "<generator object chain at 0x000001C4DA6B4DD0>"
     },
     "execution_count": 23,
     "metadata": {},
     "output_type": "execute_result"
    }
   ],
   "source": [
    "g3 = chain(g1, g2)  # 传入生成器\n",
    "g3"
   ],
   "metadata": {
    "collapsed": false,
    "ExecuteTime": {
     "end_time": "2023-11-21T08:27:33.635680200Z",
     "start_time": "2023-11-21T08:27:33.573946800Z"
    }
   },
   "id": "f497c0f4f4833b94"
  },
  {
   "cell_type": "code",
   "execution_count": 24,
   "outputs": [
    {
     "data": {
      "text/plain": "[0, 1, 2, 3, 4, 0, 1, 2, 3, 4, 5, 6, 7, 8, 9]"
     },
     "execution_count": 24,
     "metadata": {},
     "output_type": "execute_result"
    }
   ],
   "source": [
    "list(g3)"
   ],
   "metadata": {
    "collapsed": false,
    "ExecuteTime": {
     "end_time": "2023-11-21T08:27:33.699525200Z",
     "start_time": "2023-11-21T08:27:33.636677300Z"
    }
   },
   "id": "de18f9e95a7e391"
  },
  {
   "cell_type": "code",
   "execution_count": 25,
   "outputs": [
    {
     "data": {
      "text/plain": "<generator object chain at 0x000001C4DA6FD040>"
     },
     "execution_count": 25,
     "metadata": {},
     "output_type": "execute_result"
    }
   ],
   "source": [
    "# 使用yield from简化代码\n",
    "def chain(*gens):\n",
    "    for gen in gens:\n",
    "        yield from gen  # 并不单是语法糖，还会创建通道、将内层生成器与外层生成器联系起来\n",
    "\n",
    "\n",
    "g4 = chain(gen_nums(5), gen_nums(10))\n",
    "g4"
   ],
   "metadata": {
    "collapsed": false,
    "ExecuteTime": {
     "end_time": "2023-11-21T08:27:33.769914800Z",
     "start_time": "2023-11-21T08:27:33.702503600Z"
    }
   },
   "id": "8e86d00ead282800"
  },
  {
   "cell_type": "code",
   "execution_count": 26,
   "outputs": [
    {
     "data": {
      "text/plain": "[0, 1, 2, 3, 4, 0, 1, 2, 3, 4, 5, 6, 7, 8, 9]"
     },
     "execution_count": 26,
     "metadata": {},
     "output_type": "execute_result"
    }
   ],
   "source": [
    "list(g4)"
   ],
   "metadata": {
    "collapsed": false,
    "ExecuteTime": {
     "end_time": "2023-11-21T08:27:33.848743100Z",
     "start_time": "2023-11-21T08:27:33.764928800Z"
    }
   },
   "id": "639351f1eccae344"
  },
  {
   "cell_type": "code",
   "execution_count": 27,
   "outputs": [
    {
     "data": {
      "text/plain": "[20, 21, 22, 23, 24]"
     },
     "execution_count": 27,
     "metadata": {},
     "output_type": "execute_result"
    }
   ],
   "source": [
    "def add(a, b):\n",
    "    return a + b\n",
    "\n",
    "\n",
    "def map():\n",
    "    yield from range(5)\n",
    "\n",
    "\n",
    "n = 1\n",
    "g = (add(i, n) for i in map())  # 生成器，未进行计算\n",
    "\n",
    "n = 10\n",
    "g = (add(i, n) for i in g)  # 生成器，未进行计算\n",
    "list(g)  # 进行计算，此时n为10，因此加了2次10，即0~4均加了20，为20~24"
   ],
   "metadata": {
    "collapsed": false,
    "ExecuteTime": {
     "end_time": "2023-11-21T08:27:33.934803500Z",
     "start_time": "2023-11-21T08:27:33.844730600Z"
    }
   },
   "id": "346f1308fe3a0a0d"
  }
 ],
 "metadata": {
  "kernelspec": {
   "display_name": "Python 3",
   "language": "python",
   "name": "python3"
  },
  "language_info": {
   "codemirror_mode": {
    "name": "ipython",
    "version": 2
   },
   "file_extension": ".py",
   "mimetype": "text/x-python",
   "name": "python",
   "nbconvert_exporter": "python",
   "pygments_lexer": "ipython2",
   "version": "2.7.6"
  }
 },
 "nbformat": 4,
 "nbformat_minor": 5
}
