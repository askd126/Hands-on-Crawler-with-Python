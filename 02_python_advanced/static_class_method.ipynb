{
 "cells": [
  {
   "cell_type": "code",
   "execution_count": 1,
   "id": "initial_id",
   "metadata": {
    "collapsed": true,
    "ExecuteTime": {
     "end_time": "2023-11-19T13:30:50.298487500Z",
     "start_time": "2023-11-19T13:30:50.273490Z"
    }
   },
   "outputs": [
    {
     "data": {
      "text/plain": "__main__.Student"
     },
     "execution_count": 1,
     "metadata": {},
     "output_type": "execute_result"
    }
   ],
   "source": [
    "# -*- coding: utf-8 -*-\n",
    "\n",
    "'''\n",
    "@Author   :   Corley Tang\n",
    "@contact  :   cutercorleytd@gmail.com\n",
    "@Github   :   https://github.com/corleytd\n",
    "@Time     :   2023-11-19 21:15\n",
    "@Project  :   Hands-on Crawler with Python-static_class_method\n",
    "静态方法与类方法\n",
    "'''\n",
    "\n",
    "\n",
    "# 1.类的各个实例之间的数据互相独立、互不影响\n",
    "class Student:\n",
    "    pass\n",
    "\n",
    "\n",
    "Student  # 类对象"
   ]
  },
  {
   "cell_type": "code",
   "execution_count": 2,
   "outputs": [
    {
     "data": {
      "text/plain": "<__main__.Student at 0x139d52adfd0>"
     },
     "execution_count": 2,
     "metadata": {},
     "output_type": "execute_result"
    }
   ],
   "source": [
    "s1 = Student()\n",
    "s1"
   ],
   "metadata": {
    "collapsed": false,
    "ExecuteTime": {
     "end_time": "2023-11-19T13:30:50.388495700Z",
     "start_time": "2023-11-19T13:30:50.307486300Z"
    }
   },
   "id": "4bcf97b8188974a7"
  },
  {
   "cell_type": "code",
   "execution_count": 3,
   "outputs": [
    {
     "data": {
      "text/plain": "<__main__.Student at 0x139d52c0670>"
     },
     "execution_count": 3,
     "metadata": {},
     "output_type": "execute_result"
    }
   ],
   "source": [
    "s2 = Student()\n",
    "s2  # 与s1不同"
   ],
   "metadata": {
    "collapsed": false,
    "ExecuteTime": {
     "end_time": "2023-11-19T13:30:50.389489200Z",
     "start_time": "2023-11-19T13:30:50.332487100Z"
    }
   },
   "id": "860c201ceeab03ac"
  },
  {
   "cell_type": "code",
   "execution_count": 4,
   "outputs": [
    {
     "name": "stdout",
     "output_type": "stream",
     "text": [
      "instance_method: <__main__.Student object at 0x00000139D52B5850>\n",
      "class_method: <class '__main__.Student'>\n",
      "static_method\n"
     ]
    }
   ],
   "source": [
    "# 2.类方法与静态方法\n",
    "class Student:\n",
    "    # 实例方法：普通函数，需要传入实例对象self\n",
    "    def instance_method(self):\n",
    "        print(f'instance_method: {self}')\n",
    "\n",
    "    # 类方法：classmethod装饰器修饰，需要传入类对象cls\n",
    "    @classmethod\n",
    "    def class_method(cls):\n",
    "        print(f'class_method: {cls}')\n",
    "\n",
    "    # 静态方法：staticmethod装饰器装饰，不需要传入self或cls参数，被约束到类中、使代码更加规范\n",
    "    @staticmethod\n",
    "    def static_method():\n",
    "        print('static_method')\n",
    "\n",
    "\n",
    "student = Student()\n",
    "student.instance_method()  # 通过实例对象调用\n",
    "Student.class_method()  # 通过类对象调用\n",
    "Student.static_method()  # 通过类对象调用"
   ],
   "metadata": {
    "collapsed": false,
    "ExecuteTime": {
     "end_time": "2023-11-19T13:30:50.403482700Z",
     "start_time": "2023-11-19T13:30:50.345485400Z"
    }
   },
   "id": "8ce54541cb35c130"
  }
 ],
 "metadata": {
  "kernelspec": {
   "display_name": "Python 3",
   "language": "python",
   "name": "python3"
  },
  "language_info": {
   "codemirror_mode": {
    "name": "ipython",
    "version": 2
   },
   "file_extension": ".py",
   "mimetype": "text/x-python",
   "name": "python",
   "nbconvert_exporter": "python",
   "pygments_lexer": "ipython2",
   "version": "2.7.6"
  }
 },
 "nbformat": 4,
 "nbformat_minor": 5
}
