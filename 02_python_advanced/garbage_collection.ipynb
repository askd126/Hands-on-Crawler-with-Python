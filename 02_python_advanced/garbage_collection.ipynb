{
 "cells": [
  {
   "cell_type": "code",
   "execution_count": 1,
   "id": "initial_id",
   "metadata": {
    "collapsed": true,
    "ExecuteTime": {
     "end_time": "2023-11-21T15:09:22.234759Z",
     "start_time": "2023-11-21T15:09:22.165759700Z"
    }
   },
   "outputs": [],
   "source": [
    "# -*- coding: utf-8 -*-\n",
    "\n",
    "'''\n",
    "@Author   :   Corley Tang\n",
    "@contact  :   cutercorleytd@gmail.com\n",
    "@Github   :   https://github.com/corleytd\n",
    "@Time     :   2023-11-21 23:08\n",
    "@Project  :   Hands-on Crawler with Python-garbage_collection\n",
    "垃圾回收机制\n",
    "'''\n",
    "\n",
    "# 导入所需的库\n",
    "import gc\n",
    "import sys"
   ]
  },
  {
   "cell_type": "markdown",
   "source": [
    "# 1.Python中的垃圾回收机制\n",
    "Python的垃圾回收机制采用的主要策略是**引用计数**，同时辅助以**标记-清除**和**分代回收**机制。在引用计数中，当一个对象的引用计数为零时，解释器会自动释放该对象占用的内存。然而，由于循环引用的问题，仅仅依靠引用计数无法解决所有问题。因此，Python引入了标记-清除机制来处理循环引用而无法释放内存的问题，以及分代回收机制来提升垃圾回收的效率。\n"
   ],
   "metadata": {
    "collapsed": false
   },
   "id": "1705190318862"
  },
  {
   "cell_type": "code",
   "execution_count": 2,
   "outputs": [
    {
     "data": {
      "text/plain": "4"
     },
     "execution_count": 2,
     "metadata": {},
     "output_type": "execute_result"
    }
   ],
   "source": [
    "# 查看引用计数\n",
    "a = [1, 2, 3]\n",
    "b = a\n",
    "c = b\n",
    "\n",
    "sys.getrefcount(a)  # 输出结果为4，因为a、b、c都引用了同一个列表对象，同时getrefcount()本身会使得引用计数加1，因此实际引用计数为3"
   ],
   "metadata": {
    "collapsed": false,
    "ExecuteTime": {
     "end_time": "2023-11-21T15:09:22.235758600Z",
     "start_time": "2023-11-21T15:09:22.187760600Z"
    }
   },
   "id": "1df367d494b0aa01"
  },
  {
   "cell_type": "code",
   "execution_count": 3,
   "outputs": [
    {
     "data": {
      "text/plain": "(700, 10, 10)"
     },
     "execution_count": 3,
     "metadata": {},
     "output_type": "execute_result"
    }
   ],
   "source": [
    "# 查看世代阈值\n",
    "gc.get_threshold()"
   ],
   "metadata": {
    "collapsed": false,
    "ExecuteTime": {
     "end_time": "2023-11-21T15:09:22.292761800Z",
     "start_time": "2023-11-21T15:09:22.225783900Z"
    }
   },
   "id": "7efb9471dad01f1a"
  },
  {
   "cell_type": "markdown",
   "source": [
    "# 2.为什么有了自动垃圾回收机制后，依旧会有内存泄漏\n",
    "尽管有了自动垃圾回收机制，但仍然可能存在内存泄漏的问题。主要原因包括循环引用的变量不会被回收，会一直驻留在内存中，从而造成内存泄漏；另外，由扩展库导致的内存泄露或者全局变量未释放的情况也会导致内存泄漏。因此，开发者在使用Python编程时，需要特别注意代码编写，避免出现不必要的内存泄漏问题。例如，需要注意避免不必要的对象引用和及时释放内存。"
   ],
   "metadata": {
    "collapsed": false
   },
   "id": "92abe01047634ff4"
  }
 ],
 "metadata": {
  "kernelspec": {
   "display_name": "Python 3",
   "language": "python",
   "name": "python3"
  },
  "language_info": {
   "codemirror_mode": {
    "name": "ipython",
    "version": 2
   },
   "file_extension": ".py",
   "mimetype": "text/x-python",
   "name": "python",
   "nbconvert_exporter": "python",
   "pygments_lexer": "ipython2",
   "version": "2.7.6"
  }
 },
 "nbformat": 4,
 "nbformat_minor": 5
}
