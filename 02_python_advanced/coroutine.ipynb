{
 "cells": [
  {
   "cell_type": "code",
   "execution_count": 1,
   "outputs": [],
   "source": [
    "# -*- coding: utf-8 -*-\n",
    "\n",
    "'''\n",
    "@Author   :   Corley Tang\n",
    "@contact  :   cutercorleytd@gmail.com\n",
    "@Github   :   https://github.com/corleytd\n",
    "@Time     :   2023-12-01 20:50\n",
    "@Project  :   Hands-on Crawler with Python-coroutine\n",
    "协程\n",
    "'''\n",
    "\n",
    "# 导入所需的库\n",
    "import asyncio\n",
    "import random\n",
    "import time\n",
    "from collections import namedtuple\n",
    "from functools import wraps\n",
    "from inspect import getgeneratorstate"
   ],
   "metadata": {
    "collapsed": false,
    "ExecuteTime": {
     "end_time": "2023-12-01T12:51:06.626264Z",
     "start_time": "2023-12-01T12:51:04.746265900Z"
    }
   },
   "id": "21fbe523441f046c"
  },
  {
   "cell_type": "markdown",
   "source": [
    "# 1.生成器与协程的关系"
   ],
   "metadata": {
    "collapsed": false
   },
   "id": "ef0022d11783ab"
  },
  {
   "cell_type": "code",
   "execution_count": 2,
   "outputs": [
    {
     "data": {
      "text/plain": "<generator object simple_coroutine at 0x000001159CBC4190>"
     },
     "execution_count": 2,
     "metadata": {},
     "output_type": "execute_result"
    }
   ],
   "source": [
    "# 定义协程：使用生成器函数定义，yield关键字\n",
    "def simple_coroutine():\n",
    "    print('start')\n",
    "    x = yield  # 接收调用端传入的数据\n",
    "    print(f'x={x}')\n",
    "    print('end')\n",
    "\n",
    "\n",
    "coro = simple_coroutine()\n",
    "coro  # 与创建生成器方式一样，调用函数获得生成器对象"
   ],
   "metadata": {
    "collapsed": false,
    "ExecuteTime": {
     "end_time": "2023-12-01T12:51:06.698264600Z",
     "start_time": "2023-12-01T12:51:04.761291400Z"
    }
   },
   "id": "c6f9f674ed889a15"
  },
  {
   "cell_type": "code",
   "execution_count": 3,
   "outputs": [
    {
     "name": "stdout",
     "output_type": "stream",
     "text": [
      "start\n"
     ]
    }
   ],
   "source": [
    "next(coro)  # 第1次使用，是调用next函数启动生成器，预激（prime）协程，如果生成器没有启动，就不会在yield语句处暂停，就无法发送数据，等价于coro.send(None)"
   ],
   "metadata": {
    "collapsed": false,
    "ExecuteTime": {
     "end_time": "2023-12-01T12:51:06.729267600Z",
     "start_time": "2023-12-01T12:51:04.787264500Z"
    }
   },
   "id": "ce73356e6b3506f3"
  },
  {
   "cell_type": "code",
   "execution_count": 4,
   "outputs": [
    {
     "name": "stdout",
     "output_type": "stream",
     "text": [
      "x=3\n",
      "end\n"
     ]
    },
    {
     "ename": "StopIteration",
     "evalue": "",
     "output_type": "error",
     "traceback": [
      "\u001B[1;31m---------------------------------------------------------------------------\u001B[0m",
      "\u001B[1;31mStopIteration\u001B[0m                             Traceback (most recent call last)",
      "Cell \u001B[1;32mIn[4], line 2\u001B[0m\n\u001B[0;32m      1\u001B[0m \u001B[38;5;66;03m# 第2次使用，协议定义体中的yield表达式会计算出3，执行后协程会恢复、直到运行到下一个yield表达式，或者终止\u001B[39;00m\n\u001B[1;32m----> 2\u001B[0m \u001B[43mcoro\u001B[49m\u001B[38;5;241;43m.\u001B[39;49m\u001B[43msend\u001B[49m\u001B[43m(\u001B[49m\u001B[38;5;241;43m3\u001B[39;49m\u001B[43m)\u001B[49m  \u001B[38;5;66;03m# 控制权流动到协程定义体末尾，导致生成器抛出StopIteration异常\u001B[39;00m\n",
      "\u001B[1;31mStopIteration\u001B[0m: "
     ]
    }
   ],
   "source": [
    "# 第2次使用，协议定义体中的yield表达式会计算出3，执行后协程会恢复、直到运行到下一个yield表达式，或者终止\n",
    "coro.send(3)  # 控制权流动到协程定义体末尾，导致生成器抛出StopIteration异常"
   ],
   "metadata": {
    "collapsed": false,
    "ExecuteTime": {
     "end_time": "2023-12-01T12:51:07.102950Z",
     "start_time": "2023-12-01T12:51:04.804264200Z"
    }
   },
   "id": "fa57defea8f0c0a1"
  },
  {
   "cell_type": "code",
   "execution_count": 5,
   "outputs": [
    {
     "ename": "TypeError",
     "evalue": "can't send non-None value to a just-started generator",
     "output_type": "error",
     "traceback": [
      "\u001B[1;31m---------------------------------------------------------------------------\u001B[0m",
      "\u001B[1;31mTypeError\u001B[0m                                 Traceback (most recent call last)",
      "Cell \u001B[1;32mIn[5], line 2\u001B[0m\n\u001B[0;32m      1\u001B[0m coro \u001B[38;5;241m=\u001B[39m simple_coroutine()\n\u001B[1;32m----> 2\u001B[0m \u001B[43mcoro\u001B[49m\u001B[38;5;241;43m.\u001B[39;49m\u001B[43msend\u001B[49m\u001B[43m(\u001B[49m\u001B[38;5;241;43m3\u001B[39;49m\u001B[43m)\u001B[49m  \u001B[38;5;66;03m# 仅当协程处于暂停状态时才能调用send方法，刚创建、还未激活的协程（状态为GEN_CREATED）不能调用send方法\u001B[39;00m\n",
      "\u001B[1;31mTypeError\u001B[0m: can't send non-None value to a just-started generator"
     ]
    }
   ],
   "source": [
    "coro = simple_coroutine()\n",
    "coro.send(3)  # 仅当协程处于暂停状态时才能调用send方法，刚创建、还未激活的协程（状态为GEN_CREATED）不能调用send方法"
   ],
   "metadata": {
    "collapsed": false,
    "ExecuteTime": {
     "end_time": "2023-12-01T12:51:11.926871400Z",
     "start_time": "2023-12-01T12:51:11.844876Z"
    }
   },
   "id": "36ff33dff2696c55"
  },
  {
   "cell_type": "markdown",
   "source": [
    "# 2.产生多值的协程"
   ],
   "metadata": {
    "collapsed": false
   },
   "id": "972be0a0042c500a"
  },
  {
   "cell_type": "code",
   "execution_count": 6,
   "outputs": [
    {
     "data": {
      "text/plain": "<generator object multi_value_coroutine at 0x000001159E1B6660>"
     },
     "execution_count": 6,
     "metadata": {},
     "output_type": "execute_result"
    }
   ],
   "source": [
    "def multi_value_coroutine(a):\n",
    "    print(f'start: a={a}')\n",
    "    b = yield a  # 协程在yield关键字所在的位置暂停执行，接收调用端传入的数据\n",
    "    print(f'received: b={b}')\n",
    "    c = yield a + b  # 接收调用端传入的数据\n",
    "    print(f'received: c={c}')  # 在赋值语句中，=右边的代码在赋值之前执行，本行代码需要等到客户端调用协程时才会设定b的值，同时会先计算a+b的值\n",
    "    print('end')\n",
    "\n",
    "\n",
    "coro = multi_value_coroutine(1)  # 获取协程对象\n",
    "coro"
   ],
   "metadata": {
    "collapsed": false,
    "ExecuteTime": {
     "end_time": "2023-12-01T12:51:15.343740400Z",
     "start_time": "2023-12-01T12:51:14.738561700Z"
    }
   },
   "id": "93a5204497b850bf"
  },
  {
   "cell_type": "code",
   "execution_count": 7,
   "outputs": [
    {
     "data": {
      "text/plain": "'GEN_CREATED'"
     },
     "execution_count": 7,
     "metadata": {},
     "output_type": "execute_result"
    }
   ],
   "source": [
    "getgeneratorstate(coro)  # 查看协程状态，处于GEN_CREATED状态、协程未启动"
   ],
   "metadata": {
    "collapsed": false,
    "ExecuteTime": {
     "end_time": "2023-12-01T12:51:15.512597900Z",
     "start_time": "2023-12-01T12:51:14.761559800Z"
    }
   },
   "id": "87a337608b975285"
  },
  {
   "cell_type": "code",
   "execution_count": 8,
   "outputs": [
    {
     "name": "stdout",
     "output_type": "stream",
     "text": [
      "start: a=1\n"
     ]
    },
    {
     "data": {
      "text/plain": "1"
     },
     "execution_count": 8,
     "metadata": {},
     "output_type": "execute_result"
    }
   ],
   "source": [
    "coro.send(None)  # 协程向前执行到第1个yield表达式，输出start: a=1，同时返回a的值（1），并且暂停、等待为b赋值"
   ],
   "metadata": {
    "collapsed": false,
    "ExecuteTime": {
     "end_time": "2023-12-01T12:51:15.636596700Z",
     "start_time": "2023-12-01T12:51:14.776560500Z"
    }
   },
   "id": "4322ee9e80c613ff"
  },
  {
   "cell_type": "code",
   "execution_count": 9,
   "outputs": [
    {
     "data": {
      "text/plain": "'GEN_SUSPENDED'"
     },
     "execution_count": 9,
     "metadata": {},
     "output_type": "execute_result"
    }
   ],
   "source": [
    "getgeneratorstate(coro)  # 处于GEN_SUSPENDED状态、协程在yield处暂停"
   ],
   "metadata": {
    "collapsed": false,
    "ExecuteTime": {
     "end_time": "2023-12-01T12:51:15.853587800Z",
     "start_time": "2023-12-01T12:51:14.798565400Z"
    }
   },
   "id": "6c818ebfdf06c6b8"
  },
  {
   "cell_type": "code",
   "execution_count": 10,
   "outputs": [
    {
     "name": "stdout",
     "output_type": "stream",
     "text": [
      "received: b=2\n"
     ]
    },
    {
     "data": {
      "text/plain": "3"
     },
     "execution_count": 10,
     "metadata": {},
     "output_type": "execute_result"
    }
   ],
   "source": [
    "coro.send(2)  # 将2传给yield表达式，将2赋值给b，输出received: b=2，同时返回a+b的值（3），暂停、等待为c赋值"
   ],
   "metadata": {
    "collapsed": false,
    "ExecuteTime": {
     "end_time": "2023-12-01T12:51:15.888560600Z",
     "start_time": "2023-12-01T12:51:14.809560700Z"
    }
   },
   "id": "df0808fac2d58a30"
  },
  {
   "cell_type": "code",
   "execution_count": 11,
   "outputs": [
    {
     "data": {
      "text/plain": "'GEN_SUSPENDED'"
     },
     "execution_count": 11,
     "metadata": {},
     "output_type": "execute_result"
    }
   ],
   "source": [
    "getgeneratorstate(coro)"
   ],
   "metadata": {
    "collapsed": false,
    "ExecuteTime": {
     "end_time": "2023-12-01T12:51:15.937596100Z",
     "start_time": "2023-12-01T12:51:14.840562300Z"
    }
   },
   "id": "89488040c4d9f70b"
  },
  {
   "cell_type": "code",
   "execution_count": 12,
   "outputs": [
    {
     "name": "stdout",
     "output_type": "stream",
     "text": [
      "received: c=3\n",
      "end\n"
     ]
    },
    {
     "ename": "StopIteration",
     "evalue": "",
     "output_type": "error",
     "traceback": [
      "\u001B[1;31m---------------------------------------------------------------------------\u001B[0m",
      "\u001B[1;31mStopIteration\u001B[0m                             Traceback (most recent call last)",
      "Cell \u001B[1;32mIn[12], line 1\u001B[0m\n\u001B[1;32m----> 1\u001B[0m \u001B[43mcoro\u001B[49m\u001B[38;5;241;43m.\u001B[39;49m\u001B[43msend\u001B[49m\u001B[43m(\u001B[49m\u001B[38;5;241;43m3\u001B[39;49m\u001B[43m)\u001B[49m  \u001B[38;5;66;03m# 将3传给yield表达式，将3赋值给c，输出received: c=3，协程恢复、继续执行到下一个yield表达式，输出end，协程终止，导致生成器抛出StopIteration异常\u001B[39;00m\n",
      "\u001B[1;31mStopIteration\u001B[0m: "
     ]
    }
   ],
   "source": [
    "coro.send(3)  # 将3传给yield表达式，将3赋值给c，输出received: c=3，协程恢复、继续执行到下一个yield表达式，输出end，协程终止，导致生成器抛出StopIteration异常"
   ],
   "metadata": {
    "collapsed": false,
    "ExecuteTime": {
     "end_time": "2023-12-01T12:51:16.120560Z",
     "start_time": "2023-12-01T12:51:14.855561300Z"
    }
   },
   "id": "e07cdcfcab5ac7f2"
  },
  {
   "cell_type": "code",
   "execution_count": 13,
   "outputs": [
    {
     "data": {
      "text/plain": "'GEN_CLOSED'"
     },
     "execution_count": 13,
     "metadata": {},
     "output_type": "execute_result"
    }
   ],
   "source": [
    "getgeneratorstate(coro)  # 处于GEN_CLOSED状态、协程终止"
   ],
   "metadata": {
    "collapsed": false,
    "ExecuteTime": {
     "end_time": "2023-12-01T12:51:25.726820Z",
     "start_time": "2023-12-01T12:51:25.516819600Z"
    }
   },
   "id": "cab3f543e9ef0b1f"
  },
  {
   "cell_type": "markdown",
   "source": [
    "# 3.使用协程计算移动平均值"
   ],
   "metadata": {
    "collapsed": false
   },
   "id": "d11d0351dc79330a"
  },
  {
   "cell_type": "code",
   "execution_count": 14,
   "outputs": [
    {
     "data": {
      "text/plain": "<generator object make_avg at 0x000001159CC096D0>"
     },
     "execution_count": 14,
     "metadata": {},
     "output_type": "execute_result"
    }
   ],
   "source": [
    "# 使用协程计算移动平均值\n",
    "def make_avg():\n",
    "    total = 0\n",
    "    count = 0\n",
    "    avg = None\n",
    "    while True:  # 无限循环保证协程可以不断接收值，同时计算均值并返回\n",
    "        num = yield avg  # yield表达式用于：暂停协程，把结果返回给调用方；接收调用方传入的值，并进行计算\n",
    "        total += num\n",
    "        count += 1\n",
    "        avg = total / count\n",
    "\n",
    "\n",
    "avg_coro = make_avg()  # 创建协程对象\n",
    "avg_coro"
   ],
   "metadata": {
    "collapsed": false,
    "ExecuteTime": {
     "end_time": "2023-12-01T12:51:26.205848Z",
     "start_time": "2023-12-01T12:51:25.537822500Z"
    }
   },
   "id": "f318b10089b8c5bc"
  },
  {
   "cell_type": "code",
   "execution_count": 15,
   "outputs": [],
   "source": [
    "avg_coro.send(None)  # 预激协程，协程会向前执行到yield表达式，返回avg变量的初始值（None），因此不会出现在控制台中，同时在yield表达式出暂停"
   ],
   "metadata": {
    "collapsed": false,
    "ExecuteTime": {
     "end_time": "2023-12-01T12:51:26.435817500Z",
     "start_time": "2023-12-01T12:51:25.548819600Z"
    }
   },
   "id": "23b232584423743e"
  },
  {
   "cell_type": "code",
   "execution_count": 16,
   "outputs": [
    {
     "data": {
      "text/plain": "2023.0"
     },
     "execution_count": 16,
     "metadata": {},
     "output_type": "execute_result"
    }
   ],
   "source": [
    "avg_coro.send(\n",
    "    2023)  # 计算移动平均值：发送1个值，激活协程，协程将接收到的值（2023）赋值给num，并更新total、count、avg变量的值，同时开始循环的下一次迭代、产出avg变量的值、并等待下一次为num赋值"
   ],
   "metadata": {
    "collapsed": false,
    "ExecuteTime": {
     "end_time": "2023-12-01T12:51:26.476831700Z",
     "start_time": "2023-12-01T12:51:25.563820900Z"
    }
   },
   "id": "68269666632b58a5"
  },
  {
   "cell_type": "code",
   "execution_count": 17,
   "outputs": [
    {
     "data": {
      "text/plain": "1575.5"
     },
     "execution_count": 17,
     "metadata": {},
     "output_type": "execute_result"
    }
   ],
   "source": [
    "avg_coro.send(1128)  # 计算移动平均值"
   ],
   "metadata": {
    "collapsed": false,
    "ExecuteTime": {
     "end_time": "2023-12-01T12:51:26.503820Z",
     "start_time": "2023-12-01T12:51:25.579822400Z"
    }
   },
   "id": "dfba1d765c0e9bec"
  },
  {
   "cell_type": "code",
   "execution_count": 18,
   "outputs": [
    {
     "data": {
      "text/plain": "1520.3333333333333"
     },
     "execution_count": 18,
     "metadata": {},
     "output_type": "execute_result"
    }
   ],
   "source": [
    "avg_coro.send(1410)  # 计算移动平均值"
   ],
   "metadata": {
    "collapsed": false,
    "ExecuteTime": {
     "end_time": "2023-12-01T12:51:26.541822100Z",
     "start_time": "2023-12-01T12:51:25.594819200Z"
    }
   },
   "id": "bd28374ba5fa5f3a"
  },
  {
   "cell_type": "markdown",
   "source": [
    "# 4.使用装饰器预激活协程"
   ],
   "metadata": {
    "collapsed": false
   },
   "id": "fcdc5b305ea11fc7"
  },
  {
   "cell_type": "code",
   "execution_count": 19,
   "outputs": [
    {
     "data": {
      "text/plain": "<generator object make_avg at 0x000001159CC09BA0>"
     },
     "execution_count": 19,
     "metadata": {},
     "output_type": "execute_result"
    }
   ],
   "source": [
    "# 使用预激装饰器简化协程\n",
    "def prime_coroutine(func):\n",
    "    @wraps(func)\n",
    "    def wrapper(*args, **kwargs):\n",
    "        gen = func(*args, **kwargs)\n",
    "        gen.send(None)  # 预激协程\n",
    "        return gen  # 返回激活后的协程对象\n",
    "\n",
    "    return wrapper\n",
    "\n",
    "\n",
    "@prime_coroutine\n",
    "def make_avg():\n",
    "    total = 0\n",
    "    count = 0\n",
    "    avg = None\n",
    "    while True:\n",
    "        num = yield avg\n",
    "        total += num\n",
    "        count += 1\n",
    "        avg = total / count\n",
    "\n",
    "\n",
    "avg_coro = make_avg()\n",
    "avg_coro"
   ],
   "metadata": {
    "collapsed": false,
    "ExecuteTime": {
     "end_time": "2023-12-01T12:51:26.633817800Z",
     "start_time": "2023-12-01T12:51:25.609822800Z"
    }
   },
   "id": "90fd21a967b80f5a"
  },
  {
   "cell_type": "code",
   "execution_count": 20,
   "outputs": [
    {
     "data": {
      "text/plain": "2023.0"
     },
     "execution_count": 20,
     "metadata": {},
     "output_type": "execute_result"
    }
   ],
   "source": [
    "avg_coro.send(2023)  # 省去手动预激协程的步骤"
   ],
   "metadata": {
    "collapsed": false,
    "ExecuteTime": {
     "end_time": "2023-12-01T12:51:26.744983800Z",
     "start_time": "2023-12-01T12:51:25.624819800Z"
    }
   },
   "id": "c22d2f277d0bbf8f"
  },
  {
   "cell_type": "code",
   "execution_count": 21,
   "outputs": [
    {
     "data": {
      "text/plain": "1575.5"
     },
     "execution_count": 21,
     "metadata": {},
     "output_type": "execute_result"
    }
   ],
   "source": [
    "avg_coro.send(1128)"
   ],
   "metadata": {
    "collapsed": false,
    "ExecuteTime": {
     "end_time": "2023-12-01T12:51:26.745819200Z",
     "start_time": "2023-12-01T12:51:25.639820700Z"
    }
   },
   "id": "96d5f0e64966d646"
  },
  {
   "cell_type": "code",
   "execution_count": 22,
   "outputs": [
    {
     "data": {
      "text/plain": "1520.3333333333333"
     },
     "execution_count": 22,
     "metadata": {},
     "output_type": "execute_result"
    }
   ],
   "source": [
    "avg_coro.send(1410)  # 与前面效果一样"
   ],
   "metadata": {
    "collapsed": false,
    "ExecuteTime": {
     "end_time": "2023-12-01T12:51:26.748817300Z",
     "start_time": "2023-12-01T12:51:25.655828Z"
    }
   },
   "id": "104b39c4cae2ab5c"
  },
  {
   "cell_type": "code",
   "execution_count": 23,
   "outputs": [
    {
     "data": {
      "text/plain": "'GEN_SUSPENDED'"
     },
     "execution_count": 23,
     "metadata": {},
     "output_type": "execute_result"
    }
   ],
   "source": [
    "getgeneratorstate(avg_coro)  # 暂停状态"
   ],
   "metadata": {
    "collapsed": false,
    "ExecuteTime": {
     "end_time": "2023-12-01T12:51:26.751846Z",
     "start_time": "2023-12-01T12:51:25.673823100Z"
    }
   },
   "id": "f0c470a2b83cd3b3"
  },
  {
   "cell_type": "markdown",
   "source": [
    "# 5.停止协程与异常处理"
   ],
   "metadata": {
    "collapsed": false
   },
   "id": "78c0d25f925531d6"
  },
  {
   "cell_type": "code",
   "execution_count": 24,
   "outputs": [
    {
     "data": {
      "text/plain": "1128.0"
     },
     "execution_count": 24,
     "metadata": {},
     "output_type": "execute_result"
    }
   ],
   "source": [
    "def make_avg():\n",
    "    total = 0\n",
    "    count = 0\n",
    "    avg = None\n",
    "    while True:\n",
    "        num = yield avg\n",
    "        total += num\n",
    "        count += 1\n",
    "        avg = total / count\n",
    "\n",
    "\n",
    "avg_coro = make_avg()\n",
    "avg_coro.send(None)\n",
    "avg_coro.send(1128)"
   ],
   "metadata": {
    "collapsed": false,
    "ExecuteTime": {
     "end_time": "2023-12-01T12:51:26.751846Z",
     "start_time": "2023-12-01T12:51:25.688821700Z"
    }
   },
   "id": "2cfbdb8ef5c5a2f0"
  },
  {
   "cell_type": "code",
   "execution_count": 25,
   "outputs": [
    {
     "ename": "TypeError",
     "evalue": "unsupported operand type(s) for +=: 'int' and 'str'",
     "output_type": "error",
     "traceback": [
      "\u001B[1;31m---------------------------------------------------------------------------\u001B[0m",
      "\u001B[1;31mTypeError\u001B[0m                                 Traceback (most recent call last)",
      "Cell \u001B[1;32mIn[25], line 2\u001B[0m\n\u001B[0;32m      1\u001B[0m \u001B[38;5;66;03m# 协程中未处理的异常会向上抛出，传给send方法或next函数的调用方（即触发协程的对象）\u001B[39;00m\n\u001B[1;32m----> 2\u001B[0m \u001B[43mavg_coro\u001B[49m\u001B[38;5;241;43m.\u001B[39;49m\u001B[43msend\u001B[49m\u001B[43m(\u001B[49m\u001B[38;5;124;43m'\u001B[39;49m\u001B[38;5;124;43m1645\u001B[39;49m\u001B[38;5;124;43m'\u001B[39;49m\u001B[43m)\u001B[49m  \u001B[38;5;66;03m# 发送给协程的不是数值、无法进行数值计算，因此协程内部会抛出异常\u001B[39;00m\n",
      "Cell \u001B[1;32mIn[24], line 7\u001B[0m, in \u001B[0;36mmake_avg\u001B[1;34m()\u001B[0m\n\u001B[0;32m      5\u001B[0m \u001B[38;5;28;01mwhile\u001B[39;00m \u001B[38;5;28;01mTrue\u001B[39;00m:\n\u001B[0;32m      6\u001B[0m     num \u001B[38;5;241m=\u001B[39m \u001B[38;5;28;01myield\u001B[39;00m avg\n\u001B[1;32m----> 7\u001B[0m     total \u001B[38;5;241m+\u001B[39m\u001B[38;5;241m=\u001B[39m num\n\u001B[0;32m      8\u001B[0m     count \u001B[38;5;241m+\u001B[39m\u001B[38;5;241m=\u001B[39m \u001B[38;5;241m1\u001B[39m\n\u001B[0;32m      9\u001B[0m     avg \u001B[38;5;241m=\u001B[39m total \u001B[38;5;241m/\u001B[39m count\n",
      "\u001B[1;31mTypeError\u001B[0m: unsupported operand type(s) for +=: 'int' and 'str'"
     ]
    }
   ],
   "source": [
    "# 协程中未处理的异常会向上抛出，传给send方法或next函数的调用方（即触发协程的对象）\n",
    "avg_coro.send('1645')  # 发送给协程的不是数值、无法进行数值计算，因此协程内部会抛出异常"
   ],
   "metadata": {
    "collapsed": false,
    "ExecuteTime": {
     "end_time": "2023-12-01T12:51:26.776854900Z",
     "start_time": "2023-12-01T12:51:25.702820600Z"
    }
   },
   "id": "993dd558b8ac6a2e"
  },
  {
   "cell_type": "code",
   "execution_count": 26,
   "outputs": [
    {
     "ename": "StopIteration",
     "evalue": "",
     "output_type": "error",
     "traceback": [
      "\u001B[1;31m---------------------------------------------------------------------------\u001B[0m",
      "\u001B[1;31mStopIteration\u001B[0m                             Traceback (most recent call last)",
      "Cell \u001B[1;32mIn[26], line 1\u001B[0m\n\u001B[1;32m----> 1\u001B[0m \u001B[43mavg_coro\u001B[49m\u001B[38;5;241;43m.\u001B[39;49m\u001B[43msend\u001B[49m\u001B[43m(\u001B[49m\u001B[38;5;241;43m1645\u001B[39;49m\u001B[43m)\u001B[49m  \u001B[38;5;66;03m# 协程内没有处理异常，协程会终止，如果重新激活协程或向协程发送数据，会抛出StopIteration异常->终止协程的一种方式：发送某个哨符值（None和Ellipsis等常量），让协程退出\u001B[39;00m\n",
      "\u001B[1;31mStopIteration\u001B[0m: "
     ]
    }
   ],
   "source": [
    "avg_coro.send(1645)  # 协程内没有处理异常，协程会终止，如果重新激活协程或向协程发送数据，会抛出StopIteration异常->终止协程的一种方式：发送某个哨符值（None和Ellipsis等常量），让协程退出"
   ],
   "metadata": {
    "collapsed": false,
    "ExecuteTime": {
     "end_time": "2023-12-01T12:51:37.464980600Z",
     "start_time": "2023-12-01T12:51:36.917228100Z"
    }
   },
   "id": "cb867a1748722950"
  },
  {
   "cell_type": "code",
   "execution_count": 27,
   "outputs": [
    {
     "name": "stdout",
     "output_type": "stream",
     "text": [
      "coroutine starting...\n"
     ]
    }
   ],
   "source": [
    "# close方法显式发送异常给协程\n",
    "# 自定义异常\n",
    "class CustomException(Exception):\n",
    "    pass\n",
    "\n",
    "\n",
    "def handle_exception():\n",
    "    print('coroutine starting...')\n",
    "    while True:\n",
    "        try:\n",
    "            x = yield\n",
    "        except CustomException:\n",
    "            print('CustomException handled, continuing...')\n",
    "        else:  # 没有异常时，显示接收到的值\n",
    "            print(f'coroutine received: {x}')\n",
    "    raise RuntimeError('Never happen!!!')  # 永远不会执行：因为只有未处理的异常才会中止无限循环，而一旦出现未处理的异常，协程会立即终止\n",
    "\n",
    "\n",
    "exc_coro = handle_exception()\n",
    "exc_coro.send(None)"
   ],
   "metadata": {
    "collapsed": false,
    "ExecuteTime": {
     "end_time": "2023-12-01T12:51:45.676387900Z",
     "start_time": "2023-12-01T12:51:45.343355Z"
    }
   },
   "id": "ca01de5b0fa60145"
  },
  {
   "cell_type": "code",
   "execution_count": 28,
   "outputs": [
    {
     "name": "stdout",
     "output_type": "stream",
     "text": [
      "coroutine received: 1128\n"
     ]
    }
   ],
   "source": [
    "exc_coro.send(1128)"
   ],
   "metadata": {
    "collapsed": false,
    "ExecuteTime": {
     "end_time": "2023-12-01T12:51:45.900370900Z",
     "start_time": "2023-12-01T12:51:45.352348400Z"
    }
   },
   "id": "f49d58d4c692b0aa"
  },
  {
   "cell_type": "code",
   "execution_count": 29,
   "outputs": [
    {
     "data": {
      "text/plain": "'GEN_CLOSED'"
     },
     "execution_count": 29,
     "metadata": {},
     "output_type": "execute_result"
    }
   ],
   "source": [
    "# 调用close方法关闭协程\n",
    "exc_coro.close()  # 要想退出无限循环、终止协程，可以调用close方法，也可以调用send方法传入None（即avg_coro.send(None)），但是此时应该在协程定义内部对send的值进行判断，如果是数值型才继续计算，否则应通过退出循环或主动抛出StopIteration异常的方式来终止协程\n",
    "getgeneratorstate(exc_coro)  # # 结束状态，无法再继续接收值"
   ],
   "metadata": {
    "collapsed": false,
    "ExecuteTime": {
     "end_time": "2023-12-01T12:51:45.962372900Z",
     "start_time": "2023-12-01T12:51:45.368370900Z"
    }
   },
   "id": "efb90e93886738cc"
  },
  {
   "cell_type": "code",
   "execution_count": 30,
   "outputs": [
    {
     "ename": "StopIteration",
     "evalue": "",
     "output_type": "error",
     "traceback": [
      "\u001B[1;31m---------------------------------------------------------------------------\u001B[0m",
      "\u001B[1;31mStopIteration\u001B[0m                             Traceback (most recent call last)",
      "Cell \u001B[1;32mIn[31], line 1\u001B[0m\n\u001B[1;32m----> 1\u001B[0m \u001B[43mexc_coro\u001B[49m\u001B[38;5;241;43m.\u001B[39;49m\u001B[43msend\u001B[49m\u001B[43m(\u001B[49m\u001B[38;5;241;43m1920\u001B[39;49m\u001B[43m)\u001B[49m  \u001B[38;5;66;03m# 协程处于结束状态、无法再继续接收值，抛出StopIteration异常\u001B[39;00m\n",
      "\u001B[1;31mStopIteration\u001B[0m: "
     ]
    }
   ],
   "source": [
    "exc_coro.send(1920)  # 协程处于结束状态、无法再继续接收值，抛出StopIteration异常"
   ],
   "metadata": {
    "collapsed": false,
    "ExecuteTime": {
     "end_time": "2023-12-01T12:51:46.077372300Z",
     "start_time": "2023-12-01T12:51:45.384371500Z"
    }
   },
   "id": "5063fa208045bd0"
  },
  {
   "cell_type": "code",
   "execution_count": 31,
   "outputs": [
    {
     "name": "stdout",
     "output_type": "stream",
     "text": [
      "coroutine starting...\n",
      "coroutine received: 1128\n",
      "CustomException handled, continuing...\n"
     ]
    }
   ],
   "source": [
    "exc_coro = handle_exception()\n",
    "exc_coro.send(None)\n",
    "exc_coro.send(1128)\n",
    "exc_coro.throw(CustomException)  # 传入协程可以处理的异常，会在协程内部捕获异常，并继续向前执行到下一个yield表达式，而产出的值会成为生成器调用throw方法得到的返回值，即下一个yield表达式的值"
   ],
   "metadata": {
    "collapsed": false,
    "ExecuteTime": {
     "end_time": "2023-12-01T12:51:56.416503900Z",
     "start_time": "2023-12-01T12:51:55.961431800Z"
    }
   },
   "id": "1fbf42247e81a9d7"
  },
  {
   "cell_type": "code",
   "execution_count": 32,
   "outputs": [
    {
     "data": {
      "text/plain": "'GEN_SUSPENDED'"
     },
     "execution_count": 32,
     "metadata": {},
     "output_type": "execute_result"
    }
   ],
   "source": [
    "getgeneratorstate(exc_coro)  # 协程处于暂停状态，可以继续执行"
   ],
   "metadata": {
    "collapsed": false,
    "ExecuteTime": {
     "end_time": "2023-12-01T12:51:56.477434500Z",
     "start_time": "2023-12-01T12:51:55.981435100Z"
    }
   },
   "id": "b536e1a0649a8ed3"
  },
  {
   "cell_type": "code",
   "execution_count": 33,
   "outputs": [
    {
     "ename": "ZeroDivisionError",
     "evalue": "",
     "output_type": "error",
     "traceback": [
      "\u001B[1;31m---------------------------------------------------------------------------\u001B[0m",
      "\u001B[1;31mZeroDivisionError\u001B[0m                         Traceback (most recent call last)",
      "Cell \u001B[1;32mIn[34], line 1\u001B[0m\n\u001B[1;32m----> 1\u001B[0m \u001B[43mexc_coro\u001B[49m\u001B[38;5;241;43m.\u001B[39;49m\u001B[43mthrow\u001B[49m\u001B[43m(\u001B[49m\u001B[38;5;167;43;01mZeroDivisionError\u001B[39;49;00m\u001B[43m)\u001B[49m  \u001B[38;5;66;03m# 传入协程无法处理的异常，协程内部无法捕获，会终止协程，并向上抛出异常、传到调用方\u001B[39;00m\n",
      "Cell \u001B[1;32mIn[28], line 11\u001B[0m, in \u001B[0;36mhandle_exception\u001B[1;34m()\u001B[0m\n\u001B[0;32m      9\u001B[0m \u001B[38;5;28;01mwhile\u001B[39;00m \u001B[38;5;28;01mTrue\u001B[39;00m:\n\u001B[0;32m     10\u001B[0m     \u001B[38;5;28;01mtry\u001B[39;00m:\n\u001B[1;32m---> 11\u001B[0m         x \u001B[38;5;241m=\u001B[39m \u001B[38;5;28;01myield\u001B[39;00m\n\u001B[0;32m     12\u001B[0m     \u001B[38;5;28;01mexcept\u001B[39;00m CustomException:\n\u001B[0;32m     13\u001B[0m         \u001B[38;5;28mprint\u001B[39m(\u001B[38;5;124m'\u001B[39m\u001B[38;5;124mCustomException handled, continuing...\u001B[39m\u001B[38;5;124m'\u001B[39m)\n",
      "\u001B[1;31mZeroDivisionError\u001B[0m: "
     ]
    }
   ],
   "source": [
    "exc_coro.throw(ZeroDivisionError)  # 传入协程无法处理的异常，协程内部无法捕获，会终止协程，并向上抛出异常、传到调用方"
   ],
   "metadata": {
    "collapsed": false,
    "ExecuteTime": {
     "end_time": "2023-12-01T12:51:56.535470300Z",
     "start_time": "2023-12-01T12:51:55.996432300Z"
    }
   },
   "id": "76a15ba24129d4f"
  },
  {
   "cell_type": "code",
   "execution_count": 34,
   "outputs": [
    {
     "data": {
      "text/plain": "'GEN_CLOSED'"
     },
     "execution_count": 34,
     "metadata": {},
     "output_type": "execute_result"
    }
   ],
   "source": [
    "getgeneratorstate(exc_coro)  # 结束状态"
   ],
   "metadata": {
    "collapsed": false,
    "ExecuteTime": {
     "end_time": "2023-12-01T12:52:03.592069200Z",
     "start_time": "2023-12-01T12:52:03.433718700Z"
    }
   },
   "id": "5dcf7014cc00abf7"
  },
  {
   "cell_type": "markdown",
   "source": [
    "# 6.协程返回值"
   ],
   "metadata": {
    "collapsed": false
   },
   "id": "ffd09a985e40e4c2"
  },
  {
   "cell_type": "code",
   "execution_count": 35,
   "outputs": [],
   "source": [
    "# 计算移动平均值，使得协程具有返回值\n",
    "Result = namedtuple('Result', 'count average')  # 使用namedtuple创建了一个名为Result的结果对象，有两个属性count和average\n",
    "\n",
    "\n",
    "def make_avg():\n",
    "    total = 0\n",
    "    count = 0\n",
    "    avg = None\n",
    "    while True:\n",
    "        num = yield\n",
    "        if num is None:  # 在接收到None时中断循环，来终止协程，并得到返回值，同时生成器对象会抛出StopIteration异常\n",
    "            break\n",
    "\n",
    "        total += num\n",
    "        count += 1\n",
    "        avg = total / count\n",
    "    return Result(count, avg)  # 异常对象的value属性保存着返回值\n",
    "\n",
    "\n",
    "avg_coro = make_avg()\n",
    "avg_coro.send(None)\n",
    "avg_coro.send(1128)\n",
    "avg_coro.send(2006)"
   ],
   "metadata": {
    "collapsed": false,
    "ExecuteTime": {
     "end_time": "2023-12-01T12:52:03.765062800Z",
     "start_time": "2023-12-01T12:52:03.450719600Z"
    }
   },
   "id": "2f87ff6e1a6751a6"
  },
  {
   "cell_type": "code",
   "execution_count": 36,
   "outputs": [
    {
     "data": {
      "text/plain": "Result(count=2, average=1567.0)"
     },
     "execution_count": 36,
     "metadata": {},
     "output_type": "execute_result"
    }
   ],
   "source": [
    "# 获取结果\n",
    "try:\n",
    "    avg_coro.send(None)\n",
    "except StopIteration as e:  # 捕获StopIteration异常，即可获取make_avg函数返回的值\n",
    "    result = e.value  # return表达式的值会偷偷传给调用方，赋值给StopIteration异常的value属性，看似不合常理，但是能保留生成器对象的常规行为——耗尽时抛出StopIteration异常，这是PEP380约定的方式，因此yield from结构需要在内部自动捕获StopIteration异常\n",
    "result"
   ],
   "metadata": {
    "collapsed": false,
    "ExecuteTime": {
     "end_time": "2023-12-01T12:52:03.790064400Z",
     "start_time": "2023-12-01T12:52:03.461719300Z"
    }
   },
   "id": "6dec1baa08c33a1e"
  },
  {
   "cell_type": "markdown",
   "source": [
    "# 7.协程的优势\n",
    "协程是一种用户态的轻量级线程，本质上是单线程，拥有自己的寄存器上下文和栈，所以能保留上一次调用时的状态，每次过程重入时，就相当于进入上一次调用的状态。\n",
    "与多进程相比，无需进程上下文切换的开销；与多线程相比，无需使用多线程的锁机制。执行效率要高于多进程和多线程。\n",
    "\n",
    "以生产者-消费者模型为例：\n",
    "在多线程的方式下，会创建2个线程，一个线程给生产者，一个线程给消费者，2个线程间通过同步机制来控制队列，从而获得数据，这一不小心就会死锁，虽然在Python中，Python自带的队列已经是线程安全的（即不会死锁）；\n",
    "如果是使用协程来实现，可以用yield关键字轻松实现高效的生产者-消费者模型，具体而言：生产者生成数据后，直接通过send方法跳转到消费者并开始执行，消费者执行完后，再通过\n",
    "yield关键字切换回生产者，效率很高。"
   ],
   "metadata": {
    "collapsed": false
   },
   "id": "b2937c06a9070a"
  },
  {
   "cell_type": "code",
   "execution_count": 37,
   "outputs": [
    {
     "name": "stdout",
     "output_type": "stream",
     "text": [
      "[生产者]生产数据1...\n",
      "[消费者]消费数据1...\n",
      "[生产者]消费者返回值：200 OK\n",
      "[生产者]生产数据2...\n",
      "[消费者]消费数据2...\n",
      "[生产者]消费者返回值：200 OK\n",
      "[生产者]生产数据3...\n",
      "[消费者]消费数据3...\n",
      "[生产者]消费者返回值：200 OK\n",
      "[生产者]生产数据4...\n",
      "[消费者]消费数据4...\n",
      "[生产者]消费者返回值：200 OK\n",
      "[生产者]生产数据5...\n",
      "[消费者]消费数据5...\n",
      "[生产者]消费者返回值：200 OK\n",
      "[生产者]生产数据6...\n",
      "[消费者]消费数据6...\n",
      "[生产者]消费者返回值：200 OK\n",
      "[生产者]生产数据7...\n",
      "[消费者]消费数据7...\n",
      "[生产者]消费者返回值：200 OK\n",
      "[生产者]生产数据8...\n",
      "[消费者]消费数据8...\n",
      "[生产者]消费者返回值：200 OK\n",
      "[生产者]生产数据9...\n",
      "[消费者]消费数据9...\n",
      "[生产者]消费者返回值：200 OK\n",
      "[生产者]生产数据10...\n",
      "[消费者]消费数据10...\n",
      "[生产者]消费者返回值：200 OK\n"
     ]
    }
   ],
   "source": [
    "# 协程实现生产者-消费者模型\n",
    "def consumer():\n",
    "    res = ''\n",
    "    while True:\n",
    "        n = yield res\n",
    "        if not n:\n",
    "            return\n",
    "        print(f'[消费者]消费数据{n}...')\n",
    "        res = '200 OK'\n",
    "\n",
    "\n",
    "def producer(c):\n",
    "    c.send(None)  # 激活消费者\n",
    "    n = 0\n",
    "    while n < 10:\n",
    "        n += 1\n",
    "        print(f'[生产者]生产数据{n}...')\n",
    "        res = c.send(n)\n",
    "        print(f'[生产者]消费者返回值：{res}')\n",
    "        time.sleep(random.random() * 5)\n",
    "    c.close()\n",
    "\n",
    "\n",
    "c = consumer()\n",
    "producer(c)"
   ],
   "metadata": {
    "collapsed": false,
    "ExecuteTime": {
     "end_time": "2023-12-01T12:52:27.825258300Z",
     "start_time": "2023-12-01T12:52:03.478721600Z"
    }
   },
   "id": "7dfcb1dd6ca30462"
  },
  {
   "cell_type": "markdown",
   "source": [
    "# 8.yield from\n",
    "在生成器中使用yield from时，子生成器会获得控制权，把产出的值传给生成器的调用方，即调用方可以直接控制子生成器。yield from的主要功能是打开双向通道，把最外层的调用方与最内层的子生成器连接起来，这样二者可以直接发送和产出值，还可以直接传入异常，而不用在位于中间的协程中添加大量处理异常的代码。\n",
    "\n",
    "因为委派生成器相当于管道，所以可以把任意数量个委派生成器连接在一起：一个委派生成器使用yield from调用一个子生成器，而那个子生成器本身也是委派生成器，使用yield from调用另一个子生成器，以此类推。这个链条最终要以一个只使用yield表达式的简单生成器结束，或者以任何可迭代的对象结束（即可迭代对象正常迭代完）。同时，任何yield from链条都必须由客户驱动，在最外层委派生成器上调用next函数或send方法，也可以隐式调用，例如使用for循环。"
   ],
   "metadata": {
    "collapsed": false
   },
   "id": "e8d5615bea7d8775"
  },
  {
   "cell_type": "code",
   "execution_count": 38,
   "outputs": [
    {
     "name": "stdout",
     "output_type": "stream",
     "text": [
      "9 boys averaging 47.00 kg\n",
      "9 boys averaging 1.46 m\n",
      "10 girls averaging 42.77 kg\n",
      "10 girls averaging 1.40 m\n"
     ]
    }
   ],
   "source": [
    "# 分析yield from对代码执行流程与数据流动的影响\n",
    "def make_avg():\n",
    "    '''子生成器：从yield from获取任务并完成具体实现的生成器，用于计算移动平均值'''\n",
    "    total = 0\n",
    "    count = 0\n",
    "    avg = None\n",
    "    while True:\n",
    "        num = yield  # 客户端发送的各个值都赋值给num\n",
    "        if num is None:  # 终止条件：在接收到None时中断循环，来终止协程，并得到返回值；如果不终止，则上层的生成器（使用yield from表达式调用本协程的生成器）会永远阻塞\n",
    "            break\n",
    "\n",
    "        total += num\n",
    "        count += 1\n",
    "        avg = total / count\n",
    "    return Result(count, avg)  # 子生成器可以执行return语句返回一个值，而这个返回的值会成为yield from表达式的值，因此返回值Result会成为grouper函数中yield from表达式的值\n",
    "\n",
    "\n",
    "def grouper(results, key):\n",
    "    '''委派生成器：包含有 yield from表达式的生成器函数，负责给子生成器委派任务'''\n",
    "    while True:  # 循环每次迭代时会新建一个make_avg实例，每个实例都是作为协程使用的生成器对象\n",
    "        results[key] = yield from make_avg()  # grouper发送的每个值都会经由yield from处理，通过管道传给make_avg实例；grouper会在yield from处暂停，等待make_avg实例处理客户端发来的值\n",
    "\n",
    "\n",
    "def client(data):\n",
    "    '''调用方：指调用委派生成器的客户端'''\n",
    "    results = {}\n",
    "    for key, values in data.items():\n",
    "        group = grouper(results,\n",
    "                        key)  # group是调用grouper函数得到的生成器对象，传给grouper函数的参数results用于收集结果、key是数据中具体的键，group作为协程使用；新建grouper实例后，前一个grouper实例（以及它创建的尚未终止的make_avg子生成器实例）会被垃圾回收机制自动回收\n",
    "        group.send(None)  # 预激协程，进入while True循环，调用子生成器make_avg后，在yield from表达式处暂停\n",
    "        for value in values:\n",
    "            group.send(\n",
    "                value)  # 将各个value传给grouper，传入的值最终到达make_avg函数中的num = yield，将传入的值赋值给变量num用于计算均值，而group不知道传入的值是什么、并在yield from处暂停\n",
    "        # 内层循环结束后，group实例依旧在yield from处暂停，grouper中为results[key]赋值的语句还没有执行\n",
    "        group.send(\n",
    "            None)  # 调用send方法传入None终止当前的make_avg实例，也让grouper继续运行，再创建下一个make_avg实例、处理下一组值；如果没有调用group.send(None)，则make_avg子生成器永远不会终止，永远不会为results[key]赋值，委派生成器group也永远不会再次激活\n",
    "\n",
    "    # 输出结果\n",
    "    for key, result in sorted(results.items()):\n",
    "        group, unit = key.split(';')\n",
    "        print(f'{result.count} {group} averaging {result.average:.2f} {unit}')\n",
    "\n",
    "\n",
    "data = {\n",
    "    'girls;m': [1.6, 1.51, 1.25, 1.3, 1.41, 1.37, 1.43, 1.46, 1.25, 1.43],\n",
    "    'boys;m': [1.88, 1.5, 1.32, 1.25, 1.37, 1.58, 1.35, 1.49, 1.36],\n",
    "    'girls;kg': [40.9, 48.5, 42.3, 42.2, 45.2, 41.7, 46.5, 38.0, 47.6, 34.8],\n",
    "    'boys;kg': [59.0, 50.8, 43.2, 39.8, 43.1, 48.6, 41.6, 40.6, 56.3]\n",
    "}\n",
    "client(data)"
   ],
   "metadata": {
    "collapsed": false,
    "ExecuteTime": {
     "end_time": "2023-12-01T12:52:27.881290600Z",
     "start_time": "2023-12-01T12:52:27.834258700Z"
    }
   },
   "id": "6043cb327a845546"
  },
  {
   "cell_type": "markdown",
   "source": [
    "# 9.过时协程用法：asyncio与yield from结合\n",
    "asyncio是Python 3.4 试验性引入的异步I/O框架，提供了基于协程做异步I/O编写单线程并发代码的基础设施，其核心组件有事件循环（Event Loop）、协程（Coroutine）、任务（Task）、未来对象（Future）以及其他一些扩充和辅助性质的模块。其中，在事件循环中，要执行的逻辑其实是一个个的事件，这些事件存放在事件队列中，被主线程一个个循环处理，当一个事件中存在耗时任务时，会将该事件交由操作系统去执行，并告知操作系统，执行完后回调提供的方法，当操作系统执行完后，会将回调方法放回事件循环队列中，等等主线程循环处理。asyncio刚引入时，需要与yield from结合使用，现在已经成为过时的实现方式。"
   ],
   "metadata": {
    "collapsed": false
   },
   "id": "8f9a8fb3c9d0689c"
  },
  {
   "cell_type": "code",
   "execution_count": 39,
   "outputs": [
    {
     "name": "stdout",
     "output_type": "stream",
     "text": [
      "sync task 1 start...\n",
      "sync task finished, cost 1 seconds\n",
      "sync task 2 start...\n",
      "sync task finished, cost 2 seconds\n",
      "sync task 3 start...\n",
      "sync task finished, cost 3 seconds\n",
      "sync task cost 6.04 seconds\n"
     ]
    }
   ],
   "source": [
    "# 同步任务\n",
    "def sync_task(n):\n",
    "    print(f'sync task {n} start...')\n",
    "    time.sleep(n)\n",
    "    print(f'sync task finished, cost {n} seconds')\n",
    "\n",
    "\n",
    "start = time.time()\n",
    "sync_task(1)\n",
    "sync_task(2)\n",
    "sync_task(3)\n",
    "print(f'sync task cost {time.time() - start:.2f} seconds')  # 同步的方式实现多个任务的时间是分别执行这些任务时间的总和"
   ],
   "metadata": {
    "collapsed": false,
    "ExecuteTime": {
     "end_time": "2023-12-01T12:52:33.933530400Z",
     "start_time": "2023-12-01T12:52:27.855257Z"
    }
   },
   "id": "44f8e4e128ded009"
  },
  {
   "cell_type": "code",
   "execution_count": 40,
   "outputs": [
    {
     "name": "stderr",
     "output_type": "stream",
     "text": [
      "C:\\Users\\LENOVO\\AppData\\Local\\Temp\\ipykernel_24796\\4103844703.py:3: DeprecationWarning: \"@coroutine\" decorator is deprecated since Python 3.8, use \"async def\" instead\n",
      "  def async_task(n):\n"
     ]
    },
    {
     "name": "stdout",
     "output_type": "stream",
     "text": [
      "async task 2 start...\n",
      "async task 3 start...\n",
      "async task 1 start...\n",
      "async task finished, cost 1 seconds\n",
      "async task finished, cost 2 seconds\n",
      "async task finished, cost 3 seconds\n",
      "async task async_task2 finished\n",
      "async task async_task3 finished\n",
      "async task async_task1 finished\n",
      "all tasks finished, cost 3.00 seconds\n"
     ]
    }
   ],
   "source": [
    "# 使用yield from与asyncio将同步方式改成异步\n",
    "@asyncio.coroutine  # 协程函数的标志：需要在每一个任务函数前加装饰器asyncio.coroutine，并在函数中使用yield from\n",
    "def async_task(n):\n",
    "    print(f'async task {n} start...')\n",
    "    yield from asyncio.sleep(n)  # 异步等待n秒\n",
    "    print(f'async task finished, cost {n} seconds')\n",
    "    return async_task.__name__ + str(n)\n",
    "\n",
    "\n",
    "def client():\n",
    "    '''调用方'''\n",
    "    tasks = [async_task(1), async_task(2), async_task(3)]  # 3.把多个任务放到任务列表中，打包任务\n",
    "    done, pending = yield from asyncio.wait(tasks)  # 4.子生成器：使用asyncio.wait(tasks)来获取一个awaitable objects即可等待对象的集合，通过yield from返回一个包含(done, pending)的元组，done表示已完成的任务列表、pending表示未完成的任务列表\n",
    "\n",
    "    for task in done:  # 5.遍历done列表，逐个调用result()取出结果\n",
    "        print(f'async task {task.result()} finished')\n",
    "\n",
    "\n",
    "start = time.time()\n",
    "loop = asyncio.get_event_loop()  # 1.创建事件循环对象\n",
    "try:\n",
    "    loop.run_until_complete(client())  # 2.运行协程，把调用方协程作为参数，调用方负责调用其他委托生成器，直到所有任务完成\n",
    "finally:\n",
    "    loop.close()  # 6.关闭事件循环\n",
    "print(f'all tasks finished, cost {time.time() - start:.2f} seconds')  # 异步的方式实现多个任务的时间是最长的任务执行时间"
   ],
   "metadata": {
    "collapsed": false,
    "ExecuteTime": {
     "end_time": "2023-12-01T12:52:34.245272400Z",
     "start_time": "2023-12-01T12:52:33.926531700Z"
    }
   },
   "id": "2753ede29ce84d39"
  },
  {
   "cell_type": "markdown",
   "source": [
    "上面的代码只支持Python 3.6及以下、Python 3.4及以上的版本，大于等于3.7的版本已弃用，所以会报错，其中在Jupyter Notebook中报错`RuntimeError: Cannot close a running event loop`，在Python脚本中报错`TypeError: cannot 'yield from' a coroutine object in a non-coroutine generator`。\n",
    "\n",
    "通过使用协程，极大提高了多任务的执行效率，程序最后消耗的时间是任务队列中耗时最多时间任务的时长。"
   ],
   "metadata": {
    "collapsed": false
   },
   "id": "7304453591652c53"
  },
  {
   "cell_type": "markdown",
   "source": [
    "# 10.新的协程用法：async与await\n",
    "asyncio模块结合yield from实现异步协程的语法不够简洁，与生成器、装饰器交织在一起，容易让人混淆。为了语法更加简洁。Python3.5新增了async、await语法来实现异步协程。\n",
    "其中：\n",
    "- async/await：python3.5之后用于定义协程的关键字，async定义一个协程、await用于挂起阻塞的异步调用接口。\n",
    "- event_loop：事件循环，程序开启一个无限的循环，可以把一些函数注册到事件循环上，当满足事件发生的时候，调用相应的协程函数。协程函数不能直接调用运行，需要将协程注册到事件循环，并启动事件循环才能使用。\n",
    "- coroutine ：协程对象，即一个使用async关键字定义的函数，它的调用不会立即执行函数，而是会返回一个协程对象，协程对象需要注册到事件循环，由事件循环调用。\n",
    "- task：任务，是对协程的进一步封装，包含了任务的各种状态。协程对象不能直接运行，在注册事件循环的时候，其实是run_until_complete方法将协程自动包装成任务（task）对象。\n",
    "- future： 代表将来执行或没有执行的任务的结果，在本质上和task没有区别。\n",
    "\n",
    "async/await与yield from风格的协程底层实现方式相同，同时async/await风格的代码隐藏了装饰器、yield from语法，方便人们的理解，同时也让代码更加简洁。"
   ],
   "metadata": {
    "collapsed": false
   },
   "id": "79573e8c4363ae39"
  },
  {
   "cell_type": "code",
   "execution_count": 41,
   "outputs": [
    {
     "data": {
      "text/plain": "<coroutine object async_task at 0x000001159E7BEE40>"
     },
     "execution_count": 41,
     "metadata": {},
     "output_type": "execute_result"
    }
   ],
   "source": [
    "# 1.创建协程\n",
    "async def async_task(n):  # 修改1：在def前用关键字async声明，即可定义协程函数\n",
    "    '''修改使用yield from与asyncio实现异步为async和await实现'''\n",
    "    print(f'async task {n} start...')\n",
    "    await asyncio.sleep(n)  # 修改2：await关键字，协程遇到await，事件循环将会挂起该协程、执行别的协程，直到其他的协程也挂起或者执行完毕，再进行下一个协程的执行\n",
    "    print(f'async task finished, cost {n} seconds')\n",
    "    return async_task.__name__ + str(n)\n",
    "\n",
    "\n",
    "coro = async_task(2)  # 调用协程函数得到协程对象，此时协程对象还没有执行\n",
    "loop = asyncio.get_event_loop()  # 创建事件循环\n",
    "coro  # coroutine对象"
   ],
   "metadata": {
    "collapsed": false,
    "ExecuteTime": {
     "end_time": "2023-12-01T14:12:38.680469700Z",
     "start_time": "2023-12-01T14:12:38.616471400Z"
    }
   },
   "id": "980509d9c48b900a"
  },
  {
   "cell_type": "code",
   "execution_count": 42,
   "outputs": [
    {
     "name": "stdout",
     "output_type": "stream",
     "text": [
      "async task 2 start...\n",
      "async task finished, cost 2 seconds"
     ]
    }
   ],
   "source": [
    "# 注册协程对象到事件循环，并启动\n",
    "loop.run_until_complete(coro)  # Jupyter中会报错RuntimeError: This event loop is already running，需要在Python脚本中运行"
   ],
   "metadata": {
    "collapsed": false,
    "ExecuteTime": {
     "end_time": "2023-12-01T14:14:51.344957400Z",
     "start_time": "2023-12-01T14:14:51.287956100Z"
    }
   },
   "id": "93dd2ee8862b270a"
  },
  {
   "cell_type": "code",
   "execution_count": 43,
   "outputs": [
    {
     "data": {
      "text/plain": "<Task pending name='Task-5' coro=<async_task() running at C:\\Users\\LENOVO\\AppData\\Local\\Temp\\ipykernel_24796\\1366162558.py:2>>"
     },
     "execution_count": 43,
     "metadata": {},
     "output_type": "execute_result"
    }
   ],
   "source": [
    "# 2.任务对象task：手动将协程包装成任务\n",
    "# 方式1：使用create_task()创建task\n",
    "coro = async_task(3)\n",
    "task = loop.create_task(coro)\n",
    "task  # Task对象：未将task添加到事件循环之前，状态是pending"
   ],
   "metadata": {
    "collapsed": false,
    "ExecuteTime": {
     "end_time": "2023-12-01T14:18:11.565704Z",
     "start_time": "2023-12-01T14:18:11.484511100Z"
    }
   },
   "id": "46f68ec9750a1428"
  },
  {
   "cell_type": "code",
   "execution_count": 44,
   "outputs": [
    {
     "name": "stdout",
     "output_type": "stream",
     "text": [
      "async task 3 start...\n",
      "async task finished, cost 3 seconds"
     ]
    },
    {
     "data": {
      "text/plain": "<Task finished name='Task-5' coro=<async_task() done, defined at C:\\Users\\LENOVO\\AppData\\Local\\Temp\\ipykernel_16424\\1366162558.py:2> result='async_task3'>"
     },
     "execution_count": 44,
     "metadata": {},
     "output_type": "execute_result"
    }
   ],
   "source": [
    "loop.run_until_complete(task)\n",
    "task  # Task对象：task对象执行完毕后，状态是finished，result属性保存了协程函数的返回值"
   ],
   "metadata": {
    "collapsed": false,
    "ExecuteTime": {
     "end_time": "2023-12-01T14:18:17.291074200Z",
     "start_time": "2023-12-01T14:18:17.181071400Z"
    }
   },
   "id": "8003ba622012ba32"
  },
  {
   "cell_type": "code",
   "execution_count": 45,
   "outputs": [
    {
     "data": {
      "text/plain": "<Task pending name='Task-6' coro=<async_task() running at C:\\Users\\LENOVO\\AppData\\Local\\Temp\\ipykernel_24796\\1366162558.py:2>>"
     },
     "execution_count": 45,
     "metadata": {},
     "output_type": "execute_result"
    }
   ],
   "source": [
    "# 方式2：使用asyncio的ensure_future()方法创建task\n",
    "coro = async_task(3)\n",
    "task = asyncio.ensure_future(\n",
    "    coro)  # 使用asyncio的ensure_future()方法创建task，并将coroutine对象转化成task对象；可以在loop未定义前创建task，效果与使用create_task()创建task相同\n",
    "task"
   ],
   "metadata": {
    "collapsed": false,
    "ExecuteTime": {
     "end_time": "2023-12-01T14:35:25.539115300Z",
     "start_time": "2023-12-01T14:35:25.458080800Z"
    }
   },
   "id": "c55a988d764df9e3"
  },
  {
   "cell_type": "code",
   "execution_count": 46,
   "outputs": [
    {
     "name": "stdout",
     "output_type": "stream",
     "text": [
      "async task 3 start...\n",
      "async task finished, cost 3 seconds"
     ]
    },
    {
     "data": {
      "text/plain": "<Task finished name='Task-6' coro=<async_task() done, defined at C:\\Users\\LENOVO\\AppData\\Local\\Temp\\ipykernel_24796\\1366162558.py:2> result='async_task3'>"
     },
     "execution_count": 46,
     "metadata": {},
     "output_type": "execute_result"
    }
   ],
   "source": [
    "loop.run_until_complete(task)\n",
    "task"
   ],
   "metadata": {
    "collapsed": false,
    "ExecuteTime": {
     "end_time": "2023-12-01T15:27:17.958644500Z",
     "start_time": "2023-12-01T15:27:17.909644900Z"
    }
   },
   "id": "a9691d703b07d44f"
  },
  {
   "cell_type": "code",
   "execution_count": 47,
   "outputs": [
    {
     "data": {
      "text/plain": "<Task pending name='Task-7' coro=<async_task() running at C:\\Users\\LENOVO\\AppData\\Local\\Temp\\ipykernel_24796\\1366162558.py:2> cb=[callback() at C:\\Users\\LENOVO\\AppData\\Local\\Temp\\ipykernel_24796\\3686030089.py:2]>"
     },
     "execution_count": 47,
     "metadata": {},
     "output_type": "execute_result"
    }
   ],
   "source": [
    "# 3.绑定回调函数\n",
    "def callback(task):  # 自定义回调函数，输出task的结果\n",
    "    print(f'task result: {task.result()}')\n",
    "\n",
    "\n",
    "coro = async_task(4)\n",
    "task = loop.create_task(coro)\n",
    "task.add_done_callback(callback)  # 绑定回调函数\n",
    "task"
   ],
   "metadata": {
    "collapsed": false,
    "ExecuteTime": {
     "end_time": "2023-12-01T15:22:27.085191200Z",
     "start_time": "2023-12-01T15:22:27.010897200Z"
    }
   },
   "id": "4f7d91e95af0de84"
  },
  {
   "cell_type": "code",
   "execution_count": 48,
   "outputs": [
    {
     "name": "stdout",
     "output_type": "stream",
     "text": [
      "async task 4 start...\n",
      "async task finished, cost 4 seconds\n",
      "task result: async_task4"
     ]
    },
    {
     "data": {
      "text/plain": "<Task finished name='Task-7' coro=<async_task() done, defined at C:\\Users\\LENOVO\\AppData\\Local\\Temp\\ipykernel_24796\\1366162558.py:2> result='async_task4'>"
     },
     "execution_count": 48,
     "metadata": {},
     "output_type": "execute_result"
    }
   ],
   "source": [
    "loop.run_until_complete(task)\n",
    "task"
   ],
   "metadata": {
    "collapsed": false,
    "ExecuteTime": {
     "end_time": "2023-12-01T15:32:28.255762800Z",
     "start_time": "2023-12-01T15:32:28.171760300Z"
    }
   },
   "id": "38ce110b9ed03450"
  },
  {
   "cell_type": "code",
   "execution_count": 49,
   "outputs": [
    {
     "name": "stdout",
     "output_type": "stream",
     "text": [
      "async task 2 start...\n",
      "async task 1 start...\n",
      "async task 3 start...\n",
      "async task finished, cost 1 seconds\n",
      "async task finished, cost 2 seconds\n",
      "async task finished, cost 3 seconds\n",
      "all tasks finished, cost 3.01 seconds"
     ]
    }
   ],
   "source": [
    "# 4.多任务协程：需要执行多个任务时，可以定义一个任务列表，并将需要完成的协程任务都加进去，执行loop.run_until_complete(asyncio.wait(tasks))，适用于网络请求、文件读取等耗时任务，同时需要使用await关键字将耗时的操作挂起、让函数让出控制权。\n",
    "start = time.time()\n",
    "tasks = [async_task(1), async_task(2), async_task(3)]\n",
    "loop.run_until_complete(asyncio.wait(tasks))  # 完成事件循环，直到所有任务执行完成\n",
    "print(f'all tasks finished, cost {time.time() - start:.2f} seconds')  # 与前面使用yield from与asyncio效果相同"
   ],
   "metadata": {
    "collapsed": false,
    "ExecuteTime": {
     "end_time": "2023-12-01T15:37:23.356774100Z",
     "start_time": "2023-12-01T15:37:23.277755100Z"
    }
   },
   "id": "62cb381e0b11a883"
  },
  {
   "cell_type": "code",
   "execution_count": 50,
   "outputs": [
    {
     "name": "stdout",
     "output_type": "stream",
     "text": [
      "async task 3 start...\n",
      "async task finished, cost 3 seconds"
     ]
    }
   ],
   "source": [
    "# 使用asyncio.run方法（Python 3.7及以后）：省去显式定义事件循环的步骤\n",
    "asyncio.run(async_task(3))"
   ],
   "metadata": {
    "collapsed": false,
    "ExecuteTime": {
     "end_time": "2023-12-01T15:41:17.590018300Z",
     "start_time": "2023-12-01T15:41:17.520017500Z"
    }
   },
   "id": "b347bca60bb6ffb3"
  },
  {
   "cell_type": "markdown",
   "source": [
    "在Python中，协程（coroutine）和异步（async）是两个相关的概念，它们都可以用于实现非阻塞性的并发操作。但是，它们之间也有一些重要的区别：\n",
    "\n",
    "1. **协程（Coroutine）**：协程是一种用户态的轻量级线程，它不需要操作系统的调度机制，从Python的实现角度来看，协程是一种特殊类型的函数，可以在执行过程中挂起并恢复，允许在函数内部进行多任务处理。协程可以通过`async def`来定义，并使用`await`来挂起和恢复。在Python 3.4中引入的`asyncio`库提供了对协程的原生支持。\n",
    "2. **异步（Async）**：异步编程是一种并发模型，其中操作以非阻塞的方式执行，允许其他任务在等待操作完成时继续执行。在Python中，可以通过`asyncio`库和`async/await`语法来实现异步编程。\n",
    "\n",
    "从`yield`、`yield from`、`asyncio`和`async/await`角度解释协程和异步的关系：\n",
    "\n",
    "1. **yield**：在Python中，`yield`关键字用于定义生成器函数。生成器是一种特殊类型的迭代器，可以用于按需生成数据。使用`yield`可以将函数的执行暂停在某个点，并保存内部状态，以便下次调用时可以从上次暂停的位置继续执行。\n",
    "2. **yield from**：在Python 3.3中引入的`yield from`语法允许在一个生成器内部直接使用另一个生成器。通过使用`yield from`，可以将一个生成器的值生成器传递给另一个生成器，并在需要时暂停和恢复执行。\n",
    "3. **asyncio**：`asyncio`是Python标准库的一部分，提供了对异步I/O、协程和事件循环的支持。通过使用`asyncio`库，可以编写异步代码，并利用Python的协程和生成器功能来处理并发操作。\n",
    "4. **async/await**：在Python 3.5中引入的`async`和`await`关键字使得编写异步代码更加方便。通过使用`async def`定义异步函数，并使用`await`关键字挂起和恢复执行，可以编写清晰、易读的异步代码。\n",
    "\n",
    "综上所述，协程和异步是相互关联的概念，它们都可以用于实现非阻塞性的并发操作：协程是一种函数类型，可以通过挂起和恢复执行来处理多个任务；而异步编程是一种并发模型，它利用事件循环和异步I/O来执行非阻塞操作。在Python中，可以使用`asyncio`库和`async/await`语法来简化异步编程。"
   ],
   "metadata": {
    "collapsed": false
   },
   "id": "91e92002d69e9431"
  }
 ],
 "metadata": {
  "kernelspec": {
   "display_name": "Python 3",
   "language": "python",
   "name": "python3"
  },
  "language_info": {
   "codemirror_mode": {
    "name": "ipython",
    "version": 2
   },
   "file_extension": ".py",
   "mimetype": "text/x-python",
   "name": "python",
   "nbconvert_exporter": "python",
   "pygments_lexer": "ipython2",
   "version": "2.7.6"
  }
 },
 "nbformat": 4,
 "nbformat_minor": 5
}
