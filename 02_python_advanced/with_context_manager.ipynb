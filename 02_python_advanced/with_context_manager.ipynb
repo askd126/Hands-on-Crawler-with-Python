{
 "cells": [
  {
   "cell_type": "code",
   "execution_count": 1,
   "id": "initial_id",
   "metadata": {
    "collapsed": true,
    "ExecuteTime": {
     "end_time": "2023-11-21T15:07:04.754273600Z",
     "start_time": "2023-11-21T15:07:03.736698800Z"
    }
   },
   "outputs": [],
   "source": [
    "# -*- coding: utf-8 -*-\n",
    "\n",
    "'''\n",
    "@Author   :   Corley Tang\n",
    "@contact  :   cutercorleytd@gmail.com\n",
    "@Github   :   https://github.com/corleytd\n",
    "@Time     :   2023-11-21 23:05\n",
    "@Project  :   Hands-on Crawler with Python-with_context_manager\n",
    "上下文管理器\n",
    "'''\n",
    "\n",
    "# 导入所需的库\n",
    "import contextlib"
   ]
  },
  {
   "cell_type": "markdown",
   "source": [
    "上下文管理器是Python中的一种重要机制，它提供了一种简洁且安全的方式来管理资源的获取和释放，如文件操作或数据库连接。其主要功能在于，当进入with代码块前，`__enter__`方法会被调用并返回一个值赋给with后面的变量；在代码块执行完毕后，`__exit__`方法被自动调用来释放资源。通过实现上下文管理协议（包括`__enter__`和`__exit__`两个方法），一个类就可以成为一个上下文管理器。\n",
    "\n",
    "使用上下文管理器可以带来诸多好处。首先，它使得代码更加可读、可维护，因为资源的获取和释放都被统一管理起来，避免了因为疏忽导致的资源泄露问题。其次，上下文管理器可以用于异常处理，如果在执行代码块时出现异常，`__exit__`方法仍然会被调用，从而保证资源的正确释放。最后，通过使用上下文管理器，我们可以更好地优化代码，提高代码的质量和效率。\n",
    "# 1.with关键字"
   ],
   "metadata": {
    "collapsed": false
   },
   "id": "9531c1f3c8b371fc"
  },
  {
   "cell_type": "code",
   "execution_count": 2,
   "outputs": [
    {
     "data": {
      "text/plain": "1127"
     },
     "execution_count": 2,
     "metadata": {},
     "output_type": "execute_result"
    }
   ],
   "source": [
    "with open('../data/news.txt', encoding='utf-8') as f:  # with关键字管理文件对象\n",
    "    content = f.read()\n",
    "\n",
    "len(content)"
   ],
   "metadata": {
    "collapsed": false,
    "ExecuteTime": {
     "end_time": "2023-11-21T15:07:04.928789400Z",
     "start_time": "2023-11-21T15:07:03.757701700Z"
    }
   },
   "id": "e6a5e3edaad53b3c"
  },
  {
   "cell_type": "code",
   "execution_count": 3,
   "outputs": [
    {
     "data": {
      "text/plain": "True"
     },
     "execution_count": 3,
     "metadata": {},
     "output_type": "execute_result"
    }
   ],
   "source": [
    "f.closed  # 文件读取完后，会with关键字会自动关闭文件对象"
   ],
   "metadata": {
    "collapsed": false,
    "ExecuteTime": {
     "end_time": "2023-11-21T15:07:04.929789700Z",
     "start_time": "2023-11-21T15:07:03.798701500Z"
    }
   },
   "id": "7d80ebdfcacddaa3"
  },
  {
   "cell_type": "code",
   "execution_count": 4,
   "outputs": [
    {
     "data": {
      "text/plain": "'utf-8'"
     },
     "execution_count": 4,
     "metadata": {},
     "output_type": "execute_result"
    }
   ],
   "source": [
    "f.encoding  # 文件的编码格式"
   ],
   "metadata": {
    "collapsed": false,
    "ExecuteTime": {
     "end_time": "2023-11-21T15:07:04.932789400Z",
     "start_time": "2023-11-21T15:07:03.835699600Z"
    }
   },
   "id": "807f05397ec41c21"
  },
  {
   "cell_type": "code",
   "execution_count": 5,
   "outputs": [
    {
     "ename": "ValueError",
     "evalue": "I/O operation on closed file.",
     "output_type": "error",
     "traceback": [
      "\u001B[1;31m---------------------------------------------------------------------------\u001B[0m",
      "\u001B[1;31mValueError\u001B[0m                                Traceback (most recent call last)",
      "Cell \u001B[1;32mIn[5], line 1\u001B[0m\n\u001B[1;32m----> 1\u001B[0m \u001B[43mf\u001B[49m\u001B[38;5;241;43m.\u001B[39;49m\u001B[43mread\u001B[49m\u001B[43m(\u001B[49m\u001B[43m)\u001B[49m  \u001B[38;5;66;03m# 关闭文件后，再次读取会报错\u001B[39;00m\n",
      "\u001B[1;31mValueError\u001B[0m: I/O operation on closed file."
     ]
    }
   ],
   "source": [
    "f.read()  # 自动关闭文件后，再次读取会报错"
   ],
   "metadata": {
    "collapsed": false,
    "ExecuteTime": {
     "end_time": "2023-11-21T15:07:05.572786700Z",
     "start_time": "2023-11-21T15:07:03.858699200Z"
    }
   },
   "id": "58828d9212cf92f4"
  },
  {
   "cell_type": "markdown",
   "source": [
    "# 2.上下文管理器"
   ],
   "metadata": {
    "collapsed": false
   },
   "id": "cebbb7ee6e0f5324"
  },
  {
   "cell_type": "code",
   "execution_count": 6,
   "outputs": [
    {
     "data": {
      "text/plain": "1127"
     },
     "execution_count": 6,
     "metadata": {},
     "output_type": "execute_result"
    }
   ],
   "source": [
    "class CustomOpen:\n",
    "    '''动手实现文件资源的上下文管理器'''\n",
    "\n",
    "    def __init__(self, file_path):\n",
    "        self.file_path = file_path\n",
    "        self.file_handler = None\n",
    "\n",
    "    def __enter__(self):  # with语句开始运行时，会在上下文管理器对象上调用__enter__方法\n",
    "        self.file_handler = open(self.file_path, encoding='utf-8')\n",
    "        return self.file_handler\n",
    "\n",
    "    def __exit__(self, exc_type, exc_val, exc_tb):  # with语句运行结束后，会在上下文管理器对象上调用__exit__ 方法\n",
    "        if self.file_handler:\n",
    "            self.file_handler.close()\n",
    "        return True\n",
    "\n",
    "\n",
    "# 使用上下文管理器对象\n",
    "with CustomOpen('../data/news.txt') as f:\n",
    "    content = f.read()\n",
    "len(content)"
   ],
   "metadata": {
    "collapsed": false,
    "ExecuteTime": {
     "end_time": "2023-11-21T15:07:21.757950700Z",
     "start_time": "2023-11-21T15:07:21.588426300Z"
    }
   },
   "id": "1ec859ef6c6ec9f5"
  },
  {
   "cell_type": "markdown",
   "source": [
    "# 3.内置库contextlib"
   ],
   "metadata": {
    "collapsed": false
   },
   "id": "a1fee972534030bf"
  },
  {
   "cell_type": "code",
   "execution_count": 7,
   "outputs": [
    {
     "data": {
      "text/plain": "1127"
     },
     "execution_count": 7,
     "metadata": {},
     "output_type": "execute_result"
    }
   ],
   "source": [
    "# 1.装饰器\n",
    "@contextlib.contextmanager\n",
    "def open_file(file_path):\n",
    "    '''装饰器实现文件资源的上下文管理器'''\n",
    "    file_handler = open(file_path, encoding='utf-8')\n",
    "    yield file_handler  # 装饰器将函数中yield语句之前的代码作为__enter__方法执行，同时yield返回值赋值给as后的变量\n",
    "    file_handler.close()  # yield语句之后的代码当做__exit__方法执行\n",
    "\n",
    "\n",
    "with open_file('../data/news.txt') as f:\n",
    "    content = f.read()\n",
    "len(content)"
   ],
   "metadata": {
    "collapsed": false,
    "ExecuteTime": {
     "end_time": "2023-11-21T15:07:21.784952100Z",
     "start_time": "2023-11-21T15:07:21.620431800Z"
    }
   },
   "id": "871ddbf1632ce7e6"
  },
  {
   "cell_type": "code",
   "execution_count": 8,
   "outputs": [
    {
     "data": {
      "text/plain": "1127"
     },
     "execution_count": 8,
     "metadata": {},
     "output_type": "execute_result"
    }
   ],
   "source": [
    "# 2.closing类\n",
    "class OpenFile:\n",
    "    '''自定义文件管理类'''\n",
    "\n",
    "    def __init__(self, file_path):\n",
    "        self.file_handler = open(file_path, encoding='utf-8')\n",
    "\n",
    "    def close(self):\n",
    "        if self.file_handler:\n",
    "            self.file_handler.close()\n",
    "\n",
    "\n",
    "# 将自定义类实例传入closing类\n",
    "with contextlib.closing(OpenFile('../data/news.txt')) as f:\n",
    "    content = f.file_handler.read()\n",
    "len(content)"
   ],
   "metadata": {
    "collapsed": false,
    "ExecuteTime": {
     "end_time": "2023-11-21T15:07:21.784952100Z",
     "start_time": "2023-11-21T15:07:21.643426500Z"
    }
   },
   "id": "f0b2a99579ce6d93"
  }
 ],
 "metadata": {
  "kernelspec": {
   "display_name": "Python 3",
   "language": "python",
   "name": "python3"
  },
  "language_info": {
   "codemirror_mode": {
    "name": "ipython",
    "version": 2
   },
   "file_extension": ".py",
   "mimetype": "text/x-python",
   "name": "python",
   "nbconvert_exporter": "python",
   "pygments_lexer": "ipython2",
   "version": "2.7.6"
  }
 },
 "nbformat": 4,
 "nbformat_minor": 5
}
