{
 "cells": [
  {
   "cell_type": "code",
   "execution_count": 1,
   "id": "initial_id",
   "metadata": {
    "collapsed": true,
    "ExecuteTime": {
     "end_time": "2023-12-03T07:28:01.932952Z",
     "start_time": "2023-12-03T07:28:01.424425600Z"
    }
   },
   "outputs": [],
   "source": [
    "# -*- coding: utf-8 -*-\n",
    "\n",
    "'''\n",
    "@Author   :   Corley Tang\n",
    "@contact  :   cutercorleytd@gmail.com\n",
    "@Github   :   https://github.com/corleytd\n",
    "@Time     :   2023-12-03 12:49\n",
    "@Project  :   Hands-on Crawler with Python-mongo_with_python\n",
    "Python操作MongoDB\n",
    "'''\n",
    "\n",
    "# 导入所需的库\n",
    "import pymongo\n",
    "from bson.objectid import ObjectId"
   ]
  },
  {
   "cell_type": "markdown",
   "source": [
    "# 1.连接MongoDB"
   ],
   "metadata": {
    "collapsed": false
   },
   "id": "788e92a6eef9909e"
  },
  {
   "cell_type": "code",
   "execution_count": 2,
   "outputs": [
    {
     "data": {
      "text/plain": "MongoClient(host=['127.0.0.1:27017'], document_class=dict, tz_aware=False, connect=True)"
     },
     "execution_count": 2,
     "metadata": {},
     "output_type": "execute_result"
    }
   ],
   "source": [
    "client = pymongo.MongoClient(host='127.0.0.1', port=27017)  # 连接MongoDB，等价于pymongo.MongoClient('mongodb://127.0.0.1:27017')\n",
    "client"
   ],
   "metadata": {
    "collapsed": false,
    "ExecuteTime": {
     "end_time": "2023-12-03T07:28:01.971566Z",
     "start_time": "2023-12-03T07:28:01.940955800Z"
    }
   },
   "id": "8549fb157cbdeeb5"
  },
  {
   "cell_type": "markdown",
   "source": [
    "# 2.指定数据库和集合"
   ],
   "metadata": {
    "collapsed": false
   },
   "id": "f6501f595e581cd9"
  },
  {
   "cell_type": "code",
   "execution_count": 3,
   "outputs": [
    {
     "data": {
      "text/plain": "Database(MongoClient(host=['127.0.0.1:27017'], document_class=dict, tz_aware=False, connect=True), 'question_answer')"
     },
     "execution_count": 3,
     "metadata": {},
     "output_type": "execute_result"
    }
   ],
   "source": [
    "db = client.question_answer  # 指定连接question_answer数据库，等价于client['question_answer']\n",
    "db"
   ],
   "metadata": {
    "collapsed": false,
    "ExecuteTime": {
     "end_time": "2023-12-03T07:28:01.987537500Z",
     "start_time": "2023-12-03T07:28:01.973534900Z"
    }
   },
   "id": "5cbb288769bba44e"
  },
  {
   "cell_type": "code",
   "execution_count": 4,
   "outputs": [
    {
     "data": {
      "text/plain": "Collection(Database(MongoClient(host=['127.0.0.1:27017'], document_class=dict, tz_aware=False, connect=True), 'question_answer'), 'user')"
     },
     "execution_count": 4,
     "metadata": {},
     "output_type": "execute_result"
    }
   ],
   "source": [
    "collection = db.user  # 指定连接user集合（表），等价于db['user']\n",
    "collection"
   ],
   "metadata": {
    "collapsed": false,
    "ExecuteTime": {
     "end_time": "2023-12-03T07:28:02.071140200Z",
     "start_time": "2023-12-03T07:28:01.985535300Z"
    }
   },
   "id": "a3a582909ae06737"
  },
  {
   "cell_type": "markdown",
   "source": [
    "# 3.插入数据"
   ],
   "metadata": {
    "collapsed": false
   },
   "id": "f51955d33e351fc"
  },
  {
   "cell_type": "code",
   "execution_count": 5,
   "outputs": [
    {
     "data": {
      "text/plain": "InsertOneResult(ObjectId('656c2e02ab8e650a92de9c24'), acknowledged=True)"
     },
     "execution_count": 5,
     "metadata": {},
     "output_type": "execute_result"
    }
   ],
   "source": [
    "person = {'name': 'Amanda', 'age': 18, 'gender': 'female'}\n",
    "result = collection.insert_one(person)\n",
    "result  # 返回插入数据的结果，包含插入数据的_id"
   ],
   "metadata": {
    "collapsed": false,
    "ExecuteTime": {
     "end_time": "2023-12-03T07:28:02.100874900Z",
     "start_time": "2023-12-03T07:28:02.006447600Z"
    }
   },
   "id": "f5833113377ac2e0"
  },
  {
   "cell_type": "code",
   "execution_count": 6,
   "outputs": [
    {
     "data": {
      "text/plain": "ObjectId('656c2e02ab8e650a92de9c24')"
     },
     "execution_count": 6,
     "metadata": {},
     "output_type": "execute_result"
    }
   ],
   "source": [
    "result.inserted_id  # 查看插入数据的_id"
   ],
   "metadata": {
    "collapsed": false,
    "ExecuteTime": {
     "end_time": "2023-12-03T07:28:02.101877300Z",
     "start_time": "2023-12-03T07:28:02.029385700Z"
    }
   },
   "id": "603507bc4c7ff109"
  },
  {
   "cell_type": "code",
   "execution_count": 7,
   "outputs": [
    {
     "data": {
      "text/plain": "InsertManyResult([ObjectId('656c2e02ab8e650a92de9c25'), ObjectId('656c2e02ab8e650a92de9c26'), ObjectId('656c2e02ab8e650a92de9c27')], acknowledged=True)"
     },
     "execution_count": 7,
     "metadata": {},
     "output_type": "execute_result"
    }
   ],
   "source": [
    "person1 = {'name': 'Alice', 'age': 24, 'gender': 'female'}\n",
    "person2 = {'name': 'Bob', 'age': 25, 'gender': 'male'}\n",
    "person3 = {'name': 'Charlie', 'age': 26, 'gender': 'male'}\n",
    "result = collection.insert_many([person1, person2, person3])\n",
    "result"
   ],
   "metadata": {
    "collapsed": false,
    "ExecuteTime": {
     "end_time": "2023-12-03T07:28:02.127878200Z",
     "start_time": "2023-12-03T07:28:02.050953800Z"
    }
   },
   "id": "11770485b43edc58"
  },
  {
   "cell_type": "code",
   "execution_count": 8,
   "outputs": [
    {
     "data": {
      "text/plain": "[ObjectId('656c2e02ab8e650a92de9c25'),\n ObjectId('656c2e02ab8e650a92de9c26'),\n ObjectId('656c2e02ab8e650a92de9c27')]"
     },
     "execution_count": 8,
     "metadata": {},
     "output_type": "execute_result"
    }
   ],
   "source": [
    "result.inserted_ids  # 查看插入数据的_id"
   ],
   "metadata": {
    "collapsed": false,
    "ExecuteTime": {
     "end_time": "2023-12-03T07:28:02.333120Z",
     "start_time": "2023-12-03T07:28:02.078878400Z"
    }
   },
   "id": "a3aece70b72f11ae"
  },
  {
   "cell_type": "markdown",
   "source": [
    "# 4.查询数据"
   ],
   "metadata": {
    "collapsed": false
   },
   "id": "4c9aefede09e876f"
  },
  {
   "cell_type": "code",
   "execution_count": 9,
   "outputs": [
    {
     "data": {
      "text/plain": "{'_id': ObjectId('656c2e02ab8e650a92de9c24'),\n 'name': 'Amanda',\n 'age': 18,\n 'gender': 'female'}"
     },
     "execution_count": 9,
     "metadata": {},
     "output_type": "execute_result"
    }
   ],
   "source": [
    "# 通过一般字段查询\n",
    "collection.find_one({'name': 'Amanda'})"
   ],
   "metadata": {
    "collapsed": false,
    "ExecuteTime": {
     "end_time": "2023-12-03T07:28:02.395114400Z",
     "start_time": "2023-12-03T07:28:02.113885500Z"
    }
   },
   "id": "31796aac1a7fa702"
  },
  {
   "cell_type": "code",
   "execution_count": 10,
   "outputs": [],
   "source": [
    "# 通过_id查询\n",
    "collection.find_one({'_id': ObjectId('656c10d33d74577e649a8660')})"
   ],
   "metadata": {
    "collapsed": false,
    "ExecuteTime": {
     "end_time": "2023-12-03T07:28:02.396115300Z",
     "start_time": "2023-12-03T07:28:02.142957800Z"
    }
   },
   "id": "85650fca0627d451"
  },
  {
   "cell_type": "code",
   "execution_count": 11,
   "outputs": [
    {
     "data": {
      "text/plain": "<pymongo.cursor.Cursor at 0x1ce442c7670>"
     },
     "execution_count": 11,
     "metadata": {},
     "output_type": "execute_result"
    }
   ],
   "source": [
    "# 查询多条数据\n",
    "result = collection.find({'age': {'$gt': 22}})\n",
    "result  # Cursor对象，相当于一个生成器，通过遍历获取每个结果"
   ],
   "metadata": {
    "collapsed": false,
    "ExecuteTime": {
     "end_time": "2023-12-03T07:28:02.398116100Z",
     "start_time": "2023-12-03T07:28:02.175035100Z"
    }
   },
   "id": "af911e72a76fc3ce"
  },
  {
   "cell_type": "code",
   "execution_count": 12,
   "outputs": [
    {
     "name": "stdout",
     "output_type": "stream",
     "text": [
      "{'_id': ObjectId('656c2e02ab8e650a92de9c25'), 'name': 'Alice', 'age': 24, 'gender': 'female'}\n",
      "{'_id': ObjectId('656c2e02ab8e650a92de9c26'), 'name': 'Bob', 'age': 25, 'gender': 'male'}\n",
      "{'_id': ObjectId('656c2e02ab8e650a92de9c27'), 'name': 'Charlie', 'age': 26, 'gender': 'male'}\n"
     ]
    }
   ],
   "source": [
    "for item in result:\n",
    "    print(item)  # 每个结果都是字典"
   ],
   "metadata": {
    "collapsed": false,
    "ExecuteTime": {
     "end_time": "2023-12-03T07:28:02.407112900Z",
     "start_time": "2023-12-03T07:28:02.189032500Z"
    }
   },
   "id": "84ca20fd2c1b146d"
  },
  {
   "cell_type": "markdown",
   "source": [
    "# 5.计数排序"
   ],
   "metadata": {
    "collapsed": false
   },
   "id": "96644a94d44af4e0"
  },
  {
   "cell_type": "code",
   "execution_count": 13,
   "outputs": [
    {
     "data": {
      "text/plain": "4"
     },
     "execution_count": 13,
     "metadata": {},
     "output_type": "execute_result"
    }
   ],
   "source": [
    "collection.count_documents({})  # 计数，代替collection.find().count()"
   ],
   "metadata": {
    "collapsed": false,
    "ExecuteTime": {
     "end_time": "2023-12-03T07:28:02.410111100Z",
     "start_time": "2023-12-03T07:28:02.238070700Z"
    }
   },
   "id": "3f2a114e9ecd97d"
  },
  {
   "cell_type": "code",
   "execution_count": 14,
   "outputs": [
    {
     "name": "stdout",
     "output_type": "stream",
     "text": [
      "{'_id': ObjectId('656c2e02ab8e650a92de9c27'), 'name': 'Charlie', 'age': 26, 'gender': 'male'}\n",
      "{'_id': ObjectId('656c2e02ab8e650a92de9c26'), 'name': 'Bob', 'age': 25, 'gender': 'male'}\n",
      "{'_id': ObjectId('656c2e02ab8e650a92de9c25'), 'name': 'Alice', 'age': 24, 'gender': 'female'}\n",
      "{'_id': ObjectId('656c2e02ab8e650a92de9c24'), 'name': 'Amanda', 'age': 18, 'gender': 'female'}\n"
     ]
    }
   ],
   "source": [
    "for item in collection.find().sort('age', pymongo.DESCENDING):\n",
    "    print(item)  # 按照age降序排序"
   ],
   "metadata": {
    "collapsed": false,
    "ExecuteTime": {
     "end_time": "2023-12-03T07:28:02.412117500Z",
     "start_time": "2023-12-03T07:28:02.274825200Z"
    }
   },
   "id": "6193da41abd7812e"
  },
  {
   "cell_type": "markdown",
   "source": [
    "# 6.更新删除"
   ],
   "metadata": {
    "collapsed": false
   },
   "id": "1526e6d22d28f72d"
  },
  {
   "cell_type": "code",
   "execution_count": 15,
   "outputs": [
    {
     "data": {
      "text/plain": "UpdateResult({'n': 1, 'nModified': 1, 'ok': 1.0, 'updatedExisting': True}, acknowledged=True)"
     },
     "execution_count": 15,
     "metadata": {},
     "output_type": "execute_result"
    }
   ],
   "source": [
    "# 更新1条数据\n",
    "result = collection.update_one({'name': 'Amanda'}, {'$set': {'age': 19}})\n",
    "result  # UpdateResult对象"
   ],
   "metadata": {
    "collapsed": false,
    "ExecuteTime": {
     "end_time": "2023-12-03T07:28:02.416334800Z",
     "start_time": "2023-12-03T07:28:02.315858200Z"
    }
   },
   "id": "5d83d71a6451ddb3"
  },
  {
   "cell_type": "code",
   "execution_count": 16,
   "outputs": [
    {
     "data": {
      "text/plain": "(1, 1)"
     },
     "execution_count": 16,
     "metadata": {},
     "output_type": "execute_result"
    }
   ],
   "source": [
    "result.matched_count, result.modified_count  # 匹配的记录数和修改的记录数"
   ],
   "metadata": {
    "collapsed": false,
    "ExecuteTime": {
     "end_time": "2023-12-03T07:28:02.417341800Z",
     "start_time": "2023-12-03T07:28:02.344693700Z"
    }
   },
   "id": "5d023a4c68876c87"
  },
  {
   "cell_type": "code",
   "execution_count": 17,
   "outputs": [
    {
     "name": "stdout",
     "output_type": "stream",
     "text": [
      "{'_id': ObjectId('656c2e02ab8e650a92de9c24'), 'name': 'Amanda', 'age': 19, 'gender': 'female'}\n",
      "{'_id': ObjectId('656c2e02ab8e650a92de9c25'), 'name': 'Alice', 'age': 24, 'gender': 'female'}\n",
      "{'_id': ObjectId('656c2e02ab8e650a92de9c26'), 'name': 'Bob', 'age': 25, 'gender': 'male'}\n",
      "{'_id': ObjectId('656c2e02ab8e650a92de9c27'), 'name': 'Charlie', 'age': 26, 'gender': 'male'}\n"
     ]
    }
   ],
   "source": [
    "for item in collection.find():\n",
    "    print(item)  # age字段更新为19"
   ],
   "metadata": {
    "collapsed": false,
    "ExecuteTime": {
     "end_time": "2023-12-03T07:28:02.754556200Z",
     "start_time": "2023-12-03T07:28:02.359689Z"
    }
   },
   "id": "1ae2f8ab0f771143"
  },
  {
   "cell_type": "code",
   "execution_count": 18,
   "outputs": [
    {
     "data": {
      "text/plain": "UpdateResult({'n': 1, 'nModified': 1, 'ok': 1.0, 'updatedExisting': True}, acknowledged=True)"
     },
     "execution_count": 18,
     "metadata": {},
     "output_type": "execute_result"
    }
   ],
   "source": [
    "# 年龄+3\n",
    "collection.update_one({'name': 'Charlie'}, {'$inc': {'age': 3}})"
   ],
   "metadata": {
    "collapsed": false,
    "ExecuteTime": {
     "end_time": "2023-12-03T07:28:02.822552800Z",
     "start_time": "2023-12-03T07:28:02.405117400Z"
    }
   },
   "id": "bfad8645d036fb52"
  },
  {
   "cell_type": "code",
   "execution_count": 19,
   "outputs": [
    {
     "name": "stdout",
     "output_type": "stream",
     "text": [
      "{'_id': ObjectId('656c2e02ab8e650a92de9c24'), 'name': 'Amanda', 'age': 19, 'gender': 'female'}\n",
      "{'_id': ObjectId('656c2e02ab8e650a92de9c25'), 'name': 'Alice', 'age': 24, 'gender': 'female'}\n",
      "{'_id': ObjectId('656c2e02ab8e650a92de9c26'), 'name': 'Bob', 'age': 25, 'gender': 'male'}\n",
      "{'_id': ObjectId('656c2e02ab8e650a92de9c27'), 'name': 'Charlie', 'age': 29, 'gender': 'male'}\n"
     ]
    }
   ],
   "source": [
    "# 查看更新后的结果\n",
    "for item in collection.find():\n",
    "    print(item)  # age字段+3"
   ],
   "metadata": {
    "collapsed": false,
    "ExecuteTime": {
     "end_time": "2023-12-03T07:28:02.823553100Z",
     "start_time": "2023-12-03T07:28:02.435318100Z"
    }
   },
   "id": "640244a01aab1086"
  },
  {
   "cell_type": "code",
   "execution_count": 20,
   "outputs": [
    {
     "data": {
      "text/plain": "UpdateResult({'n': 3, 'nModified': 3, 'ok': 1.0, 'updatedExisting': True}, acknowledged=True)"
     },
     "execution_count": 20,
     "metadata": {},
     "output_type": "execute_result"
    }
   ],
   "source": [
    "# 更新多条数据\n",
    "collection.update_many({'age': {'$gt': 22}}, {'$inc': {'age': 1}})"
   ],
   "metadata": {
    "collapsed": false,
    "ExecuteTime": {
     "end_time": "2023-12-03T07:28:02.825555300Z",
     "start_time": "2023-12-03T07:28:02.467449700Z"
    }
   },
   "id": "628efa6a9248a144"
  },
  {
   "cell_type": "code",
   "execution_count": 21,
   "outputs": [
    {
     "name": "stdout",
     "output_type": "stream",
     "text": [
      "{'_id': ObjectId('656c2e02ab8e650a92de9c24'), 'name': 'Amanda', 'age': 19, 'gender': 'female'}\n",
      "{'_id': ObjectId('656c2e02ab8e650a92de9c25'), 'name': 'Alice', 'age': 25, 'gender': 'female'}\n",
      "{'_id': ObjectId('656c2e02ab8e650a92de9c26'), 'name': 'Bob', 'age': 26, 'gender': 'male'}\n",
      "{'_id': ObjectId('656c2e02ab8e650a92de9c27'), 'name': 'Charlie', 'age': 30, 'gender': 'male'}\n"
     ]
    }
   ],
   "source": [
    "# 查看更新后的结果\n",
    "for item in collection.find():\n",
    "    print(item)  # age字段+1"
   ],
   "metadata": {
    "collapsed": false,
    "ExecuteTime": {
     "end_time": "2023-12-03T07:28:02.827554Z",
     "start_time": "2023-12-03T07:28:02.497201500Z"
    }
   },
   "id": "6d06e57e5667faa9"
  },
  {
   "cell_type": "code",
   "execution_count": 22,
   "outputs": [
    {
     "data": {
      "text/plain": "DeleteResult({'n': 1, 'ok': 1.0}, acknowledged=True)"
     },
     "execution_count": 22,
     "metadata": {},
     "output_type": "execute_result"
    }
   ],
   "source": [
    "# 删除1条数据\n",
    "collection.delete_one({'name': 'Alice'})"
   ],
   "metadata": {
    "collapsed": false,
    "ExecuteTime": {
     "end_time": "2023-12-03T07:28:02.828557Z",
     "start_time": "2023-12-03T07:28:02.512929400Z"
    }
   },
   "id": "6555568b53e6b290"
  },
  {
   "cell_type": "code",
   "execution_count": 23,
   "outputs": [
    {
     "name": "stdout",
     "output_type": "stream",
     "text": [
      "{'_id': ObjectId('656c2e02ab8e650a92de9c24'), 'name': 'Amanda', 'age': 19, 'gender': 'female'}\n",
      "{'_id': ObjectId('656c2e02ab8e650a92de9c26'), 'name': 'Bob', 'age': 26, 'gender': 'male'}\n",
      "{'_id': ObjectId('656c2e02ab8e650a92de9c27'), 'name': 'Charlie', 'age': 30, 'gender': 'male'}\n"
     ]
    }
   ],
   "source": [
    "# 查看删除后的结果\n",
    "for item in collection.find():\n",
    "    print(item)"
   ],
   "metadata": {
    "collapsed": false,
    "ExecuteTime": {
     "end_time": "2023-12-03T07:28:02.849594300Z",
     "start_time": "2023-12-03T07:28:02.541658200Z"
    }
   },
   "id": "b23832de76534e1d"
  },
  {
   "cell_type": "code",
   "execution_count": 24,
   "outputs": [
    {
     "data": {
      "text/plain": "DeleteResult({'n': 2, 'ok': 1.0}, acknowledged=True)"
     },
     "execution_count": 24,
     "metadata": {},
     "output_type": "execute_result"
    }
   ],
   "source": [
    "# 删除多条数据\n",
    "result = collection.delete_many({'age': {'$gt': 22}})\n",
    "result"
   ],
   "metadata": {
    "collapsed": false,
    "ExecuteTime": {
     "end_time": "2023-12-03T07:28:02.851592800Z",
     "start_time": "2023-12-03T07:28:02.561879300Z"
    }
   },
   "id": "f75ad1af5b52d6f4"
  },
  {
   "cell_type": "code",
   "execution_count": 25,
   "outputs": [
    {
     "data": {
      "text/plain": "2"
     },
     "execution_count": 25,
     "metadata": {},
     "output_type": "execute_result"
    }
   ],
   "source": [
    "result.deleted_count  # 删除的记录数"
   ],
   "metadata": {
    "collapsed": false,
    "ExecuteTime": {
     "end_time": "2023-12-03T07:28:02.853605600Z",
     "start_time": "2023-12-03T07:28:02.589606400Z"
    }
   },
   "id": "a3de6a275712f17a"
  },
  {
   "cell_type": "code",
   "execution_count": 26,
   "outputs": [
    {
     "name": "stdout",
     "output_type": "stream",
     "text": [
      "{'_id': ObjectId('656c2e02ab8e650a92de9c24'), 'name': 'Amanda', 'age': 19, 'gender': 'female'}\n"
     ]
    }
   ],
   "source": [
    "# 查看删除后的结果\n",
    "for item in collection.find():\n",
    "    print(item)"
   ],
   "metadata": {
    "collapsed": false,
    "ExecuteTime": {
     "end_time": "2023-12-03T07:28:02.856591100Z",
     "start_time": "2023-12-03T07:28:02.605614100Z"
    }
   },
   "id": "444d87cde98d50d1"
  }
 ],
 "metadata": {
  "kernelspec": {
   "display_name": "Python 3",
   "language": "python",
   "name": "python3"
  },
  "language_info": {
   "codemirror_mode": {
    "name": "ipython",
    "version": 2
   },
   "file_extension": ".py",
   "mimetype": "text/x-python",
   "name": "python",
   "nbconvert_exporter": "python",
   "pygments_lexer": "ipython2",
   "version": "2.7.6"
  }
 },
 "nbformat": 4,
 "nbformat_minor": 5
}
