{
 "cells": [
  {
   "cell_type": "code",
   "execution_count": 1,
   "id": "initial_id",
   "metadata": {
    "collapsed": true,
    "ExecuteTime": {
     "end_time": "2023-12-03T02:38:59.775950Z",
     "start_time": "2023-12-03T02:38:59.706958600Z"
    }
   },
   "outputs": [],
   "source": [
    "# -*- coding: utf-8 -*-\n",
    "\n",
    "'''\n",
    "@Author   :   Corley Tang\n",
    "@contact  :   cutercorleytd@gmail.com\n",
    "@Github   :   https://github.com/corleytd\n",
    "@Time     :   2023-11-30 20:59\n",
    "@Project  :   Hands-on Crawler with Python-mysql_with_python\n",
    "Python操作MySQL\n",
    "'''\n",
    "\n",
    "# 导入所需的库\n",
    "import pymysql\n",
    "\n",
    "from utils.mysql_pool.db import MySQLDB"
   ]
  },
  {
   "cell_type": "markdown",
   "source": [
    "# 1.连接MySQL"
   ],
   "metadata": {
    "collapsed": false
   },
   "id": "e362aeebf83ca7cf"
  },
  {
   "cell_type": "code",
   "execution_count": 2,
   "outputs": [
    {
     "data": {
      "text/plain": "<pymysql.connections.Connection at 0x1b5f2b2daf0>"
     },
     "execution_count": 2,
     "metadata": {},
     "output_type": "execute_result"
    }
   ],
   "source": [
    "conn = pymysql.connect(\n",
    "    host='localhost',  # 主机地址\n",
    "    port=3306,  # 端口号\n",
    "    db='question_answer',  # 数据库名\n",
    "    user='root',  # 数据库用户名\n",
    "    passwd='123456',  #\n",
    "    charset='utf8'  # 编码\n",
    ")\n",
    "conn"
   ],
   "metadata": {
    "collapsed": false,
    "ExecuteTime": {
     "end_time": "2023-12-03T02:38:59.838951400Z",
     "start_time": "2023-12-03T02:38:59.779951Z"
    }
   },
   "id": "551e179073215c98"
  },
  {
   "cell_type": "markdown",
   "source": [
    "# 2.插入数据"
   ],
   "metadata": {
    "collapsed": false
   },
   "id": "b976c40c38e1e0e"
  },
  {
   "cell_type": "code",
   "execution_count": 3,
   "outputs": [
    {
     "data": {
      "text/plain": "<pymysql.cursors.Cursor at 0x1b5f2b3b610>"
     },
     "execution_count": 3,
     "metadata": {},
     "output_type": "execute_result"
    }
   ],
   "source": [
    "# 获取游标\n",
    "cursor = conn.cursor()\n",
    "cursor"
   ],
   "metadata": {
    "collapsed": false,
    "ExecuteTime": {
     "end_time": "2023-12-03T02:38:59.928951400Z",
     "start_time": "2023-12-03T02:38:59.839978700Z"
    }
   },
   "id": "38359602a817d30d"
  },
  {
   "cell_type": "code",
   "execution_count": 4,
   "outputs": [],
   "source": [
    "# 创建用户表\n",
    "cursor.execute('''CREATE TABLE IF NOT EXISTS user(\n",
    "    id INT PRIMARY KEY AUTO_INCREMENT,\n",
    "    name VARCHAR(20) NOT NULL,\n",
    "    age INT NOT NULL,\n",
    "    gender VARCHAR(6) NOT NULL\n",
    ") ENGINE=InnoDB DEFAULT CHARSET=utf8;\n",
    "''')\n",
    "\n",
    "# 插入单条数据：字符串\n",
    "cursor.execute(\"INSERT INTO user(name, age, gender) VALUES ('Corley', 25,'male');\")\n",
    "# 插入单条数据：元组或列表\n",
    "cursor.execute('INSERT INTO user(name, age, gender) VALUES (%s, %s, %s);', ('Mary', 24, 'female'))\n",
    "# 插入单条数据：字典\n",
    "cursor.execute('INSERT INTO user(name, age, gender) VALUES (%(name)s, %(age)s, %(gender)s);',\n",
    "               {'name': 'Ryan', 'age': 23, 'gender': 'male'})\n",
    "conn.commit()  # 提交"
   ],
   "metadata": {
    "collapsed": false,
    "ExecuteTime": {
     "end_time": "2023-12-03T02:38:59.990957400Z",
     "start_time": "2023-12-03T02:38:59.858953Z"
    }
   },
   "id": "f76c220ba23acf92"
  },
  {
   "cell_type": "code",
   "execution_count": 5,
   "outputs": [],
   "source": [
    "# 插入多条数据：列表\n",
    "cursor.executemany(\n",
    "    'INSERT INTO user(name, age, gender) VALUES (%s, %s, %s) ON DUPLICATE KEY UPDATE age=VALUES(age);',\n",
    "    # 如果插入的记录的主键key已经存在，则执行UPDATE操作，对应的value使用VALUES()函数动态获取\n",
    "    [\n",
    "        ('Tom', 22, 'male'),\n",
    "        ('Jerry', 21, 'male'),\n",
    "        ('Lucy', 20, 'female')\n",
    "    ]\n",
    ")\n",
    "conn.commit()"
   ],
   "metadata": {
    "collapsed": false,
    "ExecuteTime": {
     "end_time": "2023-12-03T02:39:00.189728400Z",
     "start_time": "2023-12-03T02:38:59.972954100Z"
    }
   },
   "id": "4bdb28e9b85b3468"
  },
  {
   "cell_type": "markdown",
   "source": [
    "# 3.查询数据"
   ],
   "metadata": {
    "collapsed": false
   },
   "id": "58eba78f205e903c"
  },
  {
   "cell_type": "code",
   "execution_count": 6,
   "outputs": [
    {
     "data": {
      "text/plain": "(1, 'Corley', 25, 'male')"
     },
     "execution_count": 6,
     "metadata": {},
     "output_type": "execute_result"
    }
   ],
   "source": [
    "# 执行查询语句\n",
    "cursor.execute('select * from user;')\n",
    "# 获取单条数据\n",
    "cursor.fetchone()"
   ],
   "metadata": {
    "collapsed": false,
    "ExecuteTime": {
     "end_time": "2023-12-03T02:39:00.306258500Z",
     "start_time": "2023-12-03T02:39:00.192729300Z"
    }
   },
   "id": "b6fbc7a9876a0887"
  },
  {
   "cell_type": "code",
   "execution_count": 7,
   "outputs": [
    {
     "data": {
      "text/plain": "((2, 'Corley', 25, 'male'), (3, 'Mary', 24, 'female'))"
     },
     "execution_count": 7,
     "metadata": {},
     "output_type": "execute_result"
    }
   ],
   "source": [
    "# 获取多条数据，不从头开始，从前面获取过的下1条开始获取\n",
    "cursor.fetchmany(2)"
   ],
   "metadata": {
    "collapsed": false,
    "ExecuteTime": {
     "end_time": "2023-12-03T02:39:00.329275Z",
     "start_time": "2023-12-03T02:39:00.222727Z"
    }
   },
   "id": "71bcb721a19897cb"
  },
  {
   "cell_type": "code",
   "execution_count": 8,
   "outputs": [
    {
     "data": {
      "text/plain": "((4, 'Corley', 25, 'male'),\n (5, 'Mary', 24, 'female'),\n (6, 'Ryan', 23, 'male'),\n (7, 'Tom', 22, 'male'),\n (8, 'Jerry', 21, 'male'),\n (9, 'Lucy', 20, 'female'),\n (10, 'Corley', 25, 'male'),\n (11, 'Mary', 24, 'female'),\n (12, 'Ryan', 23, 'male'),\n (13, 'Tom', 22, 'male'),\n (14, 'Jerry', 21, 'male'),\n (15, 'Lucy', 20, 'female'),\n (16, 'Corley', 25, 'male'),\n (17, 'Mary', 24, 'female'),\n (18, 'Ryan', 23, 'male'),\n (19, 'Tom', 22, 'male'),\n (20, 'Jerry', 21, 'male'),\n (21, 'Lucy', 20, 'female'),\n (22, 'Corley', 25, 'male'),\n (23, 'Mary', 24, 'female'),\n (24, 'Ryan', 23, 'male'),\n (25, 'Tom', 22, 'male'),\n (26, 'Jerry', 21, 'male'),\n (27, 'Lucy', 20, 'female'),\n (28, 'Corley', 25, 'male'),\n (29, 'Mary', 24, 'female'),\n (30, 'Ryan', 23, 'male'),\n (31, 'Tom', 22, 'male'),\n (32, 'Jerry', 21, 'male'),\n (33, 'Lucy', 20, 'female'),\n (34, 'Corley', 25, 'male'),\n (35, 'Mary', 24, 'female'),\n (36, 'Ryan', 23, 'male'),\n (37, 'Tom', 22, 'male'),\n (38, 'Jerry', 21, 'male'),\n (39, 'Lucy', 20, 'female'),\n (40, 'Corley', 25, 'male'),\n (41, 'Mary', 24, 'female'),\n (42, 'Ryan', 23, 'male'),\n (43, 'Tom', 22, 'male'),\n (44, 'Jerry', 21, 'male'),\n (45, 'Lucy', 20, 'female'))"
     },
     "execution_count": 8,
     "metadata": {},
     "output_type": "execute_result"
    }
   ],
   "source": [
    "# 获取所有数据\n",
    "cursor.fetchall()"
   ],
   "metadata": {
    "collapsed": false,
    "ExecuteTime": {
     "end_time": "2023-12-03T02:39:00.332253700Z",
     "start_time": "2023-12-03T02:39:00.255726600Z"
    }
   },
   "id": "9f6b0925b8c329de"
  },
  {
   "cell_type": "markdown",
   "source": [
    "# 4.关闭连接"
   ],
   "metadata": {
    "collapsed": false
   },
   "id": "71b28e89f35f1668"
  },
  {
   "cell_type": "code",
   "execution_count": 9,
   "outputs": [],
   "source": [
    "cursor.close()\n",
    "conn.close()"
   ],
   "metadata": {
    "collapsed": false,
    "ExecuteTime": {
     "end_time": "2023-12-03T02:39:00.342799900Z",
     "start_time": "2023-12-03T02:39:00.304252Z"
    }
   },
   "id": "695be28164ed0cdc"
  },
  {
   "cell_type": "markdown",
   "source": [
    "# 5.MySQL连接池"
   ],
   "metadata": {
    "collapsed": false
   },
   "id": "30baa73d08f53b3b"
  },
  {
   "cell_type": "code",
   "execution_count": 10,
   "outputs": [
    {
     "data": {
      "text/plain": "[{'VERSION()': '8.2.0'}]"
     },
     "execution_count": 10,
     "metadata": {},
     "output_type": "execute_result"
    }
   ],
   "source": [
    "# 配置项\n",
    "config = {\n",
    "    'host': '127.0.0.1',\n",
    "    'port': 3306,\n",
    "    'user': 'root',\n",
    "    'password': '123456',\n",
    "    'db': 'question_answer',\n",
    "    'charset': 'utf8mb4',\n",
    "    'keepConnectionAlive': True,\n",
    "    'pingInterval': 300,\n",
    "    'maxConnections': 5,\n",
    "    'minFreeConnections': 1\n",
    "}\n",
    "\n",
    "pool = MySQLDB(config)  # 创建连接池\n",
    "pool.query('SELECT VERSION();')  # 执行SQL语句"
   ],
   "metadata": {
    "collapsed": false,
    "ExecuteTime": {
     "end_time": "2023-12-03T02:39:00.518640300Z",
     "start_time": "2023-12-03T02:39:00.338252Z"
    }
   },
   "id": "6493f19ba0bcc327"
  }
 ],
 "metadata": {
  "kernelspec": {
   "display_name": "Python 3",
   "language": "python",
   "name": "python3"
  },
  "language_info": {
   "codemirror_mode": {
    "name": "ipython",
    "version": 2
   },
   "file_extension": ".py",
   "mimetype": "text/x-python",
   "name": "python",
   "nbconvert_exporter": "python",
   "pygments_lexer": "ipython2",
   "version": "2.7.6"
  }
 },
 "nbformat": 4,
 "nbformat_minor": 5
}
