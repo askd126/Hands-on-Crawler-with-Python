{
 "cells": [
  {
   "cell_type": "code",
   "execution_count": 1,
   "id": "initial_id",
   "metadata": {
    "collapsed": true,
    "ExecuteTime": {
     "end_time": "2023-12-05T14:31:48.850332600Z",
     "start_time": "2023-12-05T14:31:48.678581600Z"
    }
   },
   "outputs": [],
   "source": [
    "# -*- coding: utf-8 -*-\n",
    "\n",
    "'''\n",
    "@Author   :   Corley Tang\n",
    "@contact  :   cutercorleytd@gmail.com\n",
    "@Github   :   https://github.com/corleytd\n",
    "@Time     :   2023-12-05 7:50\n",
    "@Project  :   Hands-on Crawler with Python-redis_with_python\n",
    "Python操作Redis\n",
    "'''\n",
    "\n",
    "# 导入所需的库\n",
    "import redis"
   ]
  },
  {
   "cell_type": "markdown",
   "source": [
    "# 1.基本使用"
   ],
   "metadata": {
    "collapsed": false
   },
   "id": "a39a9af263d7b804"
  },
  {
   "cell_type": "code",
   "execution_count": 2,
   "outputs": [
    {
     "data": {
      "text/plain": "Redis<ConnectionPool<Connection<host=127.0.0.1,port=6379,db=0>>>"
     },
     "execution_count": 2,
     "metadata": {},
     "output_type": "execute_result"
    }
   ],
   "source": [
    "# 连接Redis：通过连接池方式连接\n",
    "conn = redis.StrictRedis(  # StrictRedis用于实现大部分官方命令，Redis是StrictRedis的子类，用于向后兼容旧版本\n",
    "    connection_pool=redis.ConnectionPool(\n",
    "        host='127.0.0.1',\n",
    "        port=6379,\n",
    "        db=0,\n",
    "        encoding='utf-8',\n",
    "        decode_responses=True  # 设置解码\n",
    "    )\n",
    ")\n",
    "conn"
   ],
   "metadata": {
    "collapsed": false,
    "ExecuteTime": {
     "end_time": "2023-12-05T14:31:48.955362900Z",
     "start_time": "2023-12-05T14:31:48.856331200Z"
    }
   },
   "id": "c9bb12d9ee888734"
  },
  {
   "cell_type": "code",
   "execution_count": 3,
   "outputs": [
    {
     "data": {
      "text/plain": "True"
     },
     "execution_count": 3,
     "metadata": {},
     "output_type": "execute_result"
    }
   ],
   "source": [
    "conn.set('code', '052056')"
   ],
   "metadata": {
    "collapsed": false,
    "ExecuteTime": {
     "end_time": "2023-12-05T14:31:48.984353700Z",
     "start_time": "2023-12-05T14:31:48.891332800Z"
    }
   },
   "id": "86b88c5e6126078"
  },
  {
   "cell_type": "code",
   "execution_count": 4,
   "outputs": [
    {
     "data": {
      "text/plain": "'052056'"
     },
     "execution_count": 4,
     "metadata": {},
     "output_type": "execute_result"
    }
   ],
   "source": [
    "conn.get('code')"
   ],
   "metadata": {
    "collapsed": false,
    "ExecuteTime": {
     "end_time": "2023-12-05T14:31:48.986355300Z",
     "start_time": "2023-12-05T14:31:48.912587Z"
    }
   },
   "id": "fcf0033464307d02"
  },
  {
   "cell_type": "markdown",
   "source": [
    "# 2.使用pipeline\n",
    "在需要多次操作Redis时，可以通过pipeline将多条Redis命令缓存起来，并一起发送给Redis去处理，从而减少网络IO，提升速度的效果。"
   ],
   "metadata": {
    "collapsed": false
   },
   "id": "22538279fedc26a2"
  },
  {
   "cell_type": "code",
   "execution_count": 5,
   "outputs": [
    {
     "data": {
      "text/plain": "Pipeline<ConnectionPool<Connection<host=127.0.0.1,port=6379,db=0>>>"
     },
     "execution_count": 5,
     "metadata": {},
     "output_type": "execute_result"
    }
   ],
   "source": [
    "pipe = conn.pipeline()\n",
    "pipe"
   ],
   "metadata": {
    "collapsed": false,
    "ExecuteTime": {
     "end_time": "2023-12-05T14:31:48.986355300Z",
     "start_time": "2023-12-05T14:31:48.928353200Z"
    }
   },
   "id": "345747d138c50f1a"
  },
  {
   "cell_type": "code",
   "execution_count": 6,
   "outputs": [
    {
     "data": {
      "text/plain": "Pipeline<ConnectionPool<Connection<host=127.0.0.1,port=6379,db=0>>>"
     },
     "execution_count": 6,
     "metadata": {},
     "output_type": "execute_result"
    }
   ],
   "source": [
    "pipe.hset('language', 'Python', 1)"
   ],
   "metadata": {
    "collapsed": false,
    "ExecuteTime": {
     "end_time": "2023-12-05T14:31:48.987352700Z",
     "start_time": "2023-12-05T14:31:48.942353300Z"
    }
   },
   "id": "9953b3fbe55beb0e"
  },
  {
   "cell_type": "code",
   "execution_count": 7,
   "outputs": [
    {
     "data": {
      "text/plain": "Pipeline<ConnectionPool<Connection<host=127.0.0.1,port=6379,db=0>>>"
     },
     "execution_count": 7,
     "metadata": {},
     "output_type": "execute_result"
    }
   ],
   "source": [
    "pipe.hset('language', 'Java', 2)"
   ],
   "metadata": {
    "collapsed": false,
    "ExecuteTime": {
     "end_time": "2023-12-05T14:31:49.124461600Z",
     "start_time": "2023-12-05T14:31:48.974359700Z"
    }
   },
   "id": "aed57d655d466499"
  },
  {
   "cell_type": "code",
   "execution_count": 8,
   "outputs": [
    {
     "data": {
      "text/plain": "Pipeline<ConnectionPool<Connection<host=127.0.0.1,port=6379,db=0>>>"
     },
     "execution_count": 8,
     "metadata": {},
     "output_type": "execute_result"
    }
   ],
   "source": [
    "pipe.hset('language', 'C++', 3)"
   ],
   "metadata": {
    "collapsed": false,
    "ExecuteTime": {
     "end_time": "2023-12-05T14:31:49.152394800Z",
     "start_time": "2023-12-05T14:31:48.996356600Z"
    }
   },
   "id": "9aee97056663b767"
  },
  {
   "cell_type": "code",
   "execution_count": 9,
   "outputs": [
    {
     "data": {
      "text/plain": "[0, 0, 0]"
     },
     "execution_count": 9,
     "metadata": {},
     "output_type": "execute_result"
    }
   ],
   "source": [
    "pipe.execute()"
   ],
   "metadata": {
    "collapsed": false,
    "ExecuteTime": {
     "end_time": "2023-12-05T14:31:49.153395600Z",
     "start_time": "2023-12-05T14:31:49.021357700Z"
    }
   },
   "id": "d3d49941771b69b0"
  },
  {
   "cell_type": "code",
   "execution_count": 10,
   "outputs": [],
   "source": [
    "pipe.close()"
   ],
   "metadata": {
    "collapsed": false,
    "ExecuteTime": {
     "end_time": "2023-12-05T14:31:49.154394700Z",
     "start_time": "2023-12-05T14:31:49.039356100Z"
    }
   },
   "id": "f306d31ae56c0d8b"
  },
  {
   "cell_type": "code",
   "execution_count": 11,
   "outputs": [
    {
     "data": {
      "text/plain": "['Hadoop', 'Spark', 'Flink']"
     },
     "execution_count": 11,
     "metadata": {},
     "output_type": "execute_result"
    }
   ],
   "source": [
    "# 使用with关键字操作pipeline\n",
    "key = 'bigdata'\n",
    "bigdata = ['Hadoop', 'Spark', 'Flink']\n",
    "with conn.pipeline() as pipe:\n",
    "    for score, item in enumerate(bigdata):\n",
    "        pipe.zadd(key, {item: score})\n",
    "    pipe.execute()  # 多个命令一起发给Redis\n",
    "\n",
    "conn.zrange(key, 0, -1)"
   ],
   "metadata": {
    "collapsed": false,
    "ExecuteTime": {
     "end_time": "2023-12-05T14:31:49.155393200Z",
     "start_time": "2023-12-05T14:31:49.054354200Z"
    }
   },
   "id": "f0336f11c56140a9"
  },
  {
   "cell_type": "markdown",
   "source": [
    "# 3.分布式锁\n",
    "分布式锁的目的是为了保证同一时间只能有一个客户端对共享资源进行操作，其原理就是获取单个实例上的资源，从而实现锁住其他实例的效果。"
   ],
   "metadata": {
    "collapsed": false
   },
   "id": "5aeaa6817ce867f6"
  },
  {
   "cell_type": "code",
   "execution_count": 12,
   "outputs": [
    {
     "name": "stdout",
     "output_type": "stream",
     "text": [
      "Acquire lock successfully\n"
     ]
    }
   ],
   "source": [
    "# redis 分布式锁\n",
    "def get_lock(key, timeout=10):\n",
    "    lock = conn.lock(\n",
    "        key,  # 锁名\n",
    "        timeout=timeout,  # 阻塞超时时间，即当多个实例争夺锁时实例等待锁的最长时间\n",
    "        blocking_timeout=timeout  # 锁的超时时间\n",
    "    )\n",
    "    return lock\n",
    "\n",
    "\n",
    "key = 'lock'\n",
    "with get_lock(key, timeout=30) as lock:\n",
    "    if lock:\n",
    "        print('Acquire lock successfully')\n",
    "    else:\n",
    "        print('Acquire lock failed')"
   ],
   "metadata": {
    "collapsed": false,
    "ExecuteTime": {
     "end_time": "2023-12-05T14:31:49.157394200Z",
     "start_time": "2023-12-05T14:31:49.069515200Z"
    }
   },
   "id": "accdbf14526301d9"
  },
  {
   "cell_type": "code",
   "execution_count": 13,
   "outputs": [],
   "source": [
    "# 关闭连接\n",
    "conn.close()"
   ],
   "metadata": {
    "collapsed": false,
    "ExecuteTime": {
     "end_time": "2023-12-05T14:31:49.170393700Z",
     "start_time": "2023-12-05T14:31:49.100358300Z"
    }
   },
   "id": "b1e3f1d340d9a11"
  }
 ],
 "metadata": {
  "kernelspec": {
   "display_name": "Python 3",
   "language": "python",
   "name": "python3"
  },
  "language_info": {
   "codemirror_mode": {
    "name": "ipython",
    "version": 2
   },
   "file_extension": ".py",
   "mimetype": "text/x-python",
   "name": "python",
   "nbconvert_exporter": "python",
   "pygments_lexer": "ipython2",
   "version": "2.7.6"
  }
 },
 "nbformat": 4,
 "nbformat_minor": 5
}
